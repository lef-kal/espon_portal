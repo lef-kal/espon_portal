{
 "metadata": {
  "language_info": {
   "codemirror_mode": {
    "name": "ipython",
    "version": 3
   },
   "file_extension": ".py",
   "mimetype": "text/x-python",
   "name": "python",
   "nbconvert_exporter": "python",
   "pygments_lexer": "ipython3",
   "version": "3.9.2"
  },
  "orig_nbformat": 4,
  "kernelspec": {
   "name": "python3",
   "display_name": "Python 3.9.2 64-bit ('3.9')"
  },
  "interpreter": {
   "hash": "7812ea015bdcee6f23a998adcdd2ef97c151c0c241b7b7070987d9313e41299d"
  }
 },
 "nbformat": 4,
 "nbformat_minor": 2,
 "cells": [
  {
   "cell_type": "code",
   "execution_count": 1,
   "metadata": {},
   "outputs": [],
   "source": [
    "import pandas as pd \n",
    "import geopandas as gpd \n",
    "\n",
    "df = pd.read_csv('coal_region_renewable_energies.csv')\n",
    "gdf = gpd.read_file('NUTS_RG_03M_2013_4326_LEVL_2.geojson')"
   ]
  },
  {
   "cell_type": "code",
   "execution_count": 5,
   "metadata": {},
   "outputs": [
    {
     "output_type": "execute_result",
     "data": {
      "text/plain": [
       "tunit_name     object\n",
       "solar         float64\n",
       "wind          float64\n",
       "dtype: object"
      ]
     },
     "metadata": {},
     "execution_count": 5
    }
   ],
   "source": [
    "df.dtypes"
   ]
  },
  {
   "cell_type": "code",
   "execution_count": 3,
   "metadata": {},
   "outputs": [
    {
     "output_type": "execute_result",
     "data": {
      "text/plain": [
       "     id NUTS_ID  LEVL_CODE CNTR_CODE      NAME_LATN      NUTS_NAME   FID  \\\n",
       "0  FR24    FR24          2        FR         Centre         Centre  FR24   \n",
       "1  FR62    FR62          2        FR  Midi-Pyrénées  Midi-Pyrénées  FR62   \n",
       "2  FRA5    FRA5          2        FR        Mayotte        Mayotte  FRA5   \n",
       "3  ITF3    ITF3          2        IT       Campania       Campania  ITF3   \n",
       "4  ITF4    ITF4          2        IT         Puglia         Puglia  ITF4   \n",
       "\n",
       "                                            geometry  \n",
       "0  POLYGON ((1.50153 48.94105, 1.51200 48.93447, ...  \n",
       "1  MULTIPOLYGON (((2.06291 44.97650, 2.08070 44.9...  \n",
       "2  MULTIPOLYGON (((45.29479 -12.79293, 45.27869 -...  \n",
       "3  MULTIPOLYGON (((14.38252 41.44322, 14.40097 41...  \n",
       "4  POLYGON ((16.02474 41.42559, 16.09344 41.40064...  "
      ],
      "text/html": "<div>\n<style scoped>\n    .dataframe tbody tr th:only-of-type {\n        vertical-align: middle;\n    }\n\n    .dataframe tbody tr th {\n        vertical-align: top;\n    }\n\n    .dataframe thead th {\n        text-align: right;\n    }\n</style>\n<table border=\"1\" class=\"dataframe\">\n  <thead>\n    <tr style=\"text-align: right;\">\n      <th></th>\n      <th>id</th>\n      <th>NUTS_ID</th>\n      <th>LEVL_CODE</th>\n      <th>CNTR_CODE</th>\n      <th>NAME_LATN</th>\n      <th>NUTS_NAME</th>\n      <th>FID</th>\n      <th>geometry</th>\n    </tr>\n  </thead>\n  <tbody>\n    <tr>\n      <th>0</th>\n      <td>FR24</td>\n      <td>FR24</td>\n      <td>2</td>\n      <td>FR</td>\n      <td>Centre</td>\n      <td>Centre</td>\n      <td>FR24</td>\n      <td>POLYGON ((1.50153 48.94105, 1.51200 48.93447, ...</td>\n    </tr>\n    <tr>\n      <th>1</th>\n      <td>FR62</td>\n      <td>FR62</td>\n      <td>2</td>\n      <td>FR</td>\n      <td>Midi-Pyrénées</td>\n      <td>Midi-Pyrénées</td>\n      <td>FR62</td>\n      <td>MULTIPOLYGON (((2.06291 44.97650, 2.08070 44.9...</td>\n    </tr>\n    <tr>\n      <th>2</th>\n      <td>FRA5</td>\n      <td>FRA5</td>\n      <td>2</td>\n      <td>FR</td>\n      <td>Mayotte</td>\n      <td>Mayotte</td>\n      <td>FRA5</td>\n      <td>MULTIPOLYGON (((45.29479 -12.79293, 45.27869 -...</td>\n    </tr>\n    <tr>\n      <th>3</th>\n      <td>ITF3</td>\n      <td>ITF3</td>\n      <td>2</td>\n      <td>IT</td>\n      <td>Campania</td>\n      <td>Campania</td>\n      <td>ITF3</td>\n      <td>MULTIPOLYGON (((14.38252 41.44322, 14.40097 41...</td>\n    </tr>\n    <tr>\n      <th>4</th>\n      <td>ITF4</td>\n      <td>ITF4</td>\n      <td>2</td>\n      <td>IT</td>\n      <td>Puglia</td>\n      <td>Puglia</td>\n      <td>ITF4</td>\n      <td>POLYGON ((16.02474 41.42559, 16.09344 41.40064...</td>\n    </tr>\n  </tbody>\n</table>\n</div>"
     },
     "metadata": {},
     "execution_count": 3
    }
   ],
   "source": [
    "gdf.head()"
   ]
  },
  {
   "cell_type": "code",
   "execution_count": 8,
   "metadata": {},
   "outputs": [
    {
     "output_type": "execute_result",
     "data": {
      "text/plain": [
       "      id NUTS_ID  LEVL_CODE CNTR_CODE                         NAME_LATN  \\\n",
       "0   ITG2    ITG2          2        IT                          Sardegna   \n",
       "1   HU31    HU31          2        HU                Észak-Magyarország   \n",
       "2   ES24    ES24          2        ES                            Aragón   \n",
       "3   ES41    ES41          2        ES                   Castilla y León   \n",
       "4   ES42    ES42          2        ES                Castilla-La Mancha   \n",
       "5   EL65    EL65          2        EL                      Peloponnisos   \n",
       "6   EL53    EL53          2        EL                  Dytiki Makedonia   \n",
       "7   ES12    ES12          2        ES            Principado de Asturias   \n",
       "8   ES21    ES21          2        ES                        País Vasco   \n",
       "9   BG34    BG34          2        BG                      Yugoiztochen   \n",
       "10  BG41    BG41          2        BG                       Yugozapaden   \n",
       "11  DEA1    DEA1          2        DE                        Düsseldorf   \n",
       "12  DEA2    DEA2          2        DE                              Köln   \n",
       "13  DEA3    DEA3          2        DE                           Münster   \n",
       "14  CZ04    CZ04          2        CZ                       Severozápad   \n",
       "15  DEC0    DEC0          2        DE                          Saarland   \n",
       "16  DED2    DED2          2        DE                           Dresden   \n",
       "17  CZ08    CZ08          2        CZ                   Moravskoslezsko   \n",
       "18  DE40    DE40          2        DE                       Brandenburg   \n",
       "19  DED5    DED5          2        DE                           Leipzig   \n",
       "20  DEE0    DEE0          2        DE                    Sachsen-Anhalt   \n",
       "21  PL31    PL31          2        PL                         Lubelskie   \n",
       "22  SI03    SI03          2        SI                 Vzhodna Slovenija   \n",
       "23  SK02    SK02          2        SK                 Západné Slovensko   \n",
       "24  UKC2    UKC2          2        UK  Northumberland and Tyne and Wear   \n",
       "25  UKE2    UKE2          2        UK                   North Yorkshire   \n",
       "26  UKE3    UKE3          2        UK                   South Yorkshire   \n",
       "27  UKE4    UKE4          2        UK                    West Yorkshire   \n",
       "28  UKF1    UKF1          2        UK    Derbyshire and Nottinghamshire   \n",
       "29  UKG2    UKG2          2        UK      Shropshire and Staffordshire   \n",
       "30  UKL1    UKL1          2        UK        West Wales and The Valleys   \n",
       "31  UKL2    UKL2          2        UK                        East Wales   \n",
       "32  PL41    PL41          2        PL                     Wielkopolskie   \n",
       "33  PL51    PL51          2        PL                      Dolnoslaskie   \n",
       "34  PL11    PL11          2        PL                           Lódzkie   \n",
       "35  RO41    RO41          2        RO                  Sud-Vest Oltenia   \n",
       "36  RO42    RO42          2        RO                              Vest   \n",
       "37  PL21    PL21          2        PL                       Malopolskie   \n",
       "38  PL22    PL22          2        PL                           Slaskie   \n",
       "39  UKM2    UKM2          2        UK                  Eastern Scotland   \n",
       "40  UKM3    UKM3          2        UK            South Western Scotland   \n",
       "\n",
       "                           NUTS_NAME   FID  \\\n",
       "0                           Sardegna  ITG2   \n",
       "1                 Észak-Magyarország  HU31   \n",
       "2                             Aragón  ES24   \n",
       "3                    Castilla y León  ES41   \n",
       "4                 Castilla-La Mancha  ES42   \n",
       "5                       Πελοπόννησος  EL65   \n",
       "6                   Δυτική Μακεδονία  EL53   \n",
       "7             Principado de Asturias  ES12   \n",
       "8                         País Vasco  ES21   \n",
       "9                         Югоизточен  BG34   \n",
       "10                        Югозападен  BG41   \n",
       "11                        Düsseldorf  DEA1   \n",
       "12                              Köln  DEA2   \n",
       "13                           Münster  DEA3   \n",
       "14                       Severozápad  CZ04   \n",
       "15                          Saarland  DEC0   \n",
       "16                           Dresden  DED2   \n",
       "17                   Moravskoslezsko  CZ08   \n",
       "18                       Brandenburg  DE40   \n",
       "19                           Leipzig  DED5   \n",
       "20                    Sachsen-Anhalt  DEE0   \n",
       "21                         Lubelskie  PL31   \n",
       "22                 Vzhodna Slovenija  SI03   \n",
       "23                 Západné Slovensko  SK02   \n",
       "24  Northumberland and Tyne and Wear  UKC2   \n",
       "25                   North Yorkshire  UKE2   \n",
       "26                   South Yorkshire  UKE3   \n",
       "27                    West Yorkshire  UKE4   \n",
       "28    Derbyshire and Nottinghamshire  UKF1   \n",
       "29      Shropshire and Staffordshire  UKG2   \n",
       "30        West Wales and The Valleys  UKL1   \n",
       "31                        East Wales  UKL2   \n",
       "32                     Wielkopolskie  PL41   \n",
       "33                      Dolnoslaskie  PL51   \n",
       "34                           Lódzkie  PL11   \n",
       "35                  Sud-Vest Oltenia  RO41   \n",
       "36                              Vest  RO42   \n",
       "37                       Malopolskie  PL21   \n",
       "38                           Slaskie  PL22   \n",
       "39                  Eastern Scotland  UKM2   \n",
       "40            South Western Scotland  UKM3   \n",
       "\n",
       "                                             geometry tunit_name  solar   wind  \n",
       "0   MULTIPOLYGON (((9.74887 40.66041, 9.74668 40.6...       ITG2  17.80  16.30  \n",
       "1   POLYGON ((22.12108 48.37831, 22.11803 48.36196...       HU31  13.85  39.94  \n",
       "2   POLYGON ((-0.31334 42.84936, -0.30183 42.83998...       ES24  18.45  27.35  \n",
       "3   MULTIPOLYGON (((-4.84104 43.18071, -4.85179 43...       ES41  17.63  25.54  \n",
       "4   POLYGON ((-2.05169 41.14686, -2.03840 41.15509...       ES42  18.98  20.15  \n",
       "5   MULTIPOLYGON (((23.12003 37.72998, 23.15704 37...       EL65  17.89  17.20  \n",
       "6   POLYGON ((21.78738 40.93113, 21.80732 40.90838...       EL53  16.26  24.87  \n",
       "7   POLYGON ((-4.51230 43.39320, -4.51086 43.37982...       ES12  13.87  15.12  \n",
       "8   POLYGON ((-2.41285 43.32108, -2.37371 43.31029...       ES21  13.93  13.07  \n",
       "9   POLYGON ((26.57773 42.98570, 26.56101 42.97107...       BG34  15.39  14.05  \n",
       "10  POLYGON ((23.41277 43.16052, 23.43540 43.15009...       BG41  15.16  14.05  \n",
       "11  POLYGON ((6.16777 51.90080, 6.19112 51.89164, ...       DEA1  11.65  30.90  \n",
       "12  POLYGON ((7.43334 51.21441, 7.42999 51.20482, ...       DEA2  11.69  20.28  \n",
       "13  POLYGON ((7.96463 52.32486, 7.99061 52.30954, ...       DEA3  11.49  25.88  \n",
       "14  POLYGON ((14.31787 51.05470, 14.33503 51.03969...       CZ04  11.75  15.37  \n",
       "15  POLYGON ((7.27662 49.54862, 7.27704 49.53735, ...       DEC0  12.23  15.25  \n",
       "16  POLYGON ((14.97418 51.36395, 14.96504 51.36179...       DED2  11.76  17.08  \n",
       "17  POLYGON ((18.03506 50.06577, 18.06176 50.05915...       CZ08  11.91  38.19  \n",
       "18  POLYGON ((14.41216 53.32964, 14.41545 53.32437...       DE40  11.80  14.41  \n",
       "19  POLYGON ((13.05102 51.64768, 13.08630 51.60813...       DED5  12.08  28.46  \n",
       "20  POLYGON ((12.12681 52.89020, 12.12021 52.87551...       DEE0  12.06  18.47  \n",
       "21  POLYGON ((23.17834 52.28314, 23.20443 52.27566...       PL31  12.10  28.15  \n",
       "22  POLYGON ((16.37079 46.72224, 16.37985 46.71202...       SI03  13.97   8.88  \n",
       "23  POLYGON ((18.82635 48.74406, 18.79615 48.70062...       SK02  13.56  16.79  \n",
       "24  MULTIPOLYGON (((-1.46169 55.07439, -1.45131 55...       UKC2  10.26  29.16  \n",
       "25  POLYGON ((-0.21245 54.15763, -0.22965 54.13247...       UKE2  10.42  25.08  \n",
       "26  POLYGON ((-0.86527 53.63773, -0.88693 53.60971...       UKE3  10.66  26.00  \n",
       "27  POLYGON ((-1.72717 53.91024, -1.70473 53.91824...       UKE4  10.32   4.73  \n",
       "28  POLYGON ((-1.82219 53.52112, -1.81948 53.51346...       UKF1  10.78  47.78  \n",
       "29  POLYGON ((-1.59751 52.70043, -1.58625 52.69451...       UKG2  10.82  63.84  \n",
       "30  MULTIPOLYGON (((-3.37501 52.89247, -3.38893 52...       UKL1  10.74   9.55  \n",
       "31  POLYGON ((-3.08419 53.25612, -3.02585 53.24847...       UKL2  10.70  17.12  \n",
       "32  POLYGON ((17.39065 53.49096, 17.38249 53.46860...       PL41  11.99  22.84  \n",
       "33  POLYGON ((16.41619 51.78487, 16.45190 51.78773...       PL51  12.03  16.16  \n",
       "34  POLYGON ((19.93610 52.29973, 19.93925 52.28934...       PL11  12.00  41.85  \n",
       "35  POLYGON ((24.51283 45.58682, 24.51291 45.57136...       RO41  14.87  60.01  \n",
       "36  POLYGON ((22.67658 46.40583, 22.68068 46.38769...       RO42  13.96  11.58  \n",
       "37  POLYGON ((20.68154 50.20587, 20.68193 50.21654...       PL21  12.01  55.08  \n",
       "38  POLYGON ((19.24314 51.03684, 19.25057 51.04001...       PL22  11.95  67.41  \n",
       "39  POLYGON ((-2.42535 56.75519, -2.44232 56.72524...       UKM2   9.68  12.37  \n",
       "40  POLYGON ((-4.15238 56.00814, -4.12347 56.01008...       UKM3   9.80   9.60  "
      ],
      "text/html": "<div>\n<style scoped>\n    .dataframe tbody tr th:only-of-type {\n        vertical-align: middle;\n    }\n\n    .dataframe tbody tr th {\n        vertical-align: top;\n    }\n\n    .dataframe thead th {\n        text-align: right;\n    }\n</style>\n<table border=\"1\" class=\"dataframe\">\n  <thead>\n    <tr style=\"text-align: right;\">\n      <th></th>\n      <th>id</th>\n      <th>NUTS_ID</th>\n      <th>LEVL_CODE</th>\n      <th>CNTR_CODE</th>\n      <th>NAME_LATN</th>\n      <th>NUTS_NAME</th>\n      <th>FID</th>\n      <th>geometry</th>\n      <th>tunit_name</th>\n      <th>solar</th>\n      <th>wind</th>\n    </tr>\n  </thead>\n  <tbody>\n    <tr>\n      <th>0</th>\n      <td>ITG2</td>\n      <td>ITG2</td>\n      <td>2</td>\n      <td>IT</td>\n      <td>Sardegna</td>\n      <td>Sardegna</td>\n      <td>ITG2</td>\n      <td>MULTIPOLYGON (((9.74887 40.66041, 9.74668 40.6...</td>\n      <td>ITG2</td>\n      <td>17.80</td>\n      <td>16.30</td>\n    </tr>\n    <tr>\n      <th>1</th>\n      <td>HU31</td>\n      <td>HU31</td>\n      <td>2</td>\n      <td>HU</td>\n      <td>Észak-Magyarország</td>\n      <td>Észak-Magyarország</td>\n      <td>HU31</td>\n      <td>POLYGON ((22.12108 48.37831, 22.11803 48.36196...</td>\n      <td>HU31</td>\n      <td>13.85</td>\n      <td>39.94</td>\n    </tr>\n    <tr>\n      <th>2</th>\n      <td>ES24</td>\n      <td>ES24</td>\n      <td>2</td>\n      <td>ES</td>\n      <td>Aragón</td>\n      <td>Aragón</td>\n      <td>ES24</td>\n      <td>POLYGON ((-0.31334 42.84936, -0.30183 42.83998...</td>\n      <td>ES24</td>\n      <td>18.45</td>\n      <td>27.35</td>\n    </tr>\n    <tr>\n      <th>3</th>\n      <td>ES41</td>\n      <td>ES41</td>\n      <td>2</td>\n      <td>ES</td>\n      <td>Castilla y León</td>\n      <td>Castilla y León</td>\n      <td>ES41</td>\n      <td>MULTIPOLYGON (((-4.84104 43.18071, -4.85179 43...</td>\n      <td>ES41</td>\n      <td>17.63</td>\n      <td>25.54</td>\n    </tr>\n    <tr>\n      <th>4</th>\n      <td>ES42</td>\n      <td>ES42</td>\n      <td>2</td>\n      <td>ES</td>\n      <td>Castilla-La Mancha</td>\n      <td>Castilla-La Mancha</td>\n      <td>ES42</td>\n      <td>POLYGON ((-2.05169 41.14686, -2.03840 41.15509...</td>\n      <td>ES42</td>\n      <td>18.98</td>\n      <td>20.15</td>\n    </tr>\n    <tr>\n      <th>5</th>\n      <td>EL65</td>\n      <td>EL65</td>\n      <td>2</td>\n      <td>EL</td>\n      <td>Peloponnisos</td>\n      <td>Πελοπόννησος</td>\n      <td>EL65</td>\n      <td>MULTIPOLYGON (((23.12003 37.72998, 23.15704 37...</td>\n      <td>EL65</td>\n      <td>17.89</td>\n      <td>17.20</td>\n    </tr>\n    <tr>\n      <th>6</th>\n      <td>EL53</td>\n      <td>EL53</td>\n      <td>2</td>\n      <td>EL</td>\n      <td>Dytiki Makedonia</td>\n      <td>Δυτική Μακεδονία</td>\n      <td>EL53</td>\n      <td>POLYGON ((21.78738 40.93113, 21.80732 40.90838...</td>\n      <td>EL53</td>\n      <td>16.26</td>\n      <td>24.87</td>\n    </tr>\n    <tr>\n      <th>7</th>\n      <td>ES12</td>\n      <td>ES12</td>\n      <td>2</td>\n      <td>ES</td>\n      <td>Principado de Asturias</td>\n      <td>Principado de Asturias</td>\n      <td>ES12</td>\n      <td>POLYGON ((-4.51230 43.39320, -4.51086 43.37982...</td>\n      <td>ES12</td>\n      <td>13.87</td>\n      <td>15.12</td>\n    </tr>\n    <tr>\n      <th>8</th>\n      <td>ES21</td>\n      <td>ES21</td>\n      <td>2</td>\n      <td>ES</td>\n      <td>País Vasco</td>\n      <td>País Vasco</td>\n      <td>ES21</td>\n      <td>POLYGON ((-2.41285 43.32108, -2.37371 43.31029...</td>\n      <td>ES21</td>\n      <td>13.93</td>\n      <td>13.07</td>\n    </tr>\n    <tr>\n      <th>9</th>\n      <td>BG34</td>\n      <td>BG34</td>\n      <td>2</td>\n      <td>BG</td>\n      <td>Yugoiztochen</td>\n      <td>Югоизточен</td>\n      <td>BG34</td>\n      <td>POLYGON ((26.57773 42.98570, 26.56101 42.97107...</td>\n      <td>BG34</td>\n      <td>15.39</td>\n      <td>14.05</td>\n    </tr>\n    <tr>\n      <th>10</th>\n      <td>BG41</td>\n      <td>BG41</td>\n      <td>2</td>\n      <td>BG</td>\n      <td>Yugozapaden</td>\n      <td>Югозападен</td>\n      <td>BG41</td>\n      <td>POLYGON ((23.41277 43.16052, 23.43540 43.15009...</td>\n      <td>BG41</td>\n      <td>15.16</td>\n      <td>14.05</td>\n    </tr>\n    <tr>\n      <th>11</th>\n      <td>DEA1</td>\n      <td>DEA1</td>\n      <td>2</td>\n      <td>DE</td>\n      <td>Düsseldorf</td>\n      <td>Düsseldorf</td>\n      <td>DEA1</td>\n      <td>POLYGON ((6.16777 51.90080, 6.19112 51.89164, ...</td>\n      <td>DEA1</td>\n      <td>11.65</td>\n      <td>30.90</td>\n    </tr>\n    <tr>\n      <th>12</th>\n      <td>DEA2</td>\n      <td>DEA2</td>\n      <td>2</td>\n      <td>DE</td>\n      <td>Köln</td>\n      <td>Köln</td>\n      <td>DEA2</td>\n      <td>POLYGON ((7.43334 51.21441, 7.42999 51.20482, ...</td>\n      <td>DEA2</td>\n      <td>11.69</td>\n      <td>20.28</td>\n    </tr>\n    <tr>\n      <th>13</th>\n      <td>DEA3</td>\n      <td>DEA3</td>\n      <td>2</td>\n      <td>DE</td>\n      <td>Münster</td>\n      <td>Münster</td>\n      <td>DEA3</td>\n      <td>POLYGON ((7.96463 52.32486, 7.99061 52.30954, ...</td>\n      <td>DEA3</td>\n      <td>11.49</td>\n      <td>25.88</td>\n    </tr>\n    <tr>\n      <th>14</th>\n      <td>CZ04</td>\n      <td>CZ04</td>\n      <td>2</td>\n      <td>CZ</td>\n      <td>Severozápad</td>\n      <td>Severozápad</td>\n      <td>CZ04</td>\n      <td>POLYGON ((14.31787 51.05470, 14.33503 51.03969...</td>\n      <td>CZ04</td>\n      <td>11.75</td>\n      <td>15.37</td>\n    </tr>\n    <tr>\n      <th>15</th>\n      <td>DEC0</td>\n      <td>DEC0</td>\n      <td>2</td>\n      <td>DE</td>\n      <td>Saarland</td>\n      <td>Saarland</td>\n      <td>DEC0</td>\n      <td>POLYGON ((7.27662 49.54862, 7.27704 49.53735, ...</td>\n      <td>DEC0</td>\n      <td>12.23</td>\n      <td>15.25</td>\n    </tr>\n    <tr>\n      <th>16</th>\n      <td>DED2</td>\n      <td>DED2</td>\n      <td>2</td>\n      <td>DE</td>\n      <td>Dresden</td>\n      <td>Dresden</td>\n      <td>DED2</td>\n      <td>POLYGON ((14.97418 51.36395, 14.96504 51.36179...</td>\n      <td>DED2</td>\n      <td>11.76</td>\n      <td>17.08</td>\n    </tr>\n    <tr>\n      <th>17</th>\n      <td>CZ08</td>\n      <td>CZ08</td>\n      <td>2</td>\n      <td>CZ</td>\n      <td>Moravskoslezsko</td>\n      <td>Moravskoslezsko</td>\n      <td>CZ08</td>\n      <td>POLYGON ((18.03506 50.06577, 18.06176 50.05915...</td>\n      <td>CZ08</td>\n      <td>11.91</td>\n      <td>38.19</td>\n    </tr>\n    <tr>\n      <th>18</th>\n      <td>DE40</td>\n      <td>DE40</td>\n      <td>2</td>\n      <td>DE</td>\n      <td>Brandenburg</td>\n      <td>Brandenburg</td>\n      <td>DE40</td>\n      <td>POLYGON ((14.41216 53.32964, 14.41545 53.32437...</td>\n      <td>DE40</td>\n      <td>11.80</td>\n      <td>14.41</td>\n    </tr>\n    <tr>\n      <th>19</th>\n      <td>DED5</td>\n      <td>DED5</td>\n      <td>2</td>\n      <td>DE</td>\n      <td>Leipzig</td>\n      <td>Leipzig</td>\n      <td>DED5</td>\n      <td>POLYGON ((13.05102 51.64768, 13.08630 51.60813...</td>\n      <td>DED5</td>\n      <td>12.08</td>\n      <td>28.46</td>\n    </tr>\n    <tr>\n      <th>20</th>\n      <td>DEE0</td>\n      <td>DEE0</td>\n      <td>2</td>\n      <td>DE</td>\n      <td>Sachsen-Anhalt</td>\n      <td>Sachsen-Anhalt</td>\n      <td>DEE0</td>\n      <td>POLYGON ((12.12681 52.89020, 12.12021 52.87551...</td>\n      <td>DEE0</td>\n      <td>12.06</td>\n      <td>18.47</td>\n    </tr>\n    <tr>\n      <th>21</th>\n      <td>PL31</td>\n      <td>PL31</td>\n      <td>2</td>\n      <td>PL</td>\n      <td>Lubelskie</td>\n      <td>Lubelskie</td>\n      <td>PL31</td>\n      <td>POLYGON ((23.17834 52.28314, 23.20443 52.27566...</td>\n      <td>PL31</td>\n      <td>12.10</td>\n      <td>28.15</td>\n    </tr>\n    <tr>\n      <th>22</th>\n      <td>SI03</td>\n      <td>SI03</td>\n      <td>2</td>\n      <td>SI</td>\n      <td>Vzhodna Slovenija</td>\n      <td>Vzhodna Slovenija</td>\n      <td>SI03</td>\n      <td>POLYGON ((16.37079 46.72224, 16.37985 46.71202...</td>\n      <td>SI03</td>\n      <td>13.97</td>\n      <td>8.88</td>\n    </tr>\n    <tr>\n      <th>23</th>\n      <td>SK02</td>\n      <td>SK02</td>\n      <td>2</td>\n      <td>SK</td>\n      <td>Západné Slovensko</td>\n      <td>Západné Slovensko</td>\n      <td>SK02</td>\n      <td>POLYGON ((18.82635 48.74406, 18.79615 48.70062...</td>\n      <td>SK02</td>\n      <td>13.56</td>\n      <td>16.79</td>\n    </tr>\n    <tr>\n      <th>24</th>\n      <td>UKC2</td>\n      <td>UKC2</td>\n      <td>2</td>\n      <td>UK</td>\n      <td>Northumberland and Tyne and Wear</td>\n      <td>Northumberland and Tyne and Wear</td>\n      <td>UKC2</td>\n      <td>MULTIPOLYGON (((-1.46169 55.07439, -1.45131 55...</td>\n      <td>UKC2</td>\n      <td>10.26</td>\n      <td>29.16</td>\n    </tr>\n    <tr>\n      <th>25</th>\n      <td>UKE2</td>\n      <td>UKE2</td>\n      <td>2</td>\n      <td>UK</td>\n      <td>North Yorkshire</td>\n      <td>North Yorkshire</td>\n      <td>UKE2</td>\n      <td>POLYGON ((-0.21245 54.15763, -0.22965 54.13247...</td>\n      <td>UKE2</td>\n      <td>10.42</td>\n      <td>25.08</td>\n    </tr>\n    <tr>\n      <th>26</th>\n      <td>UKE3</td>\n      <td>UKE3</td>\n      <td>2</td>\n      <td>UK</td>\n      <td>South Yorkshire</td>\n      <td>South Yorkshire</td>\n      <td>UKE3</td>\n      <td>POLYGON ((-0.86527 53.63773, -0.88693 53.60971...</td>\n      <td>UKE3</td>\n      <td>10.66</td>\n      <td>26.00</td>\n    </tr>\n    <tr>\n      <th>27</th>\n      <td>UKE4</td>\n      <td>UKE4</td>\n      <td>2</td>\n      <td>UK</td>\n      <td>West Yorkshire</td>\n      <td>West Yorkshire</td>\n      <td>UKE4</td>\n      <td>POLYGON ((-1.72717 53.91024, -1.70473 53.91824...</td>\n      <td>UKE4</td>\n      <td>10.32</td>\n      <td>4.73</td>\n    </tr>\n    <tr>\n      <th>28</th>\n      <td>UKF1</td>\n      <td>UKF1</td>\n      <td>2</td>\n      <td>UK</td>\n      <td>Derbyshire and Nottinghamshire</td>\n      <td>Derbyshire and Nottinghamshire</td>\n      <td>UKF1</td>\n      <td>POLYGON ((-1.82219 53.52112, -1.81948 53.51346...</td>\n      <td>UKF1</td>\n      <td>10.78</td>\n      <td>47.78</td>\n    </tr>\n    <tr>\n      <th>29</th>\n      <td>UKG2</td>\n      <td>UKG2</td>\n      <td>2</td>\n      <td>UK</td>\n      <td>Shropshire and Staffordshire</td>\n      <td>Shropshire and Staffordshire</td>\n      <td>UKG2</td>\n      <td>POLYGON ((-1.59751 52.70043, -1.58625 52.69451...</td>\n      <td>UKG2</td>\n      <td>10.82</td>\n      <td>63.84</td>\n    </tr>\n    <tr>\n      <th>30</th>\n      <td>UKL1</td>\n      <td>UKL1</td>\n      <td>2</td>\n      <td>UK</td>\n      <td>West Wales and The Valleys</td>\n      <td>West Wales and The Valleys</td>\n      <td>UKL1</td>\n      <td>MULTIPOLYGON (((-3.37501 52.89247, -3.38893 52...</td>\n      <td>UKL1</td>\n      <td>10.74</td>\n      <td>9.55</td>\n    </tr>\n    <tr>\n      <th>31</th>\n      <td>UKL2</td>\n      <td>UKL2</td>\n      <td>2</td>\n      <td>UK</td>\n      <td>East Wales</td>\n      <td>East Wales</td>\n      <td>UKL2</td>\n      <td>POLYGON ((-3.08419 53.25612, -3.02585 53.24847...</td>\n      <td>UKL2</td>\n      <td>10.70</td>\n      <td>17.12</td>\n    </tr>\n    <tr>\n      <th>32</th>\n      <td>PL41</td>\n      <td>PL41</td>\n      <td>2</td>\n      <td>PL</td>\n      <td>Wielkopolskie</td>\n      <td>Wielkopolskie</td>\n      <td>PL41</td>\n      <td>POLYGON ((17.39065 53.49096, 17.38249 53.46860...</td>\n      <td>PL41</td>\n      <td>11.99</td>\n      <td>22.84</td>\n    </tr>\n    <tr>\n      <th>33</th>\n      <td>PL51</td>\n      <td>PL51</td>\n      <td>2</td>\n      <td>PL</td>\n      <td>Dolnoslaskie</td>\n      <td>Dolnoslaskie</td>\n      <td>PL51</td>\n      <td>POLYGON ((16.41619 51.78487, 16.45190 51.78773...</td>\n      <td>PL51</td>\n      <td>12.03</td>\n      <td>16.16</td>\n    </tr>\n    <tr>\n      <th>34</th>\n      <td>PL11</td>\n      <td>PL11</td>\n      <td>2</td>\n      <td>PL</td>\n      <td>Lódzkie</td>\n      <td>Lódzkie</td>\n      <td>PL11</td>\n      <td>POLYGON ((19.93610 52.29973, 19.93925 52.28934...</td>\n      <td>PL11</td>\n      <td>12.00</td>\n      <td>41.85</td>\n    </tr>\n    <tr>\n      <th>35</th>\n      <td>RO41</td>\n      <td>RO41</td>\n      <td>2</td>\n      <td>RO</td>\n      <td>Sud-Vest Oltenia</td>\n      <td>Sud-Vest Oltenia</td>\n      <td>RO41</td>\n      <td>POLYGON ((24.51283 45.58682, 24.51291 45.57136...</td>\n      <td>RO41</td>\n      <td>14.87</td>\n      <td>60.01</td>\n    </tr>\n    <tr>\n      <th>36</th>\n      <td>RO42</td>\n      <td>RO42</td>\n      <td>2</td>\n      <td>RO</td>\n      <td>Vest</td>\n      <td>Vest</td>\n      <td>RO42</td>\n      <td>POLYGON ((22.67658 46.40583, 22.68068 46.38769...</td>\n      <td>RO42</td>\n      <td>13.96</td>\n      <td>11.58</td>\n    </tr>\n    <tr>\n      <th>37</th>\n      <td>PL21</td>\n      <td>PL21</td>\n      <td>2</td>\n      <td>PL</td>\n      <td>Malopolskie</td>\n      <td>Malopolskie</td>\n      <td>PL21</td>\n      <td>POLYGON ((20.68154 50.20587, 20.68193 50.21654...</td>\n      <td>PL21</td>\n      <td>12.01</td>\n      <td>55.08</td>\n    </tr>\n    <tr>\n      <th>38</th>\n      <td>PL22</td>\n      <td>PL22</td>\n      <td>2</td>\n      <td>PL</td>\n      <td>Slaskie</td>\n      <td>Slaskie</td>\n      <td>PL22</td>\n      <td>POLYGON ((19.24314 51.03684, 19.25057 51.04001...</td>\n      <td>PL22</td>\n      <td>11.95</td>\n      <td>67.41</td>\n    </tr>\n    <tr>\n      <th>39</th>\n      <td>UKM2</td>\n      <td>UKM2</td>\n      <td>2</td>\n      <td>UK</td>\n      <td>Eastern Scotland</td>\n      <td>Eastern Scotland</td>\n      <td>UKM2</td>\n      <td>POLYGON ((-2.42535 56.75519, -2.44232 56.72524...</td>\n      <td>UKM2</td>\n      <td>9.68</td>\n      <td>12.37</td>\n    </tr>\n    <tr>\n      <th>40</th>\n      <td>UKM3</td>\n      <td>UKM3</td>\n      <td>2</td>\n      <td>UK</td>\n      <td>South Western Scotland</td>\n      <td>South Western Scotland</td>\n      <td>UKM3</td>\n      <td>POLYGON ((-4.15238 56.00814, -4.12347 56.01008...</td>\n      <td>UKM3</td>\n      <td>9.80</td>\n      <td>9.60</td>\n    </tr>\n  </tbody>\n</table>\n</div>"
     },
     "metadata": {},
     "execution_count": 8
    }
   ],
   "source": [
    "df_tot = gdf.merge(df, left_on='FID', right_on='tunit_name')\n",
    "df_tot"
   ]
  },
  {
   "cell_type": "code",
   "execution_count": 11,
   "metadata": {},
   "outputs": [],
   "source": [
    "df_tot.to_file('ren_avail.geojson', driver='GeoJSON')"
   ]
  },
  {
   "cell_type": "code",
   "execution_count": null,
   "metadata": {},
   "outputs": [],
   "source": []
  }
 ]
}