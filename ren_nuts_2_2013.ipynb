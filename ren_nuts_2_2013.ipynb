{
 "metadata": {
  "language_info": {
   "codemirror_mode": {
    "name": "ipython",
    "version": 3
   },
   "file_extension": ".py",
   "mimetype": "text/x-python",
   "name": "python",
   "nbconvert_exporter": "python",
   "pygments_lexer": "ipython3",
   "version": "3.9.2"
  },
  "orig_nbformat": 4,
  "kernelspec": {
   "name": "python3",
   "display_name": "Python 3.9.2 64-bit ('3.9')"
  },
  "interpreter": {
   "hash": "7812ea015bdcee6f23a998adcdd2ef97c151c0c241b7b7070987d9313e41299d"
  }
 },
 "nbformat": 4,
 "nbformat_minor": 2,
 "cells": [
  {
   "cell_type": "code",
   "execution_count": 12,
   "metadata": {},
   "outputs": [],
   "source": [
    "import pandas as pd \n",
    "import geopandas as gpd \n",
    "\n",
    "df = pd.read_csv('market_aff.csv')\n",
    "gdf = gpd.read_file('NUTS_RG_03M_2013_4326_LEVL_2.geojson')"
   ]
  },
  {
   "cell_type": "code",
   "execution_count": 14,
   "metadata": {},
   "outputs": [
    {
     "output_type": "execute_result",
     "data": {
      "text/plain": [
       "  tunit_code   TOTAL\n",
       "0       IE02   366.0\n",
       "1       EL53  1008.0\n",
       "2       EL65   210.0\n",
       "3       ES11   117.0\n",
       "4       ES12   589.0"
      ],
      "text/html": "<div>\n<style scoped>\n    .dataframe tbody tr th:only-of-type {\n        vertical-align: middle;\n    }\n\n    .dataframe tbody tr th {\n        vertical-align: top;\n    }\n\n    .dataframe thead th {\n        text-align: right;\n    }\n</style>\n<table border=\"1\" class=\"dataframe\">\n  <thead>\n    <tr style=\"text-align: right;\">\n      <th></th>\n      <th>tunit_code</th>\n      <th>TOTAL</th>\n    </tr>\n  </thead>\n  <tbody>\n    <tr>\n      <th>0</th>\n      <td>IE02</td>\n      <td>366.0</td>\n    </tr>\n    <tr>\n      <th>1</th>\n      <td>EL53</td>\n      <td>1008.0</td>\n    </tr>\n    <tr>\n      <th>2</th>\n      <td>EL65</td>\n      <td>210.0</td>\n    </tr>\n    <tr>\n      <th>3</th>\n      <td>ES11</td>\n      <td>117.0</td>\n    </tr>\n    <tr>\n      <th>4</th>\n      <td>ES12</td>\n      <td>589.0</td>\n    </tr>\n  </tbody>\n</table>\n</div>"
     },
     "metadata": {},
     "execution_count": 14
    }
   ],
   "source": [
    "df = df[['tunit_code', 'TOTAL']]\n",
    "df = pd.DataFrame(df)\n",
    "df.head()"
   ]
  },
  {
   "cell_type": "code",
   "execution_count": 15,
   "metadata": {},
   "outputs": [
    {
     "output_type": "execute_result",
     "data": {
      "text/plain": [
       "     id NUTS_ID  LEVL_CODE CNTR_CODE      NAME_LATN      NUTS_NAME   FID  \\\n",
       "0  FR24    FR24          2        FR         Centre         Centre  FR24   \n",
       "1  FR62    FR62          2        FR  Midi-Pyrénées  Midi-Pyrénées  FR62   \n",
       "2  FRA5    FRA5          2        FR        Mayotte        Mayotte  FRA5   \n",
       "3  ITF3    ITF3          2        IT       Campania       Campania  ITF3   \n",
       "4  ITF4    ITF4          2        IT         Puglia         Puglia  ITF4   \n",
       "\n",
       "                                            geometry  \n",
       "0  POLYGON ((1.50153 48.94105, 1.51200 48.93447, ...  \n",
       "1  MULTIPOLYGON (((2.06291 44.97650, 2.08070 44.9...  \n",
       "2  MULTIPOLYGON (((45.29479 -12.79293, 45.27869 -...  \n",
       "3  MULTIPOLYGON (((14.38252 41.44322, 14.40097 41...  \n",
       "4  POLYGON ((16.02474 41.42559, 16.09344 41.40064...  "
      ],
      "text/html": "<div>\n<style scoped>\n    .dataframe tbody tr th:only-of-type {\n        vertical-align: middle;\n    }\n\n    .dataframe tbody tr th {\n        vertical-align: top;\n    }\n\n    .dataframe thead th {\n        text-align: right;\n    }\n</style>\n<table border=\"1\" class=\"dataframe\">\n  <thead>\n    <tr style=\"text-align: right;\">\n      <th></th>\n      <th>id</th>\n      <th>NUTS_ID</th>\n      <th>LEVL_CODE</th>\n      <th>CNTR_CODE</th>\n      <th>NAME_LATN</th>\n      <th>NUTS_NAME</th>\n      <th>FID</th>\n      <th>geometry</th>\n    </tr>\n  </thead>\n  <tbody>\n    <tr>\n      <th>0</th>\n      <td>FR24</td>\n      <td>FR24</td>\n      <td>2</td>\n      <td>FR</td>\n      <td>Centre</td>\n      <td>Centre</td>\n      <td>FR24</td>\n      <td>POLYGON ((1.50153 48.94105, 1.51200 48.93447, ...</td>\n    </tr>\n    <tr>\n      <th>1</th>\n      <td>FR62</td>\n      <td>FR62</td>\n      <td>2</td>\n      <td>FR</td>\n      <td>Midi-Pyrénées</td>\n      <td>Midi-Pyrénées</td>\n      <td>FR62</td>\n      <td>MULTIPOLYGON (((2.06291 44.97650, 2.08070 44.9...</td>\n    </tr>\n    <tr>\n      <th>2</th>\n      <td>FRA5</td>\n      <td>FRA5</td>\n      <td>2</td>\n      <td>FR</td>\n      <td>Mayotte</td>\n      <td>Mayotte</td>\n      <td>FRA5</td>\n      <td>MULTIPOLYGON (((45.29479 -12.79293, 45.27869 -...</td>\n    </tr>\n    <tr>\n      <th>3</th>\n      <td>ITF3</td>\n      <td>ITF3</td>\n      <td>2</td>\n      <td>IT</td>\n      <td>Campania</td>\n      <td>Campania</td>\n      <td>ITF3</td>\n      <td>MULTIPOLYGON (((14.38252 41.44322, 14.40097 41...</td>\n    </tr>\n    <tr>\n      <th>4</th>\n      <td>ITF4</td>\n      <td>ITF4</td>\n      <td>2</td>\n      <td>IT</td>\n      <td>Puglia</td>\n      <td>Puglia</td>\n      <td>ITF4</td>\n      <td>POLYGON ((16.02474 41.42559, 16.09344 41.40064...</td>\n    </tr>\n  </tbody>\n</table>\n</div>"
     },
     "metadata": {},
     "execution_count": 15
    }
   ],
   "source": [
    "gdf.head()"
   ]
  },
  {
   "cell_type": "code",
   "execution_count": 16,
   "metadata": {},
   "outputs": [
    {
     "output_type": "execute_result",
     "data": {
      "text/plain": [
       "       id NUTS_ID  LEVL_CODE CNTR_CODE              NAME_LATN  \\\n",
       "0    ITF4    ITF4          2        IT                 Puglia   \n",
       "1    ITH3    ITH3          2        IT                 Veneto   \n",
       "2    ITH4    ITH4          2        IT  Friuli-Venezia Giulia   \n",
       "3    ITG2    ITG2          2        IT               Sardegna   \n",
       "4    NL33    NL33          2        NL           Zuid-Holland   \n",
       "..    ...     ...        ...       ...                    ...   \n",
       "98   PL21    PL21          2        PL            Malopolskie   \n",
       "99   PL22    PL22          2        PL                Slaskie   \n",
       "100  PT16    PT16          2        PT            Centro (PT)   \n",
       "101  SE11    SE11          2        SE              Stockholm   \n",
       "102  UKM2    UKM2          2        UK       Eastern Scotland   \n",
       "\n",
       "                 NUTS_NAME   FID  \\\n",
       "0                   Puglia  ITF4   \n",
       "1                   Veneto  ITH3   \n",
       "2    Friuli-Venezia Giulia  ITH4   \n",
       "3                 Sardegna  ITG2   \n",
       "4             Zuid-Holland  NL33   \n",
       "..                     ...   ...   \n",
       "98             Malopolskie  PL21   \n",
       "99                 Slaskie  PL22   \n",
       "100            Centro (PT)  PT16   \n",
       "101              Stockholm  SE11   \n",
       "102       Eastern Scotland  UKM2   \n",
       "\n",
       "                                              geometry tunit_code   TOTAL  \n",
       "0    POLYGON ((16.02474 41.42559, 16.09344 41.40064...       ITF4    94.0  \n",
       "1    MULTIPOLYGON (((12.69064 46.65697, 12.71644 46...       ITH3   237.0  \n",
       "2    MULTIPOLYGON (((13.50425 46.56630, 13.51989 46...       ITH4    99.0  \n",
       "3    MULTIPOLYGON (((9.74887 40.66041, 9.74668 40.6...       ITG2   165.0  \n",
       "4    POLYGON ((4.61168 52.31359, 4.58842 52.28046, ...       NL33   455.0  \n",
       "..                                                 ...        ...     ...  \n",
       "98   POLYGON ((20.68154 50.20587, 20.68193 50.21654...       PL21  1214.0  \n",
       "99   POLYGON ((19.24314 51.03684, 19.25057 51.04001...       PL22  1746.0  \n",
       "100  MULTIPOLYGON (((-6.92990 41.02947, -6.93137 41...       PT16   628.0  \n",
       "101  MULTIPOLYGON (((19.18842 59.78706, 19.20013 59...       SE11   114.0  \n",
       "102  POLYGON ((-2.42535 56.75519, -2.44232 56.72524...       UKM2  1800.0  \n",
       "\n",
       "[103 rows x 10 columns]"
      ],
      "text/html": "<div>\n<style scoped>\n    .dataframe tbody tr th:only-of-type {\n        vertical-align: middle;\n    }\n\n    .dataframe tbody tr th {\n        vertical-align: top;\n    }\n\n    .dataframe thead th {\n        text-align: right;\n    }\n</style>\n<table border=\"1\" class=\"dataframe\">\n  <thead>\n    <tr style=\"text-align: right;\">\n      <th></th>\n      <th>id</th>\n      <th>NUTS_ID</th>\n      <th>LEVL_CODE</th>\n      <th>CNTR_CODE</th>\n      <th>NAME_LATN</th>\n      <th>NUTS_NAME</th>\n      <th>FID</th>\n      <th>geometry</th>\n      <th>tunit_code</th>\n      <th>TOTAL</th>\n    </tr>\n  </thead>\n  <tbody>\n    <tr>\n      <th>0</th>\n      <td>ITF4</td>\n      <td>ITF4</td>\n      <td>2</td>\n      <td>IT</td>\n      <td>Puglia</td>\n      <td>Puglia</td>\n      <td>ITF4</td>\n      <td>POLYGON ((16.02474 41.42559, 16.09344 41.40064...</td>\n      <td>ITF4</td>\n      <td>94.0</td>\n    </tr>\n    <tr>\n      <th>1</th>\n      <td>ITH3</td>\n      <td>ITH3</td>\n      <td>2</td>\n      <td>IT</td>\n      <td>Veneto</td>\n      <td>Veneto</td>\n      <td>ITH3</td>\n      <td>MULTIPOLYGON (((12.69064 46.65697, 12.71644 46...</td>\n      <td>ITH3</td>\n      <td>237.0</td>\n    </tr>\n    <tr>\n      <th>2</th>\n      <td>ITH4</td>\n      <td>ITH4</td>\n      <td>2</td>\n      <td>IT</td>\n      <td>Friuli-Venezia Giulia</td>\n      <td>Friuli-Venezia Giulia</td>\n      <td>ITH4</td>\n      <td>MULTIPOLYGON (((13.50425 46.56630, 13.51989 46...</td>\n      <td>ITH4</td>\n      <td>99.0</td>\n    </tr>\n    <tr>\n      <th>3</th>\n      <td>ITG2</td>\n      <td>ITG2</td>\n      <td>2</td>\n      <td>IT</td>\n      <td>Sardegna</td>\n      <td>Sardegna</td>\n      <td>ITG2</td>\n      <td>MULTIPOLYGON (((9.74887 40.66041, 9.74668 40.6...</td>\n      <td>ITG2</td>\n      <td>165.0</td>\n    </tr>\n    <tr>\n      <th>4</th>\n      <td>NL33</td>\n      <td>NL33</td>\n      <td>2</td>\n      <td>NL</td>\n      <td>Zuid-Holland</td>\n      <td>Zuid-Holland</td>\n      <td>NL33</td>\n      <td>POLYGON ((4.61168 52.31359, 4.58842 52.28046, ...</td>\n      <td>NL33</td>\n      <td>455.0</td>\n    </tr>\n    <tr>\n      <th>...</th>\n      <td>...</td>\n      <td>...</td>\n      <td>...</td>\n      <td>...</td>\n      <td>...</td>\n      <td>...</td>\n      <td>...</td>\n      <td>...</td>\n      <td>...</td>\n      <td>...</td>\n    </tr>\n    <tr>\n      <th>98</th>\n      <td>PL21</td>\n      <td>PL21</td>\n      <td>2</td>\n      <td>PL</td>\n      <td>Malopolskie</td>\n      <td>Malopolskie</td>\n      <td>PL21</td>\n      <td>POLYGON ((20.68154 50.20587, 20.68193 50.21654...</td>\n      <td>PL21</td>\n      <td>1214.0</td>\n    </tr>\n    <tr>\n      <th>99</th>\n      <td>PL22</td>\n      <td>PL22</td>\n      <td>2</td>\n      <td>PL</td>\n      <td>Slaskie</td>\n      <td>Slaskie</td>\n      <td>PL22</td>\n      <td>POLYGON ((19.24314 51.03684, 19.25057 51.04001...</td>\n      <td>PL22</td>\n      <td>1746.0</td>\n    </tr>\n    <tr>\n      <th>100</th>\n      <td>PT16</td>\n      <td>PT16</td>\n      <td>2</td>\n      <td>PT</td>\n      <td>Centro (PT)</td>\n      <td>Centro (PT)</td>\n      <td>PT16</td>\n      <td>MULTIPOLYGON (((-6.92990 41.02947, -6.93137 41...</td>\n      <td>PT16</td>\n      <td>628.0</td>\n    </tr>\n    <tr>\n      <th>101</th>\n      <td>SE11</td>\n      <td>SE11</td>\n      <td>2</td>\n      <td>SE</td>\n      <td>Stockholm</td>\n      <td>Stockholm</td>\n      <td>SE11</td>\n      <td>MULTIPOLYGON (((19.18842 59.78706, 19.20013 59...</td>\n      <td>SE11</td>\n      <td>114.0</td>\n    </tr>\n    <tr>\n      <th>102</th>\n      <td>UKM2</td>\n      <td>UKM2</td>\n      <td>2</td>\n      <td>UK</td>\n      <td>Eastern Scotland</td>\n      <td>Eastern Scotland</td>\n      <td>UKM2</td>\n      <td>POLYGON ((-2.42535 56.75519, -2.44232 56.72524...</td>\n      <td>UKM2</td>\n      <td>1800.0</td>\n    </tr>\n  </tbody>\n</table>\n<p>103 rows × 10 columns</p>\n</div>"
     },
     "metadata": {},
     "execution_count": 16
    }
   ],
   "source": [
    "df_tot = gdf.merge(df, left_on='FID', right_on='tunit_code')\n",
    "df_tot"
   ]
  },
  {
   "cell_type": "code",
   "execution_count": 17,
   "metadata": {},
   "outputs": [],
   "source": [
    "df_tot.to_file('total_jobs_affected.geojson', driver='GeoJSON')"
   ]
  },
  {
   "cell_type": "code",
   "execution_count": 25,
   "metadata": {},
   "outputs": [
    {
     "output_type": "execute_result",
     "data": {
      "text/plain": [
       "'borders'"
      ]
     },
     "metadata": {},
     "execution_count": 25
    }
   ],
   "source": []
  },
  {
   "cell_type": "code",
   "execution_count": 27,
   "metadata": {},
   "outputs": [
    {
     "output_type": "stream",
     "name": "stderr",
     "text": [
      "<ipython-input-27-d53f4c42d02a>:4: UserWarning: Geometry is in a geographic CRS. Results from 'centroid' are likely incorrect. Use 'GeoSeries.to_crs()' to re-project geometries to a projected CRS before this operation.\n\n  df_this['centroid_column'] = df_this.centroid\n"
     ]
    },
    {
     "output_type": "execute_result",
     "data": {
      "text/plain": [
       "       id NUTS_ID  LEVL_CODE CNTR_CODE              NAME_LATN  \\\n",
       "0    ITF4    ITF4          2        IT                 Puglia   \n",
       "1    ITH3    ITH3          2        IT                 Veneto   \n",
       "2    ITH4    ITH4          2        IT  Friuli-Venezia Giulia   \n",
       "3    ITG2    ITG2          2        IT               Sardegna   \n",
       "4    NL33    NL33          2        NL           Zuid-Holland   \n",
       "..    ...     ...        ...       ...                    ...   \n",
       "98   PL21    PL21          2        PL            Malopolskie   \n",
       "99   PL22    PL22          2        PL                Slaskie   \n",
       "100  PT16    PT16          2        PT            Centro (PT)   \n",
       "101  SE11    SE11          2        SE              Stockholm   \n",
       "102  UKM2    UKM2          2        UK       Eastern Scotland   \n",
       "\n",
       "                 NUTS_NAME   FID tunit_code   TOTAL  \\\n",
       "0                   Puglia  ITF4       ITF4    94.0   \n",
       "1                   Veneto  ITH3       ITH3   237.0   \n",
       "2    Friuli-Venezia Giulia  ITH4       ITH4    99.0   \n",
       "3                 Sardegna  ITG2       ITG2   165.0   \n",
       "4             Zuid-Holland  NL33       NL33   455.0   \n",
       "..                     ...   ...        ...     ...   \n",
       "98             Malopolskie  PL21       PL21  1214.0   \n",
       "99                 Slaskie  PL22       PL22  1746.0   \n",
       "100            Centro (PT)  PT16       PT16   628.0   \n",
       "101              Stockholm  SE11       SE11   114.0   \n",
       "102       Eastern Scotland  UKM2       UKM2  1800.0   \n",
       "\n",
       "                                               borders  \\\n",
       "0    POLYGON ((16.02474 41.42559, 16.09344 41.40064...   \n",
       "1    MULTIPOLYGON (((12.69064 46.65697, 12.71644 46...   \n",
       "2    MULTIPOLYGON (((13.50425 46.56630, 13.51989 46...   \n",
       "3    MULTIPOLYGON (((9.74887 40.66041, 9.74668 40.6...   \n",
       "4    POLYGON ((4.61168 52.31359, 4.58842 52.28046, ...   \n",
       "..                                                 ...   \n",
       "98   POLYGON ((20.68154 50.20587, 20.68193 50.21654...   \n",
       "99   POLYGON ((19.24314 51.03684, 19.25057 51.04001...   \n",
       "100  MULTIPOLYGON (((-6.92990 41.02947, -6.93137 41...   \n",
       "101  MULTIPOLYGON (((19.18842 59.78706, 19.20013 59...   \n",
       "102  POLYGON ((-2.42535 56.75519, -2.44232 56.72524...   \n",
       "\n",
       "               centroid_column  \n",
       "0    POINT (16.61919 40.98456)  \n",
       "1    POINT (11.84081 45.66462)  \n",
       "2    POINT (13.05186 46.15991)  \n",
       "3     POINT (9.03019 40.08696)  \n",
       "4     POINT (4.48459 51.93805)  \n",
       "..                         ...  \n",
       "98   POINT (20.26892 49.85894)  \n",
       "99   POINT (18.99389 50.33107)  \n",
       "100  POINT (-7.99322 40.13402)  \n",
       "101  POINT (18.14831 59.47268)  \n",
       "102  POINT (-3.38736 56.19020)  \n",
       "\n",
       "[103 rows x 11 columns]"
      ],
      "text/html": "<div>\n<style scoped>\n    .dataframe tbody tr th:only-of-type {\n        vertical-align: middle;\n    }\n\n    .dataframe tbody tr th {\n        vertical-align: top;\n    }\n\n    .dataframe thead th {\n        text-align: right;\n    }\n</style>\n<table border=\"1\" class=\"dataframe\">\n  <thead>\n    <tr style=\"text-align: right;\">\n      <th></th>\n      <th>id</th>\n      <th>NUTS_ID</th>\n      <th>LEVL_CODE</th>\n      <th>CNTR_CODE</th>\n      <th>NAME_LATN</th>\n      <th>NUTS_NAME</th>\n      <th>FID</th>\n      <th>tunit_code</th>\n      <th>TOTAL</th>\n      <th>borders</th>\n      <th>centroid_column</th>\n    </tr>\n  </thead>\n  <tbody>\n    <tr>\n      <th>0</th>\n      <td>ITF4</td>\n      <td>ITF4</td>\n      <td>2</td>\n      <td>IT</td>\n      <td>Puglia</td>\n      <td>Puglia</td>\n      <td>ITF4</td>\n      <td>ITF4</td>\n      <td>94.0</td>\n      <td>POLYGON ((16.02474 41.42559, 16.09344 41.40064...</td>\n      <td>POINT (16.61919 40.98456)</td>\n    </tr>\n    <tr>\n      <th>1</th>\n      <td>ITH3</td>\n      <td>ITH3</td>\n      <td>2</td>\n      <td>IT</td>\n      <td>Veneto</td>\n      <td>Veneto</td>\n      <td>ITH3</td>\n      <td>ITH3</td>\n      <td>237.0</td>\n      <td>MULTIPOLYGON (((12.69064 46.65697, 12.71644 46...</td>\n      <td>POINT (11.84081 45.66462)</td>\n    </tr>\n    <tr>\n      <th>2</th>\n      <td>ITH4</td>\n      <td>ITH4</td>\n      <td>2</td>\n      <td>IT</td>\n      <td>Friuli-Venezia Giulia</td>\n      <td>Friuli-Venezia Giulia</td>\n      <td>ITH4</td>\n      <td>ITH4</td>\n      <td>99.0</td>\n      <td>MULTIPOLYGON (((13.50425 46.56630, 13.51989 46...</td>\n      <td>POINT (13.05186 46.15991)</td>\n    </tr>\n    <tr>\n      <th>3</th>\n      <td>ITG2</td>\n      <td>ITG2</td>\n      <td>2</td>\n      <td>IT</td>\n      <td>Sardegna</td>\n      <td>Sardegna</td>\n      <td>ITG2</td>\n      <td>ITG2</td>\n      <td>165.0</td>\n      <td>MULTIPOLYGON (((9.74887 40.66041, 9.74668 40.6...</td>\n      <td>POINT (9.03019 40.08696)</td>\n    </tr>\n    <tr>\n      <th>4</th>\n      <td>NL33</td>\n      <td>NL33</td>\n      <td>2</td>\n      <td>NL</td>\n      <td>Zuid-Holland</td>\n      <td>Zuid-Holland</td>\n      <td>NL33</td>\n      <td>NL33</td>\n      <td>455.0</td>\n      <td>POLYGON ((4.61168 52.31359, 4.58842 52.28046, ...</td>\n      <td>POINT (4.48459 51.93805)</td>\n    </tr>\n    <tr>\n      <th>...</th>\n      <td>...</td>\n      <td>...</td>\n      <td>...</td>\n      <td>...</td>\n      <td>...</td>\n      <td>...</td>\n      <td>...</td>\n      <td>...</td>\n      <td>...</td>\n      <td>...</td>\n      <td>...</td>\n    </tr>\n    <tr>\n      <th>98</th>\n      <td>PL21</td>\n      <td>PL21</td>\n      <td>2</td>\n      <td>PL</td>\n      <td>Malopolskie</td>\n      <td>Malopolskie</td>\n      <td>PL21</td>\n      <td>PL21</td>\n      <td>1214.0</td>\n      <td>POLYGON ((20.68154 50.20587, 20.68193 50.21654...</td>\n      <td>POINT (20.26892 49.85894)</td>\n    </tr>\n    <tr>\n      <th>99</th>\n      <td>PL22</td>\n      <td>PL22</td>\n      <td>2</td>\n      <td>PL</td>\n      <td>Slaskie</td>\n      <td>Slaskie</td>\n      <td>PL22</td>\n      <td>PL22</td>\n      <td>1746.0</td>\n      <td>POLYGON ((19.24314 51.03684, 19.25057 51.04001...</td>\n      <td>POINT (18.99389 50.33107)</td>\n    </tr>\n    <tr>\n      <th>100</th>\n      <td>PT16</td>\n      <td>PT16</td>\n      <td>2</td>\n      <td>PT</td>\n      <td>Centro (PT)</td>\n      <td>Centro (PT)</td>\n      <td>PT16</td>\n      <td>PT16</td>\n      <td>628.0</td>\n      <td>MULTIPOLYGON (((-6.92990 41.02947, -6.93137 41...</td>\n      <td>POINT (-7.99322 40.13402)</td>\n    </tr>\n    <tr>\n      <th>101</th>\n      <td>SE11</td>\n      <td>SE11</td>\n      <td>2</td>\n      <td>SE</td>\n      <td>Stockholm</td>\n      <td>Stockholm</td>\n      <td>SE11</td>\n      <td>SE11</td>\n      <td>114.0</td>\n      <td>MULTIPOLYGON (((19.18842 59.78706, 19.20013 59...</td>\n      <td>POINT (18.14831 59.47268)</td>\n    </tr>\n    <tr>\n      <th>102</th>\n      <td>UKM2</td>\n      <td>UKM2</td>\n      <td>2</td>\n      <td>UK</td>\n      <td>Eastern Scotland</td>\n      <td>Eastern Scotland</td>\n      <td>UKM2</td>\n      <td>UKM2</td>\n      <td>1800.0</td>\n      <td>POLYGON ((-2.42535 56.75519, -2.44232 56.72524...</td>\n      <td>POINT (-3.38736 56.19020)</td>\n    </tr>\n  </tbody>\n</table>\n<p>103 rows × 11 columns</p>\n</div>"
     },
     "metadata": {},
     "execution_count": 27
    }
   ],
   "source": [
    "df_this = gpd.read_file('total_jobs_affected.geojson')\n",
    "df_this = df_this.rename(columns={'geometry': 'borders'}).set_geometry('borders')\n",
    "df_this.geometry.name\n",
    "df_this['centroid_column'] = df_this.centroid\n",
    "df_this = df_this.set_geometry('centroid_column')\n",
    "df_this"
   ]
  },
  {
   "cell_type": "code",
   "execution_count": 28,
   "metadata": {},
   "outputs": [
    {
     "output_type": "execute_result",
     "data": {
      "text/plain": [
       "     id NUTS_ID  LEVL_CODE CNTR_CODE              NAME_LATN  \\\n",
       "0  ITF4    ITF4          2        IT                 Puglia   \n",
       "1  ITH3    ITH3          2        IT                 Veneto   \n",
       "2  ITH4    ITH4          2        IT  Friuli-Venezia Giulia   \n",
       "3  ITG2    ITG2          2        IT               Sardegna   \n",
       "4  NL33    NL33          2        NL           Zuid-Holland   \n",
       "\n",
       "               NUTS_NAME   FID tunit_code  TOTAL                   geometry  \n",
       "0                 Puglia  ITF4       ITF4   94.0  POINT (16.61919 40.98456)  \n",
       "1                 Veneto  ITH3       ITH3  237.0  POINT (11.84081 45.66462)  \n",
       "2  Friuli-Venezia Giulia  ITH4       ITH4   99.0  POINT (13.05186 46.15991)  \n",
       "3               Sardegna  ITG2       ITG2  165.0   POINT (9.03019 40.08696)  \n",
       "4           Zuid-Holland  NL33       NL33  455.0   POINT (4.48459 51.93805)  "
      ],
      "text/html": "<div>\n<style scoped>\n    .dataframe tbody tr th:only-of-type {\n        vertical-align: middle;\n    }\n\n    .dataframe tbody tr th {\n        vertical-align: top;\n    }\n\n    .dataframe thead th {\n        text-align: right;\n    }\n</style>\n<table border=\"1\" class=\"dataframe\">\n  <thead>\n    <tr style=\"text-align: right;\">\n      <th></th>\n      <th>id</th>\n      <th>NUTS_ID</th>\n      <th>LEVL_CODE</th>\n      <th>CNTR_CODE</th>\n      <th>NAME_LATN</th>\n      <th>NUTS_NAME</th>\n      <th>FID</th>\n      <th>tunit_code</th>\n      <th>TOTAL</th>\n      <th>geometry</th>\n    </tr>\n  </thead>\n  <tbody>\n    <tr>\n      <th>0</th>\n      <td>ITF4</td>\n      <td>ITF4</td>\n      <td>2</td>\n      <td>IT</td>\n      <td>Puglia</td>\n      <td>Puglia</td>\n      <td>ITF4</td>\n      <td>ITF4</td>\n      <td>94.0</td>\n      <td>POINT (16.61919 40.98456)</td>\n    </tr>\n    <tr>\n      <th>1</th>\n      <td>ITH3</td>\n      <td>ITH3</td>\n      <td>2</td>\n      <td>IT</td>\n      <td>Veneto</td>\n      <td>Veneto</td>\n      <td>ITH3</td>\n      <td>ITH3</td>\n      <td>237.0</td>\n      <td>POINT (11.84081 45.66462)</td>\n    </tr>\n    <tr>\n      <th>2</th>\n      <td>ITH4</td>\n      <td>ITH4</td>\n      <td>2</td>\n      <td>IT</td>\n      <td>Friuli-Venezia Giulia</td>\n      <td>Friuli-Venezia Giulia</td>\n      <td>ITH4</td>\n      <td>ITH4</td>\n      <td>99.0</td>\n      <td>POINT (13.05186 46.15991)</td>\n    </tr>\n    <tr>\n      <th>3</th>\n      <td>ITG2</td>\n      <td>ITG2</td>\n      <td>2</td>\n      <td>IT</td>\n      <td>Sardegna</td>\n      <td>Sardegna</td>\n      <td>ITG2</td>\n      <td>ITG2</td>\n      <td>165.0</td>\n      <td>POINT (9.03019 40.08696)</td>\n    </tr>\n    <tr>\n      <th>4</th>\n      <td>NL33</td>\n      <td>NL33</td>\n      <td>2</td>\n      <td>NL</td>\n      <td>Zuid-Holland</td>\n      <td>Zuid-Holland</td>\n      <td>NL33</td>\n      <td>NL33</td>\n      <td>455.0</td>\n      <td>POINT (4.48459 51.93805)</td>\n    </tr>\n  </tbody>\n</table>\n</div>"
     },
     "metadata": {},
     "execution_count": 28
    }
   ],
   "source": [
    "df_this = df_this.rename(columns={'centroid_column' :'geometry'})\n",
    "df_this.drop(['borders'], axis=1, inplace=True)\n",
    "df_this.head()"
   ]
  },
  {
   "cell_type": "code",
   "execution_count": null,
   "metadata": {},
   "outputs": [],
   "source": []
  },
  {
   "cell_type": "code",
   "execution_count": 30,
   "metadata": {},
   "outputs": [],
   "source": [
    "df_this = gpd.GeoDataFrame(df_this)\n",
    "df_this.to_file('jobs_affected.geojson', driver='GeoJSON')"
   ]
  },
  {
   "cell_type": "code",
   "execution_count": 33,
   "metadata": {},
   "outputs": [
    {
     "output_type": "execute_result",
     "data": {
      "text/plain": [
       "(103, 10)"
      ]
     },
     "metadata": {},
     "execution_count": 33
    }
   ],
   "source": [
    "df_this.shape"
   ]
  },
  {
   "cell_type": "code",
   "execution_count": 31,
   "metadata": {},
   "outputs": [
    {
     "output_type": "execute_result",
     "data": {
      "text/plain": [
       "    Unnamed: 0 NUTS-2             NUTS-2 name Type of coal  Jobs Unnamed: 4  \\\n",
       "0            0   RO42                    Vest    Hard coal   NaN      4 442   \n",
       "1            1   SK02       Západné Slovensko      Lignite   NaN      2 190   \n",
       "2            2   ES12  Principado de Asturias    Hard coal   NaN      1 313   \n",
       "3            3   CZ08         Moravskoslezsko    Hard coal   NaN     10 131   \n",
       "4            4   DEA3                 Münster    Hard coal   NaN      9 640   \n",
       "5            5   ITG2                Sardegna    Hard coal   NaN        348   \n",
       "6            6   PL22                 Śląskie    Hard coal   NaN     79 548   \n",
       "7            7   SI03       Vzhodna Slovenija      Lignite   NaN      1 274   \n",
       "8            8   UKE3         South Yorkshire    Hard coal   NaN         34   \n",
       "9            9   ES41         Castilla y León    Hard coal   NaN        394   \n",
       "10          10   BG41             Yugozapaden   Brown coal   NaN        991   \n",
       "11          11   PL21             Małopolskie    Hard coal   NaN      4 644   \n",
       "12          12   RO41        Sud-Vest Oltenia      Lignite   NaN     10 600   \n",
       "13          13   ES42      Castilla-La Mancha    Hard coal   NaN        219   \n",
       "14          14   UKE2         North Yorkshire    Hard coal   NaN        333   \n",
       "15          15   UKF1          Derbyshire and    Hard coal   NaN         80   \n",
       "16          16    NaN         Nottinghamshire          NaN   NaN        NaN   \n",
       "17          17   CZ04             Severozápad      Lignite   NaN      7 869   \n",
       "18          18   DE40             Brandenburg      Lignite   NaN      3 402   \n",
       "19          19   PL31               Lubelskie    Hard coal   NaN      5 769   \n",
       "20          20   BG34            Yugoiztochen      Lignite   NaN     10 773   \n",
       "21          21   DED2                 Dresden      Lignite   NaN      2 783   \n",
       "22          22   DEE0          Sachsen-Anhalt      Lignite   NaN        904   \n",
       "23          23   DED5                 Leipzig      Lignite   NaN      1 004   \n",
       "24          24   PL41           Wielkopolskie      Lignite   NaN      2 079   \n",
       "25          25   ES24                  Aragón    Hard coal   NaN      1 422   \n",
       "26          26   PL11                 Łódzkie      Lignite   NaN      6 388   \n",
       "27          27   DEA2                    Köln      Lignite   NaN      4 420   \n",
       "28          28   EL53        Dytiki Makedonia      Lignite   NaN      4 283   \n",
       "29          29   EL65            Peloponnisos      Lignite   NaN        636   \n",
       "30          30   UKL1      West Wales and The    Hard coal   NaN        367   \n",
       "31          31    NaN                 Valleys          NaN   NaN        NaN   \n",
       "32          32   UKC2      Northumberland and    Hard coal   NaN        723   \n",
       "33          33    NaN           Tyne and Wear          NaN   NaN        NaN   \n",
       "34          34   HU31      Észak-Magyarország      Lignite   NaN      1 655   \n",
       "35          35   PL51            Dolnośląskie      Lignite   NaN      1 108   \n",
       "36          36   UKM3  South Western Scotland    Hard coal   NaN        241   \n",
       "37          37   UKL2              East Wales    Hard coal   NaN        184   \n",
       "38          38   DEA1              Düsseldorf      Lignite   NaN      2 578   \n",
       "\n",
       "    Risk rate Risk zone  \n",
       "0        20.0      High  \n",
       "1        20.0      High  \n",
       "2        18.5      High  \n",
       "3        18.0      High  \n",
       "4        18.0      High  \n",
       "5        17.0      High  \n",
       "6        17.0      High  \n",
       "7        17.0      High  \n",
       "8        17.0      High  \n",
       "9        16.5    Medium  \n",
       "10       16.0    Medium  \n",
       "11       16.0    Medium  \n",
       "12       16.0    Medium  \n",
       "13       16.0    Medium  \n",
       "14       16.0    Medium  \n",
       "15       16.0    Medium  \n",
       "16        NaN       NaN  \n",
       "17       15.5    Medium  \n",
       "18       15.0    Medium  \n",
       "19       15.0    Medium  \n",
       "20       14.0    Medium  \n",
       "21       14.0    Medium  \n",
       "22       14.0    Medium  \n",
       "23       14.0    Medium  \n",
       "24       14.0    Medium  \n",
       "25       14.0    Medium  \n",
       "26       13.5       Low  \n",
       "27       13.0       Low  \n",
       "28       13.0       Low  \n",
       "29       13.0       Low  \n",
       "30       13.0       Low  \n",
       "31        NaN       NaN  \n",
       "32       12.5       Low  \n",
       "33        NaN       NaN  \n",
       "34       12.0       Low  \n",
       "35       12.0       Low  \n",
       "36       12.0       Low  \n",
       "37       12.0       Low  \n",
       "38       11.0       Low  "
      ],
      "text/html": "<div>\n<style scoped>\n    .dataframe tbody tr th:only-of-type {\n        vertical-align: middle;\n    }\n\n    .dataframe tbody tr th {\n        vertical-align: top;\n    }\n\n    .dataframe thead th {\n        text-align: right;\n    }\n</style>\n<table border=\"1\" class=\"dataframe\">\n  <thead>\n    <tr style=\"text-align: right;\">\n      <th></th>\n      <th>Unnamed: 0</th>\n      <th>NUTS-2</th>\n      <th>NUTS-2 name</th>\n      <th>Type of coal</th>\n      <th>Jobs</th>\n      <th>Unnamed: 4</th>\n      <th>Risk rate</th>\n      <th>Risk zone</th>\n    </tr>\n  </thead>\n  <tbody>\n    <tr>\n      <th>0</th>\n      <td>0</td>\n      <td>RO42</td>\n      <td>Vest</td>\n      <td>Hard coal</td>\n      <td>NaN</td>\n      <td>4 442</td>\n      <td>20.0</td>\n      <td>High</td>\n    </tr>\n    <tr>\n      <th>1</th>\n      <td>1</td>\n      <td>SK02</td>\n      <td>Západné Slovensko</td>\n      <td>Lignite</td>\n      <td>NaN</td>\n      <td>2 190</td>\n      <td>20.0</td>\n      <td>High</td>\n    </tr>\n    <tr>\n      <th>2</th>\n      <td>2</td>\n      <td>ES12</td>\n      <td>Principado de Asturias</td>\n      <td>Hard coal</td>\n      <td>NaN</td>\n      <td>1 313</td>\n      <td>18.5</td>\n      <td>High</td>\n    </tr>\n    <tr>\n      <th>3</th>\n      <td>3</td>\n      <td>CZ08</td>\n      <td>Moravskoslezsko</td>\n      <td>Hard coal</td>\n      <td>NaN</td>\n      <td>10 131</td>\n      <td>18.0</td>\n      <td>High</td>\n    </tr>\n    <tr>\n      <th>4</th>\n      <td>4</td>\n      <td>DEA3</td>\n      <td>Münster</td>\n      <td>Hard coal</td>\n      <td>NaN</td>\n      <td>9 640</td>\n      <td>18.0</td>\n      <td>High</td>\n    </tr>\n    <tr>\n      <th>5</th>\n      <td>5</td>\n      <td>ITG2</td>\n      <td>Sardegna</td>\n      <td>Hard coal</td>\n      <td>NaN</td>\n      <td>348</td>\n      <td>17.0</td>\n      <td>High</td>\n    </tr>\n    <tr>\n      <th>6</th>\n      <td>6</td>\n      <td>PL22</td>\n      <td>Śląskie</td>\n      <td>Hard coal</td>\n      <td>NaN</td>\n      <td>79 548</td>\n      <td>17.0</td>\n      <td>High</td>\n    </tr>\n    <tr>\n      <th>7</th>\n      <td>7</td>\n      <td>SI03</td>\n      <td>Vzhodna Slovenija</td>\n      <td>Lignite</td>\n      <td>NaN</td>\n      <td>1 274</td>\n      <td>17.0</td>\n      <td>High</td>\n    </tr>\n    <tr>\n      <th>8</th>\n      <td>8</td>\n      <td>UKE3</td>\n      <td>South Yorkshire</td>\n      <td>Hard coal</td>\n      <td>NaN</td>\n      <td>34</td>\n      <td>17.0</td>\n      <td>High</td>\n    </tr>\n    <tr>\n      <th>9</th>\n      <td>9</td>\n      <td>ES41</td>\n      <td>Castilla y León</td>\n      <td>Hard coal</td>\n      <td>NaN</td>\n      <td>394</td>\n      <td>16.5</td>\n      <td>Medium</td>\n    </tr>\n    <tr>\n      <th>10</th>\n      <td>10</td>\n      <td>BG41</td>\n      <td>Yugozapaden</td>\n      <td>Brown coal</td>\n      <td>NaN</td>\n      <td>991</td>\n      <td>16.0</td>\n      <td>Medium</td>\n    </tr>\n    <tr>\n      <th>11</th>\n      <td>11</td>\n      <td>PL21</td>\n      <td>Małopolskie</td>\n      <td>Hard coal</td>\n      <td>NaN</td>\n      <td>4 644</td>\n      <td>16.0</td>\n      <td>Medium</td>\n    </tr>\n    <tr>\n      <th>12</th>\n      <td>12</td>\n      <td>RO41</td>\n      <td>Sud-Vest Oltenia</td>\n      <td>Lignite</td>\n      <td>NaN</td>\n      <td>10 600</td>\n      <td>16.0</td>\n      <td>Medium</td>\n    </tr>\n    <tr>\n      <th>13</th>\n      <td>13</td>\n      <td>ES42</td>\n      <td>Castilla-La Mancha</td>\n      <td>Hard coal</td>\n      <td>NaN</td>\n      <td>219</td>\n      <td>16.0</td>\n      <td>Medium</td>\n    </tr>\n    <tr>\n      <th>14</th>\n      <td>14</td>\n      <td>UKE2</td>\n      <td>North Yorkshire</td>\n      <td>Hard coal</td>\n      <td>NaN</td>\n      <td>333</td>\n      <td>16.0</td>\n      <td>Medium</td>\n    </tr>\n    <tr>\n      <th>15</th>\n      <td>15</td>\n      <td>UKF1</td>\n      <td>Derbyshire and</td>\n      <td>Hard coal</td>\n      <td>NaN</td>\n      <td>80</td>\n      <td>16.0</td>\n      <td>Medium</td>\n    </tr>\n    <tr>\n      <th>16</th>\n      <td>16</td>\n      <td>NaN</td>\n      <td>Nottinghamshire</td>\n      <td>NaN</td>\n      <td>NaN</td>\n      <td>NaN</td>\n      <td>NaN</td>\n      <td>NaN</td>\n    </tr>\n    <tr>\n      <th>17</th>\n      <td>17</td>\n      <td>CZ04</td>\n      <td>Severozápad</td>\n      <td>Lignite</td>\n      <td>NaN</td>\n      <td>7 869</td>\n      <td>15.5</td>\n      <td>Medium</td>\n    </tr>\n    <tr>\n      <th>18</th>\n      <td>18</td>\n      <td>DE40</td>\n      <td>Brandenburg</td>\n      <td>Lignite</td>\n      <td>NaN</td>\n      <td>3 402</td>\n      <td>15.0</td>\n      <td>Medium</td>\n    </tr>\n    <tr>\n      <th>19</th>\n      <td>19</td>\n      <td>PL31</td>\n      <td>Lubelskie</td>\n      <td>Hard coal</td>\n      <td>NaN</td>\n      <td>5 769</td>\n      <td>15.0</td>\n      <td>Medium</td>\n    </tr>\n    <tr>\n      <th>20</th>\n      <td>20</td>\n      <td>BG34</td>\n      <td>Yugoiztochen</td>\n      <td>Lignite</td>\n      <td>NaN</td>\n      <td>10 773</td>\n      <td>14.0</td>\n      <td>Medium</td>\n    </tr>\n    <tr>\n      <th>21</th>\n      <td>21</td>\n      <td>DED2</td>\n      <td>Dresden</td>\n      <td>Lignite</td>\n      <td>NaN</td>\n      <td>2 783</td>\n      <td>14.0</td>\n      <td>Medium</td>\n    </tr>\n    <tr>\n      <th>22</th>\n      <td>22</td>\n      <td>DEE0</td>\n      <td>Sachsen-Anhalt</td>\n      <td>Lignite</td>\n      <td>NaN</td>\n      <td>904</td>\n      <td>14.0</td>\n      <td>Medium</td>\n    </tr>\n    <tr>\n      <th>23</th>\n      <td>23</td>\n      <td>DED5</td>\n      <td>Leipzig</td>\n      <td>Lignite</td>\n      <td>NaN</td>\n      <td>1 004</td>\n      <td>14.0</td>\n      <td>Medium</td>\n    </tr>\n    <tr>\n      <th>24</th>\n      <td>24</td>\n      <td>PL41</td>\n      <td>Wielkopolskie</td>\n      <td>Lignite</td>\n      <td>NaN</td>\n      <td>2 079</td>\n      <td>14.0</td>\n      <td>Medium</td>\n    </tr>\n    <tr>\n      <th>25</th>\n      <td>25</td>\n      <td>ES24</td>\n      <td>Aragón</td>\n      <td>Hard coal</td>\n      <td>NaN</td>\n      <td>1 422</td>\n      <td>14.0</td>\n      <td>Medium</td>\n    </tr>\n    <tr>\n      <th>26</th>\n      <td>26</td>\n      <td>PL11</td>\n      <td>Łódzkie</td>\n      <td>Lignite</td>\n      <td>NaN</td>\n      <td>6 388</td>\n      <td>13.5</td>\n      <td>Low</td>\n    </tr>\n    <tr>\n      <th>27</th>\n      <td>27</td>\n      <td>DEA2</td>\n      <td>Köln</td>\n      <td>Lignite</td>\n      <td>NaN</td>\n      <td>4 420</td>\n      <td>13.0</td>\n      <td>Low</td>\n    </tr>\n    <tr>\n      <th>28</th>\n      <td>28</td>\n      <td>EL53</td>\n      <td>Dytiki Makedonia</td>\n      <td>Lignite</td>\n      <td>NaN</td>\n      <td>4 283</td>\n      <td>13.0</td>\n      <td>Low</td>\n    </tr>\n    <tr>\n      <th>29</th>\n      <td>29</td>\n      <td>EL65</td>\n      <td>Peloponnisos</td>\n      <td>Lignite</td>\n      <td>NaN</td>\n      <td>636</td>\n      <td>13.0</td>\n      <td>Low</td>\n    </tr>\n    <tr>\n      <th>30</th>\n      <td>30</td>\n      <td>UKL1</td>\n      <td>West Wales and The</td>\n      <td>Hard coal</td>\n      <td>NaN</td>\n      <td>367</td>\n      <td>13.0</td>\n      <td>Low</td>\n    </tr>\n    <tr>\n      <th>31</th>\n      <td>31</td>\n      <td>NaN</td>\n      <td>Valleys</td>\n      <td>NaN</td>\n      <td>NaN</td>\n      <td>NaN</td>\n      <td>NaN</td>\n      <td>NaN</td>\n    </tr>\n    <tr>\n      <th>32</th>\n      <td>32</td>\n      <td>UKC2</td>\n      <td>Northumberland and</td>\n      <td>Hard coal</td>\n      <td>NaN</td>\n      <td>723</td>\n      <td>12.5</td>\n      <td>Low</td>\n    </tr>\n    <tr>\n      <th>33</th>\n      <td>33</td>\n      <td>NaN</td>\n      <td>Tyne and Wear</td>\n      <td>NaN</td>\n      <td>NaN</td>\n      <td>NaN</td>\n      <td>NaN</td>\n      <td>NaN</td>\n    </tr>\n    <tr>\n      <th>34</th>\n      <td>34</td>\n      <td>HU31</td>\n      <td>Észak-Magyarország</td>\n      <td>Lignite</td>\n      <td>NaN</td>\n      <td>1 655</td>\n      <td>12.0</td>\n      <td>Low</td>\n    </tr>\n    <tr>\n      <th>35</th>\n      <td>35</td>\n      <td>PL51</td>\n      <td>Dolnośląskie</td>\n      <td>Lignite</td>\n      <td>NaN</td>\n      <td>1 108</td>\n      <td>12.0</td>\n      <td>Low</td>\n    </tr>\n    <tr>\n      <th>36</th>\n      <td>36</td>\n      <td>UKM3</td>\n      <td>South Western Scotland</td>\n      <td>Hard coal</td>\n      <td>NaN</td>\n      <td>241</td>\n      <td>12.0</td>\n      <td>Low</td>\n    </tr>\n    <tr>\n      <th>37</th>\n      <td>37</td>\n      <td>UKL2</td>\n      <td>East Wales</td>\n      <td>Hard coal</td>\n      <td>NaN</td>\n      <td>184</td>\n      <td>12.0</td>\n      <td>Low</td>\n    </tr>\n    <tr>\n      <th>38</th>\n      <td>38</td>\n      <td>DEA1</td>\n      <td>Düsseldorf</td>\n      <td>Lignite</td>\n      <td>NaN</td>\n      <td>2 578</td>\n      <td>11.0</td>\n      <td>Low</td>\n    </tr>\n  </tbody>\n</table>\n</div>"
     },
     "metadata": {},
     "execution_count": 31
    }
   ],
   "source": [
    "df_job = pd.read_csv('tot_job.csv')\n",
    "df_job"
   ]
  },
  {
   "cell_type": "code",
   "execution_count": 32,
   "metadata": {},
   "outputs": [
    {
     "output_type": "execute_result",
     "data": {
      "text/plain": [
       "(39, 8)"
      ]
     },
     "metadata": {},
     "execution_count": 32
    }
   ],
   "source": [
    "df_job.drop(['jobs'], axis=1, inplace=True)"
   ]
  },
  {
   "cell_type": "code",
   "execution_count": 34,
   "metadata": {},
   "outputs": [
    {
     "output_type": "execute_result",
     "data": {
      "text/plain": [
       "      id NUTS_ID  LEVL_CODE CNTR_CODE                         NAME_LATN  \\\n",
       "0   ITG2    ITG2          2        IT                          Sardegna   \n",
       "1   HU31    HU31          2        HU                Észak-Magyarország   \n",
       "2   ES24    ES24          2        ES                            Aragón   \n",
       "3   ES41    ES41          2        ES                   Castilla y León   \n",
       "4   ES42    ES42          2        ES                Castilla-La Mancha   \n",
       "5   EL65    EL65          2        EL                      Peloponnisos   \n",
       "6   EL53    EL53          2        EL                  Dytiki Makedonia   \n",
       "7   ES12    ES12          2        ES            Principado de Asturias   \n",
       "8   BG34    BG34          2        BG                      Yugoiztochen   \n",
       "9   BG41    BG41          2        BG                       Yugozapaden   \n",
       "10  DEA1    DEA1          2        DE                        Düsseldorf   \n",
       "11  DEA2    DEA2          2        DE                              Köln   \n",
       "12  DEA3    DEA3          2        DE                           Münster   \n",
       "13  CZ04    CZ04          2        CZ                       Severozápad   \n",
       "14  DED2    DED2          2        DE                           Dresden   \n",
       "15  CZ08    CZ08          2        CZ                   Moravskoslezsko   \n",
       "16  DE40    DE40          2        DE                       Brandenburg   \n",
       "17  DED5    DED5          2        DE                           Leipzig   \n",
       "18  DEE0    DEE0          2        DE                    Sachsen-Anhalt   \n",
       "19  SI03    SI03          2        SI                 Vzhodna Slovenija   \n",
       "20  SK02    SK02          2        SK                 Západné Slovensko   \n",
       "21  UKC2    UKC2          2        UK  Northumberland and Tyne and Wear   \n",
       "22  UKE2    UKE2          2        UK                   North Yorkshire   \n",
       "23  UKF1    UKF1          2        UK    Derbyshire and Nottinghamshire   \n",
       "24  UKL2    UKL2          2        UK                        East Wales   \n",
       "25  PL41    PL41          2        PL                     Wielkopolskie   \n",
       "26  PL51    PL51          2        PL                      Dolnoslaskie   \n",
       "27  PL11    PL11          2        PL                           Lódzkie   \n",
       "28  RO41    RO41          2        RO                  Sud-Vest Oltenia   \n",
       "29  RO42    RO42          2        RO                              Vest   \n",
       "30  PL21    PL21          2        PL                       Malopolskie   \n",
       "31  PL22    PL22          2        PL                           Slaskie   \n",
       "\n",
       "                           NUTS_NAME   FID tunit_code   TOTAL  \\\n",
       "0                           Sardegna  ITG2       ITG2   165.0   \n",
       "1                 Észak-Magyarország  HU31       HU31   632.0   \n",
       "2                             Aragón  ES24       ES24   350.0   \n",
       "3                    Castilla y León  ES41       ES41   861.0   \n",
       "4                 Castilla-La Mancha  ES42       ES42     0.0   \n",
       "5                       Πελοπόννησος  EL65       EL65   210.0   \n",
       "6                   Δυτική Μακεδονία  EL53       EL53  1008.0   \n",
       "7             Principado de Asturias  ES12       ES12   589.0   \n",
       "8                         Югоизточен  BG34       BG34     0.0   \n",
       "9                         Югозападен  BG41       BG41     0.0   \n",
       "10                        Düsseldorf  DEA1       DEA1  1856.0   \n",
       "11                              Köln  DEA2       DEA2  3070.0   \n",
       "12                           Münster  DEA3       DEA3   370.0   \n",
       "13                       Severozápad  CZ04       CZ04   192.0   \n",
       "14                           Dresden  DED2       DED2     0.0   \n",
       "15                   Moravskoslezsko  CZ08       CZ08     0.0   \n",
       "16                       Brandenburg  DE40       DE40  3000.0   \n",
       "17                           Leipzig  DED5       DED5     0.0   \n",
       "18                    Sachsen-Anhalt  DEE0       DEE0   960.0   \n",
       "19                 Vzhodna Slovenija  SI03       SI03   820.0   \n",
       "20                 Západné Slovensko  SK02       SK02   133.0   \n",
       "21  Northumberland and Tyne and Wear  UKC2       UKC2   420.0   \n",
       "22                   North Yorkshire  UKE2       UKE2  1500.0   \n",
       "23    Derbyshire and Nottinghamshire  UKF1       UKF1  4943.0   \n",
       "24                        East Wales  UKL2       UKL2   500.0   \n",
       "25                     Wielkopolskie  PL41       PL41  1461.0   \n",
       "26                      Dolnoslaskie  PL51       PL51  1399.0   \n",
       "27                           Lódzkie  PL11       PL11   198.0   \n",
       "28                  Sud-Vest Oltenia  RO41       RO41   450.0   \n",
       "29                              Vest  RO42       RO42   788.0   \n",
       "30                       Malopolskie  PL21       PL21  1214.0   \n",
       "31                           Slaskie  PL22       PL22  1746.0   \n",
       "\n",
       "                     geometry  Unnamed: 0 NUTS-2             NUTS-2 name  \\\n",
       "0    POINT (9.03019 40.08696)           5   ITG2                Sardegna   \n",
       "1   POINT (20.48766 48.04732)          34   HU31      Észak-Magyarország   \n",
       "2   POINT (-0.65984 41.51941)          25   ES24                  Aragón   \n",
       "3   POINT (-4.78205 41.75422)           9   ES41         Castilla y León   \n",
       "4   POINT (-3.00459 39.58096)          13   ES42      Castilla-La Mancha   \n",
       "5   POINT (22.45833 37.34267)          29   EL65            Peloponnisos   \n",
       "6   POINT (21.48411 40.36184)          28   EL53        Dytiki Makedonia   \n",
       "7   POINT (-5.99285 43.29214)           2   ES12  Principado de Asturias   \n",
       "8   POINT (26.54087 42.47193)          20   BG34            Yugoiztochen   \n",
       "9   POINT (23.34295 42.31795)          10   BG41             Yugozapaden   \n",
       "10   POINT (6.59619 51.43016)          38   DEA1              Düsseldorf   \n",
       "11   POINT (6.80943 50.82505)          27   DEA2                    Köln   \n",
       "12   POINT (7.41647 51.95066)           4   DEA3                 Münster   \n",
       "13  POINT (13.42929 50.39452)          17   CZ04             Severozápad   \n",
       "14  POINT (14.14001 51.17059)          21   DED2                 Dresden   \n",
       "15  POINT (17.97938 49.82047)           3   CZ08         Moravskoslezsko   \n",
       "16  POINT (13.39767 52.47265)          18   DE40             Brandenburg   \n",
       "17  POINT (12.67442 51.35890)          23   DED5                 Leipzig   \n",
       "18  POINT (11.70056 52.01362)          22   DEE0          Sachsen-Anhalt   \n",
       "19  POINT (15.26028 46.15226)           7   SI03       Vzhodna Slovenija   \n",
       "20  POINT (18.06682 48.41736)           1   SK02       Západné Slovensko   \n",
       "21  POINT (-2.01899 55.21171)          32   UKC2      Northumberland and   \n",
       "22  POINT (-1.40790 54.18276)          14   UKE2         North Yorkshire   \n",
       "23  POINT (-1.34080 53.13194)          15   UKF1          Derbyshire and   \n",
       "24  POINT (-3.29446 52.29015)          37   UKL2              East Wales   \n",
       "25  POINT (17.24260 52.33068)          24   PL41           Wielkopolskie   \n",
       "26  POINT (16.41050 51.08957)          35   PL51            Dolnośląskie   \n",
       "27  POINT (19.41754 51.60481)          26   PL11                 Łódzkie   \n",
       "28  POINT (23.66963 44.59695)          12   RO41        Sud-Vest Oltenia   \n",
       "29  POINT (21.98891 45.71870)           0   RO42                    Vest   \n",
       "30  POINT (20.26892 49.85894)          11   PL21             Małopolskie   \n",
       "31  POINT (18.99389 50.33107)           6   PL22                 Śląskie   \n",
       "\n",
       "   Type of coal  Jobs Unnamed: 4  Risk rate Risk zone  \n",
       "0     Hard coal   NaN        348       17.0      High  \n",
       "1       Lignite   NaN      1 655       12.0       Low  \n",
       "2     Hard coal   NaN      1 422       14.0    Medium  \n",
       "3     Hard coal   NaN        394       16.5    Medium  \n",
       "4     Hard coal   NaN        219       16.0    Medium  \n",
       "5       Lignite   NaN        636       13.0       Low  \n",
       "6       Lignite   NaN      4 283       13.0       Low  \n",
       "7     Hard coal   NaN      1 313       18.5      High  \n",
       "8       Lignite   NaN     10 773       14.0    Medium  \n",
       "9    Brown coal   NaN        991       16.0    Medium  \n",
       "10      Lignite   NaN      2 578       11.0       Low  \n",
       "11      Lignite   NaN      4 420       13.0       Low  \n",
       "12    Hard coal   NaN      9 640       18.0      High  \n",
       "13      Lignite   NaN      7 869       15.5    Medium  \n",
       "14      Lignite   NaN      2 783       14.0    Medium  \n",
       "15    Hard coal   NaN     10 131       18.0      High  \n",
       "16      Lignite   NaN      3 402       15.0    Medium  \n",
       "17      Lignite   NaN      1 004       14.0    Medium  \n",
       "18      Lignite   NaN        904       14.0    Medium  \n",
       "19      Lignite   NaN      1 274       17.0      High  \n",
       "20      Lignite   NaN      2 190       20.0      High  \n",
       "21    Hard coal   NaN        723       12.5       Low  \n",
       "22    Hard coal   NaN        333       16.0    Medium  \n",
       "23    Hard coal   NaN         80       16.0    Medium  \n",
       "24    Hard coal   NaN        184       12.0       Low  \n",
       "25      Lignite   NaN      2 079       14.0    Medium  \n",
       "26      Lignite   NaN      1 108       12.0       Low  \n",
       "27      Lignite   NaN      6 388       13.5       Low  \n",
       "28      Lignite   NaN     10 600       16.0    Medium  \n",
       "29    Hard coal   NaN      4 442       20.0      High  \n",
       "30    Hard coal   NaN      4 644       16.0    Medium  \n",
       "31    Hard coal   NaN     79 548       17.0      High  "
      ],
      "text/html": "<div>\n<style scoped>\n    .dataframe tbody tr th:only-of-type {\n        vertical-align: middle;\n    }\n\n    .dataframe tbody tr th {\n        vertical-align: top;\n    }\n\n    .dataframe thead th {\n        text-align: right;\n    }\n</style>\n<table border=\"1\" class=\"dataframe\">\n  <thead>\n    <tr style=\"text-align: right;\">\n      <th></th>\n      <th>id</th>\n      <th>NUTS_ID</th>\n      <th>LEVL_CODE</th>\n      <th>CNTR_CODE</th>\n      <th>NAME_LATN</th>\n      <th>NUTS_NAME</th>\n      <th>FID</th>\n      <th>tunit_code</th>\n      <th>TOTAL</th>\n      <th>geometry</th>\n      <th>Unnamed: 0</th>\n      <th>NUTS-2</th>\n      <th>NUTS-2 name</th>\n      <th>Type of coal</th>\n      <th>Jobs</th>\n      <th>Unnamed: 4</th>\n      <th>Risk rate</th>\n      <th>Risk zone</th>\n    </tr>\n  </thead>\n  <tbody>\n    <tr>\n      <th>0</th>\n      <td>ITG2</td>\n      <td>ITG2</td>\n      <td>2</td>\n      <td>IT</td>\n      <td>Sardegna</td>\n      <td>Sardegna</td>\n      <td>ITG2</td>\n      <td>ITG2</td>\n      <td>165.0</td>\n      <td>POINT (9.03019 40.08696)</td>\n      <td>5</td>\n      <td>ITG2</td>\n      <td>Sardegna</td>\n      <td>Hard coal</td>\n      <td>NaN</td>\n      <td>348</td>\n      <td>17.0</td>\n      <td>High</td>\n    </tr>\n    <tr>\n      <th>1</th>\n      <td>HU31</td>\n      <td>HU31</td>\n      <td>2</td>\n      <td>HU</td>\n      <td>Észak-Magyarország</td>\n      <td>Észak-Magyarország</td>\n      <td>HU31</td>\n      <td>HU31</td>\n      <td>632.0</td>\n      <td>POINT (20.48766 48.04732)</td>\n      <td>34</td>\n      <td>HU31</td>\n      <td>Észak-Magyarország</td>\n      <td>Lignite</td>\n      <td>NaN</td>\n      <td>1 655</td>\n      <td>12.0</td>\n      <td>Low</td>\n    </tr>\n    <tr>\n      <th>2</th>\n      <td>ES24</td>\n      <td>ES24</td>\n      <td>2</td>\n      <td>ES</td>\n      <td>Aragón</td>\n      <td>Aragón</td>\n      <td>ES24</td>\n      <td>ES24</td>\n      <td>350.0</td>\n      <td>POINT (-0.65984 41.51941)</td>\n      <td>25</td>\n      <td>ES24</td>\n      <td>Aragón</td>\n      <td>Hard coal</td>\n      <td>NaN</td>\n      <td>1 422</td>\n      <td>14.0</td>\n      <td>Medium</td>\n    </tr>\n    <tr>\n      <th>3</th>\n      <td>ES41</td>\n      <td>ES41</td>\n      <td>2</td>\n      <td>ES</td>\n      <td>Castilla y León</td>\n      <td>Castilla y León</td>\n      <td>ES41</td>\n      <td>ES41</td>\n      <td>861.0</td>\n      <td>POINT (-4.78205 41.75422)</td>\n      <td>9</td>\n      <td>ES41</td>\n      <td>Castilla y León</td>\n      <td>Hard coal</td>\n      <td>NaN</td>\n      <td>394</td>\n      <td>16.5</td>\n      <td>Medium</td>\n    </tr>\n    <tr>\n      <th>4</th>\n      <td>ES42</td>\n      <td>ES42</td>\n      <td>2</td>\n      <td>ES</td>\n      <td>Castilla-La Mancha</td>\n      <td>Castilla-La Mancha</td>\n      <td>ES42</td>\n      <td>ES42</td>\n      <td>0.0</td>\n      <td>POINT (-3.00459 39.58096)</td>\n      <td>13</td>\n      <td>ES42</td>\n      <td>Castilla-La Mancha</td>\n      <td>Hard coal</td>\n      <td>NaN</td>\n      <td>219</td>\n      <td>16.0</td>\n      <td>Medium</td>\n    </tr>\n    <tr>\n      <th>5</th>\n      <td>EL65</td>\n      <td>EL65</td>\n      <td>2</td>\n      <td>EL</td>\n      <td>Peloponnisos</td>\n      <td>Πελοπόννησος</td>\n      <td>EL65</td>\n      <td>EL65</td>\n      <td>210.0</td>\n      <td>POINT (22.45833 37.34267)</td>\n      <td>29</td>\n      <td>EL65</td>\n      <td>Peloponnisos</td>\n      <td>Lignite</td>\n      <td>NaN</td>\n      <td>636</td>\n      <td>13.0</td>\n      <td>Low</td>\n    </tr>\n    <tr>\n      <th>6</th>\n      <td>EL53</td>\n      <td>EL53</td>\n      <td>2</td>\n      <td>EL</td>\n      <td>Dytiki Makedonia</td>\n      <td>Δυτική Μακεδονία</td>\n      <td>EL53</td>\n      <td>EL53</td>\n      <td>1008.0</td>\n      <td>POINT (21.48411 40.36184)</td>\n      <td>28</td>\n      <td>EL53</td>\n      <td>Dytiki Makedonia</td>\n      <td>Lignite</td>\n      <td>NaN</td>\n      <td>4 283</td>\n      <td>13.0</td>\n      <td>Low</td>\n    </tr>\n    <tr>\n      <th>7</th>\n      <td>ES12</td>\n      <td>ES12</td>\n      <td>2</td>\n      <td>ES</td>\n      <td>Principado de Asturias</td>\n      <td>Principado de Asturias</td>\n      <td>ES12</td>\n      <td>ES12</td>\n      <td>589.0</td>\n      <td>POINT (-5.99285 43.29214)</td>\n      <td>2</td>\n      <td>ES12</td>\n      <td>Principado de Asturias</td>\n      <td>Hard coal</td>\n      <td>NaN</td>\n      <td>1 313</td>\n      <td>18.5</td>\n      <td>High</td>\n    </tr>\n    <tr>\n      <th>8</th>\n      <td>BG34</td>\n      <td>BG34</td>\n      <td>2</td>\n      <td>BG</td>\n      <td>Yugoiztochen</td>\n      <td>Югоизточен</td>\n      <td>BG34</td>\n      <td>BG34</td>\n      <td>0.0</td>\n      <td>POINT (26.54087 42.47193)</td>\n      <td>20</td>\n      <td>BG34</td>\n      <td>Yugoiztochen</td>\n      <td>Lignite</td>\n      <td>NaN</td>\n      <td>10 773</td>\n      <td>14.0</td>\n      <td>Medium</td>\n    </tr>\n    <tr>\n      <th>9</th>\n      <td>BG41</td>\n      <td>BG41</td>\n      <td>2</td>\n      <td>BG</td>\n      <td>Yugozapaden</td>\n      <td>Югозападен</td>\n      <td>BG41</td>\n      <td>BG41</td>\n      <td>0.0</td>\n      <td>POINT (23.34295 42.31795)</td>\n      <td>10</td>\n      <td>BG41</td>\n      <td>Yugozapaden</td>\n      <td>Brown coal</td>\n      <td>NaN</td>\n      <td>991</td>\n      <td>16.0</td>\n      <td>Medium</td>\n    </tr>\n    <tr>\n      <th>10</th>\n      <td>DEA1</td>\n      <td>DEA1</td>\n      <td>2</td>\n      <td>DE</td>\n      <td>Düsseldorf</td>\n      <td>Düsseldorf</td>\n      <td>DEA1</td>\n      <td>DEA1</td>\n      <td>1856.0</td>\n      <td>POINT (6.59619 51.43016)</td>\n      <td>38</td>\n      <td>DEA1</td>\n      <td>Düsseldorf</td>\n      <td>Lignite</td>\n      <td>NaN</td>\n      <td>2 578</td>\n      <td>11.0</td>\n      <td>Low</td>\n    </tr>\n    <tr>\n      <th>11</th>\n      <td>DEA2</td>\n      <td>DEA2</td>\n      <td>2</td>\n      <td>DE</td>\n      <td>Köln</td>\n      <td>Köln</td>\n      <td>DEA2</td>\n      <td>DEA2</td>\n      <td>3070.0</td>\n      <td>POINT (6.80943 50.82505)</td>\n      <td>27</td>\n      <td>DEA2</td>\n      <td>Köln</td>\n      <td>Lignite</td>\n      <td>NaN</td>\n      <td>4 420</td>\n      <td>13.0</td>\n      <td>Low</td>\n    </tr>\n    <tr>\n      <th>12</th>\n      <td>DEA3</td>\n      <td>DEA3</td>\n      <td>2</td>\n      <td>DE</td>\n      <td>Münster</td>\n      <td>Münster</td>\n      <td>DEA3</td>\n      <td>DEA3</td>\n      <td>370.0</td>\n      <td>POINT (7.41647 51.95066)</td>\n      <td>4</td>\n      <td>DEA3</td>\n      <td>Münster</td>\n      <td>Hard coal</td>\n      <td>NaN</td>\n      <td>9 640</td>\n      <td>18.0</td>\n      <td>High</td>\n    </tr>\n    <tr>\n      <th>13</th>\n      <td>CZ04</td>\n      <td>CZ04</td>\n      <td>2</td>\n      <td>CZ</td>\n      <td>Severozápad</td>\n      <td>Severozápad</td>\n      <td>CZ04</td>\n      <td>CZ04</td>\n      <td>192.0</td>\n      <td>POINT (13.42929 50.39452)</td>\n      <td>17</td>\n      <td>CZ04</td>\n      <td>Severozápad</td>\n      <td>Lignite</td>\n      <td>NaN</td>\n      <td>7 869</td>\n      <td>15.5</td>\n      <td>Medium</td>\n    </tr>\n    <tr>\n      <th>14</th>\n      <td>DED2</td>\n      <td>DED2</td>\n      <td>2</td>\n      <td>DE</td>\n      <td>Dresden</td>\n      <td>Dresden</td>\n      <td>DED2</td>\n      <td>DED2</td>\n      <td>0.0</td>\n      <td>POINT (14.14001 51.17059)</td>\n      <td>21</td>\n      <td>DED2</td>\n      <td>Dresden</td>\n      <td>Lignite</td>\n      <td>NaN</td>\n      <td>2 783</td>\n      <td>14.0</td>\n      <td>Medium</td>\n    </tr>\n    <tr>\n      <th>15</th>\n      <td>CZ08</td>\n      <td>CZ08</td>\n      <td>2</td>\n      <td>CZ</td>\n      <td>Moravskoslezsko</td>\n      <td>Moravskoslezsko</td>\n      <td>CZ08</td>\n      <td>CZ08</td>\n      <td>0.0</td>\n      <td>POINT (17.97938 49.82047)</td>\n      <td>3</td>\n      <td>CZ08</td>\n      <td>Moravskoslezsko</td>\n      <td>Hard coal</td>\n      <td>NaN</td>\n      <td>10 131</td>\n      <td>18.0</td>\n      <td>High</td>\n    </tr>\n    <tr>\n      <th>16</th>\n      <td>DE40</td>\n      <td>DE40</td>\n      <td>2</td>\n      <td>DE</td>\n      <td>Brandenburg</td>\n      <td>Brandenburg</td>\n      <td>DE40</td>\n      <td>DE40</td>\n      <td>3000.0</td>\n      <td>POINT (13.39767 52.47265)</td>\n      <td>18</td>\n      <td>DE40</td>\n      <td>Brandenburg</td>\n      <td>Lignite</td>\n      <td>NaN</td>\n      <td>3 402</td>\n      <td>15.0</td>\n      <td>Medium</td>\n    </tr>\n    <tr>\n      <th>17</th>\n      <td>DED5</td>\n      <td>DED5</td>\n      <td>2</td>\n      <td>DE</td>\n      <td>Leipzig</td>\n      <td>Leipzig</td>\n      <td>DED5</td>\n      <td>DED5</td>\n      <td>0.0</td>\n      <td>POINT (12.67442 51.35890)</td>\n      <td>23</td>\n      <td>DED5</td>\n      <td>Leipzig</td>\n      <td>Lignite</td>\n      <td>NaN</td>\n      <td>1 004</td>\n      <td>14.0</td>\n      <td>Medium</td>\n    </tr>\n    <tr>\n      <th>18</th>\n      <td>DEE0</td>\n      <td>DEE0</td>\n      <td>2</td>\n      <td>DE</td>\n      <td>Sachsen-Anhalt</td>\n      <td>Sachsen-Anhalt</td>\n      <td>DEE0</td>\n      <td>DEE0</td>\n      <td>960.0</td>\n      <td>POINT (11.70056 52.01362)</td>\n      <td>22</td>\n      <td>DEE0</td>\n      <td>Sachsen-Anhalt</td>\n      <td>Lignite</td>\n      <td>NaN</td>\n      <td>904</td>\n      <td>14.0</td>\n      <td>Medium</td>\n    </tr>\n    <tr>\n      <th>19</th>\n      <td>SI03</td>\n      <td>SI03</td>\n      <td>2</td>\n      <td>SI</td>\n      <td>Vzhodna Slovenija</td>\n      <td>Vzhodna Slovenija</td>\n      <td>SI03</td>\n      <td>SI03</td>\n      <td>820.0</td>\n      <td>POINT (15.26028 46.15226)</td>\n      <td>7</td>\n      <td>SI03</td>\n      <td>Vzhodna Slovenija</td>\n      <td>Lignite</td>\n      <td>NaN</td>\n      <td>1 274</td>\n      <td>17.0</td>\n      <td>High</td>\n    </tr>\n    <tr>\n      <th>20</th>\n      <td>SK02</td>\n      <td>SK02</td>\n      <td>2</td>\n      <td>SK</td>\n      <td>Západné Slovensko</td>\n      <td>Západné Slovensko</td>\n      <td>SK02</td>\n      <td>SK02</td>\n      <td>133.0</td>\n      <td>POINT (18.06682 48.41736)</td>\n      <td>1</td>\n      <td>SK02</td>\n      <td>Západné Slovensko</td>\n      <td>Lignite</td>\n      <td>NaN</td>\n      <td>2 190</td>\n      <td>20.0</td>\n      <td>High</td>\n    </tr>\n    <tr>\n      <th>21</th>\n      <td>UKC2</td>\n      <td>UKC2</td>\n      <td>2</td>\n      <td>UK</td>\n      <td>Northumberland and Tyne and Wear</td>\n      <td>Northumberland and Tyne and Wear</td>\n      <td>UKC2</td>\n      <td>UKC2</td>\n      <td>420.0</td>\n      <td>POINT (-2.01899 55.21171)</td>\n      <td>32</td>\n      <td>UKC2</td>\n      <td>Northumberland and</td>\n      <td>Hard coal</td>\n      <td>NaN</td>\n      <td>723</td>\n      <td>12.5</td>\n      <td>Low</td>\n    </tr>\n    <tr>\n      <th>22</th>\n      <td>UKE2</td>\n      <td>UKE2</td>\n      <td>2</td>\n      <td>UK</td>\n      <td>North Yorkshire</td>\n      <td>North Yorkshire</td>\n      <td>UKE2</td>\n      <td>UKE2</td>\n      <td>1500.0</td>\n      <td>POINT (-1.40790 54.18276)</td>\n      <td>14</td>\n      <td>UKE2</td>\n      <td>North Yorkshire</td>\n      <td>Hard coal</td>\n      <td>NaN</td>\n      <td>333</td>\n      <td>16.0</td>\n      <td>Medium</td>\n    </tr>\n    <tr>\n      <th>23</th>\n      <td>UKF1</td>\n      <td>UKF1</td>\n      <td>2</td>\n      <td>UK</td>\n      <td>Derbyshire and Nottinghamshire</td>\n      <td>Derbyshire and Nottinghamshire</td>\n      <td>UKF1</td>\n      <td>UKF1</td>\n      <td>4943.0</td>\n      <td>POINT (-1.34080 53.13194)</td>\n      <td>15</td>\n      <td>UKF1</td>\n      <td>Derbyshire and</td>\n      <td>Hard coal</td>\n      <td>NaN</td>\n      <td>80</td>\n      <td>16.0</td>\n      <td>Medium</td>\n    </tr>\n    <tr>\n      <th>24</th>\n      <td>UKL2</td>\n      <td>UKL2</td>\n      <td>2</td>\n      <td>UK</td>\n      <td>East Wales</td>\n      <td>East Wales</td>\n      <td>UKL2</td>\n      <td>UKL2</td>\n      <td>500.0</td>\n      <td>POINT (-3.29446 52.29015)</td>\n      <td>37</td>\n      <td>UKL2</td>\n      <td>East Wales</td>\n      <td>Hard coal</td>\n      <td>NaN</td>\n      <td>184</td>\n      <td>12.0</td>\n      <td>Low</td>\n    </tr>\n    <tr>\n      <th>25</th>\n      <td>PL41</td>\n      <td>PL41</td>\n      <td>2</td>\n      <td>PL</td>\n      <td>Wielkopolskie</td>\n      <td>Wielkopolskie</td>\n      <td>PL41</td>\n      <td>PL41</td>\n      <td>1461.0</td>\n      <td>POINT (17.24260 52.33068)</td>\n      <td>24</td>\n      <td>PL41</td>\n      <td>Wielkopolskie</td>\n      <td>Lignite</td>\n      <td>NaN</td>\n      <td>2 079</td>\n      <td>14.0</td>\n      <td>Medium</td>\n    </tr>\n    <tr>\n      <th>26</th>\n      <td>PL51</td>\n      <td>PL51</td>\n      <td>2</td>\n      <td>PL</td>\n      <td>Dolnoslaskie</td>\n      <td>Dolnoslaskie</td>\n      <td>PL51</td>\n      <td>PL51</td>\n      <td>1399.0</td>\n      <td>POINT (16.41050 51.08957)</td>\n      <td>35</td>\n      <td>PL51</td>\n      <td>Dolnośląskie</td>\n      <td>Lignite</td>\n      <td>NaN</td>\n      <td>1 108</td>\n      <td>12.0</td>\n      <td>Low</td>\n    </tr>\n    <tr>\n      <th>27</th>\n      <td>PL11</td>\n      <td>PL11</td>\n      <td>2</td>\n      <td>PL</td>\n      <td>Lódzkie</td>\n      <td>Lódzkie</td>\n      <td>PL11</td>\n      <td>PL11</td>\n      <td>198.0</td>\n      <td>POINT (19.41754 51.60481)</td>\n      <td>26</td>\n      <td>PL11</td>\n      <td>Łódzkie</td>\n      <td>Lignite</td>\n      <td>NaN</td>\n      <td>6 388</td>\n      <td>13.5</td>\n      <td>Low</td>\n    </tr>\n    <tr>\n      <th>28</th>\n      <td>RO41</td>\n      <td>RO41</td>\n      <td>2</td>\n      <td>RO</td>\n      <td>Sud-Vest Oltenia</td>\n      <td>Sud-Vest Oltenia</td>\n      <td>RO41</td>\n      <td>RO41</td>\n      <td>450.0</td>\n      <td>POINT (23.66963 44.59695)</td>\n      <td>12</td>\n      <td>RO41</td>\n      <td>Sud-Vest Oltenia</td>\n      <td>Lignite</td>\n      <td>NaN</td>\n      <td>10 600</td>\n      <td>16.0</td>\n      <td>Medium</td>\n    </tr>\n    <tr>\n      <th>29</th>\n      <td>RO42</td>\n      <td>RO42</td>\n      <td>2</td>\n      <td>RO</td>\n      <td>Vest</td>\n      <td>Vest</td>\n      <td>RO42</td>\n      <td>RO42</td>\n      <td>788.0</td>\n      <td>POINT (21.98891 45.71870)</td>\n      <td>0</td>\n      <td>RO42</td>\n      <td>Vest</td>\n      <td>Hard coal</td>\n      <td>NaN</td>\n      <td>4 442</td>\n      <td>20.0</td>\n      <td>High</td>\n    </tr>\n    <tr>\n      <th>30</th>\n      <td>PL21</td>\n      <td>PL21</td>\n      <td>2</td>\n      <td>PL</td>\n      <td>Malopolskie</td>\n      <td>Malopolskie</td>\n      <td>PL21</td>\n      <td>PL21</td>\n      <td>1214.0</td>\n      <td>POINT (20.26892 49.85894)</td>\n      <td>11</td>\n      <td>PL21</td>\n      <td>Małopolskie</td>\n      <td>Hard coal</td>\n      <td>NaN</td>\n      <td>4 644</td>\n      <td>16.0</td>\n      <td>Medium</td>\n    </tr>\n    <tr>\n      <th>31</th>\n      <td>PL22</td>\n      <td>PL22</td>\n      <td>2</td>\n      <td>PL</td>\n      <td>Slaskie</td>\n      <td>Slaskie</td>\n      <td>PL22</td>\n      <td>PL22</td>\n      <td>1746.0</td>\n      <td>POINT (18.99389 50.33107)</td>\n      <td>6</td>\n      <td>PL22</td>\n      <td>Śląskie</td>\n      <td>Hard coal</td>\n      <td>NaN</td>\n      <td>79 548</td>\n      <td>17.0</td>\n      <td>High</td>\n    </tr>\n  </tbody>\n</table>\n</div>"
     },
     "metadata": {},
     "execution_count": 34
    }
   ],
   "source": [
    "df_job_all = df_this.merge(df_job, left_on='FID', right_on='NUTS-2')\n",
    "df_job_all"
   ]
  },
  {
   "cell_type": "code",
   "execution_count": 37,
   "metadata": {},
   "outputs": [],
   "source": [
    "df_job_all.to_file('jobs_all.geojson', driver='GeoJSON')"
   ]
  },
  {
   "cell_type": "code",
   "execution_count": 39,
   "metadata": {},
   "outputs": [],
   "source": [
    "df1 = pd.read_excel('death_rate_t.xlsx')\n",
    "gdf1 = gpd.read_file('NUTS_RG_10M_2021_4326_LEVL_3.geojson')"
   ]
  },
  {
   "cell_type": "code",
   "execution_count": 40,
   "metadata": {},
   "outputs": [
    {
     "output_type": "execute_result",
     "data": {
      "text/plain": [
       "      NUTS  VALUE\n",
       "0    Vidin    319\n",
       "1  Montana    403\n",
       "2   Vratsa    523\n",
       "3   Pleven    869\n",
       "4   Lovech    451"
      ],
      "text/html": "<div>\n<style scoped>\n    .dataframe tbody tr th:only-of-type {\n        vertical-align: middle;\n    }\n\n    .dataframe tbody tr th {\n        vertical-align: top;\n    }\n\n    .dataframe thead th {\n        text-align: right;\n    }\n</style>\n<table border=\"1\" class=\"dataframe\">\n  <thead>\n    <tr style=\"text-align: right;\">\n      <th></th>\n      <th>NUTS</th>\n      <th>VALUE</th>\n    </tr>\n  </thead>\n  <tbody>\n    <tr>\n      <th>0</th>\n      <td>Vidin</td>\n      <td>319</td>\n    </tr>\n    <tr>\n      <th>1</th>\n      <td>Montana</td>\n      <td>403</td>\n    </tr>\n    <tr>\n      <th>2</th>\n      <td>Vratsa</td>\n      <td>523</td>\n    </tr>\n    <tr>\n      <th>3</th>\n      <td>Pleven</td>\n      <td>869</td>\n    </tr>\n    <tr>\n      <th>4</th>\n      <td>Lovech</td>\n      <td>451</td>\n    </tr>\n  </tbody>\n</table>\n</div>"
     },
     "metadata": {},
     "execution_count": 40
    }
   ],
   "source": [
    "df1.head()"
   ]
  },
  {
   "cell_type": "code",
   "execution_count": 44,
   "metadata": {},
   "outputs": [
    {
     "output_type": "execute_result",
     "data": {
      "text/plain": [
       "        id NUTS_ID  LEVL_CODE CNTR_CODE                 NAME_LATN  \\\n",
       "0    BG423   BG423          3        BG                Pazardzhik   \n",
       "1    BG424   BG424          3        BG                   Smolyan   \n",
       "2    BG425   BG425          3        BG                 Kardzhali   \n",
       "3    CH025   CH025          3        CH                      Jura   \n",
       "4    FRC22   FRC22          3        FR                      Jura   \n",
       "..     ...     ...        ...       ...                       ...   \n",
       "507  PT11E   PT11E          3        PT  Terras de Trás-os-Montes   \n",
       "508  PT150   PT150          3        PT                   Algarve   \n",
       "509  PT16B   PT16B          3        PT                     Oeste   \n",
       "510  PT16D   PT16D          3        PT          Região de Aveiro   \n",
       "511  PT16E   PT16E          3        PT         Região de Coimbra   \n",
       "\n",
       "                    NUTS_NAME  MOUNT_TYPE  URBN_TYPE  COAST_TYPE    FID  \\\n",
       "0                   Пазарджик         3.0        2.0           3  BG423   \n",
       "1                      Смолян         3.0        3.0           3  BG424   \n",
       "2                    Кърджали         3.0        3.0           3  BG425   \n",
       "3                        Jura         3.0        3.0           3  CH025   \n",
       "4                        Jura         3.0        3.0           3  FRC22   \n",
       "..                        ...         ...        ...         ...    ...   \n",
       "507  Terras de Trás-os-Montes         3.0        3.0           3  PT11E   \n",
       "508                   Algarve         4.0        2.0           1  PT150   \n",
       "509                     Oeste         4.0        3.0           1  PT16B   \n",
       "510          Região de Aveiro         4.0        2.0           1  PT16D   \n",
       "511         Região de Coimbra         4.0        3.0           1  PT16E   \n",
       "\n",
       "                                              geometry  \\\n",
       "0    POLYGON ((24.42101 42.55306, 24.41032 42.46950...   \n",
       "1    POLYGON ((25.07422 41.79348, 25.05851 41.75177...   \n",
       "2    POLYGON ((25.94863 41.32034, 25.90644 41.30757...   \n",
       "3    POLYGON ((7.13035 47.50304, 7.19070 47.44275, ...   \n",
       "4    POLYGON ((5.69873 47.26500, 5.81500 47.15148, ...   \n",
       "..                                                 ...   \n",
       "507  POLYGON ((-6.47971 41.29438, -6.68979 41.20524...   \n",
       "508  POLYGON ((-7.40192 37.17483, -7.55978 37.14977...   \n",
       "509  POLYGON ((-8.90342 39.46601, -8.99470 39.34672...   \n",
       "510  POLYGON ((-8.27337 40.76317, -8.32343 40.72698...   \n",
       "511  POLYGON ((-8.25066 40.51489, -8.16996 40.45981...   \n",
       "\n",
       "                         NUTS  VALUE  \n",
       "0                  Pazardzhik    810  \n",
       "1                     Smolyan    445  \n",
       "2                   Kardzhali    422  \n",
       "3                        Jura    701  \n",
       "4                        Jura    701  \n",
       "..                        ...    ...  \n",
       "507  Terras de Trás-os-Montes   1077  \n",
       "508                   Algarve   6906  \n",
       "509                     Oeste   4347  \n",
       "510          Região de Aveiro   4579  \n",
       "511         Região de Coimbra   5994  \n",
       "\n",
       "[512 rows x 13 columns]"
      ],
      "text/html": "<div>\n<style scoped>\n    .dataframe tbody tr th:only-of-type {\n        vertical-align: middle;\n    }\n\n    .dataframe tbody tr th {\n        vertical-align: top;\n    }\n\n    .dataframe thead th {\n        text-align: right;\n    }\n</style>\n<table border=\"1\" class=\"dataframe\">\n  <thead>\n    <tr style=\"text-align: right;\">\n      <th></th>\n      <th>id</th>\n      <th>NUTS_ID</th>\n      <th>LEVL_CODE</th>\n      <th>CNTR_CODE</th>\n      <th>NAME_LATN</th>\n      <th>NUTS_NAME</th>\n      <th>MOUNT_TYPE</th>\n      <th>URBN_TYPE</th>\n      <th>COAST_TYPE</th>\n      <th>FID</th>\n      <th>geometry</th>\n      <th>NUTS</th>\n      <th>VALUE</th>\n    </tr>\n  </thead>\n  <tbody>\n    <tr>\n      <th>0</th>\n      <td>BG423</td>\n      <td>BG423</td>\n      <td>3</td>\n      <td>BG</td>\n      <td>Pazardzhik</td>\n      <td>Пазарджик</td>\n      <td>3.0</td>\n      <td>2.0</td>\n      <td>3</td>\n      <td>BG423</td>\n      <td>POLYGON ((24.42101 42.55306, 24.41032 42.46950...</td>\n      <td>Pazardzhik</td>\n      <td>810</td>\n    </tr>\n    <tr>\n      <th>1</th>\n      <td>BG424</td>\n      <td>BG424</td>\n      <td>3</td>\n      <td>BG</td>\n      <td>Smolyan</td>\n      <td>Смолян</td>\n      <td>3.0</td>\n      <td>3.0</td>\n      <td>3</td>\n      <td>BG424</td>\n      <td>POLYGON ((25.07422 41.79348, 25.05851 41.75177...</td>\n      <td>Smolyan</td>\n      <td>445</td>\n    </tr>\n    <tr>\n      <th>2</th>\n      <td>BG425</td>\n      <td>BG425</td>\n      <td>3</td>\n      <td>BG</td>\n      <td>Kardzhali</td>\n      <td>Кърджали</td>\n      <td>3.0</td>\n      <td>3.0</td>\n      <td>3</td>\n      <td>BG425</td>\n      <td>POLYGON ((25.94863 41.32034, 25.90644 41.30757...</td>\n      <td>Kardzhali</td>\n      <td>422</td>\n    </tr>\n    <tr>\n      <th>3</th>\n      <td>CH025</td>\n      <td>CH025</td>\n      <td>3</td>\n      <td>CH</td>\n      <td>Jura</td>\n      <td>Jura</td>\n      <td>3.0</td>\n      <td>3.0</td>\n      <td>3</td>\n      <td>CH025</td>\n      <td>POLYGON ((7.13035 47.50304, 7.19070 47.44275, ...</td>\n      <td>Jura</td>\n      <td>701</td>\n    </tr>\n    <tr>\n      <th>4</th>\n      <td>FRC22</td>\n      <td>FRC22</td>\n      <td>3</td>\n      <td>FR</td>\n      <td>Jura</td>\n      <td>Jura</td>\n      <td>3.0</td>\n      <td>3.0</td>\n      <td>3</td>\n      <td>FRC22</td>\n      <td>POLYGON ((5.69873 47.26500, 5.81500 47.15148, ...</td>\n      <td>Jura</td>\n      <td>701</td>\n    </tr>\n    <tr>\n      <th>...</th>\n      <td>...</td>\n      <td>...</td>\n      <td>...</td>\n      <td>...</td>\n      <td>...</td>\n      <td>...</td>\n      <td>...</td>\n      <td>...</td>\n      <td>...</td>\n      <td>...</td>\n      <td>...</td>\n      <td>...</td>\n      <td>...</td>\n    </tr>\n    <tr>\n      <th>507</th>\n      <td>PT11E</td>\n      <td>PT11E</td>\n      <td>3</td>\n      <td>PT</td>\n      <td>Terras de Trás-os-Montes</td>\n      <td>Terras de Trás-os-Montes</td>\n      <td>3.0</td>\n      <td>3.0</td>\n      <td>3</td>\n      <td>PT11E</td>\n      <td>POLYGON ((-6.47971 41.29438, -6.68979 41.20524...</td>\n      <td>Terras de Trás-os-Montes</td>\n      <td>1077</td>\n    </tr>\n    <tr>\n      <th>508</th>\n      <td>PT150</td>\n      <td>PT150</td>\n      <td>3</td>\n      <td>PT</td>\n      <td>Algarve</td>\n      <td>Algarve</td>\n      <td>4.0</td>\n      <td>2.0</td>\n      <td>1</td>\n      <td>PT150</td>\n      <td>POLYGON ((-7.40192 37.17483, -7.55978 37.14977...</td>\n      <td>Algarve</td>\n      <td>6906</td>\n    </tr>\n    <tr>\n      <th>509</th>\n      <td>PT16B</td>\n      <td>PT16B</td>\n      <td>3</td>\n      <td>PT</td>\n      <td>Oeste</td>\n      <td>Oeste</td>\n      <td>4.0</td>\n      <td>3.0</td>\n      <td>1</td>\n      <td>PT16B</td>\n      <td>POLYGON ((-8.90342 39.46601, -8.99470 39.34672...</td>\n      <td>Oeste</td>\n      <td>4347</td>\n    </tr>\n    <tr>\n      <th>510</th>\n      <td>PT16D</td>\n      <td>PT16D</td>\n      <td>3</td>\n      <td>PT</td>\n      <td>Região de Aveiro</td>\n      <td>Região de Aveiro</td>\n      <td>4.0</td>\n      <td>2.0</td>\n      <td>1</td>\n      <td>PT16D</td>\n      <td>POLYGON ((-8.27337 40.76317, -8.32343 40.72698...</td>\n      <td>Região de Aveiro</td>\n      <td>4579</td>\n    </tr>\n    <tr>\n      <th>511</th>\n      <td>PT16E</td>\n      <td>PT16E</td>\n      <td>3</td>\n      <td>PT</td>\n      <td>Região de Coimbra</td>\n      <td>Região de Coimbra</td>\n      <td>4.0</td>\n      <td>3.0</td>\n      <td>1</td>\n      <td>PT16E</td>\n      <td>POLYGON ((-8.25066 40.51489, -8.16996 40.45981...</td>\n      <td>Região de Coimbra</td>\n      <td>5994</td>\n    </tr>\n  </tbody>\n</table>\n<p>512 rows × 13 columns</p>\n</div>"
     },
     "metadata": {},
     "execution_count": 44
    }
   ],
   "source": [
    "df_death = gdf1.merge(df1, left_on='NAME_LATN', right_on='NUTS')\n",
    "df_death"
   ]
  },
  {
   "cell_type": "code",
   "execution_count": 45,
   "metadata": {},
   "outputs": [],
   "source": [
    "df_death.to_file('ent_mort.geojson', driver='GeoJSON')"
   ]
  },
  {
   "cell_type": "code",
   "execution_count": 50,
   "metadata": {},
   "outputs": [
    {
     "output_type": "execute_result",
     "data": {
      "text/plain": [
       "0.50    59\n",
       "1.00    55\n",
       "0.33    42\n",
       "0.25    39\n",
       "0.83    13\n",
       "        ..\n",
       "5.35     1\n",
       "5.48     1\n",
       "9.91     1\n",
       "2.80     1\n",
       "5.96     1\n",
       "Name: VALUE, Length: 475, dtype: int64"
      ]
     },
     "metadata": {},
     "execution_count": 50
    }
   ],
   "source": [
    "df_pat = pd.read_excel('patent_data.xlsx')\n",
    "df_pat.dropna()"
   ]
  },
  {
   "cell_type": "code",
   "execution_count": 52,
   "metadata": {},
   "outputs": [
    {
     "output_type": "execute_result",
     "data": {
      "text/plain": [
       "      id NUTS_ID  LEVL_CODE CNTR_CODE   NAME_LATN  NUTS_NAME  MOUNT_TYPE  \\\n",
       "0  BG423   BG423          3        BG  Pazardzhik  Пазарджик         3.0   \n",
       "1  BG424   BG424          3        BG     Smolyan     Смолян         3.0   \n",
       "2  BG425   BG425          3        BG   Kardzhali   Кърджали         3.0   \n",
       "3  CH011   CH011          3        CH        Vaud       Vaud         3.0   \n",
       "4  CH012   CH012          3        CH      Valais     Valais         3.0   \n",
       "\n",
       "   URBN_TYPE  COAST_TYPE    FID  \\\n",
       "0        2.0           3  BG423   \n",
       "1        3.0           3  BG424   \n",
       "2        3.0           3  BG425   \n",
       "3        2.0           3  CH011   \n",
       "4        2.0           3  CH012   \n",
       "\n",
       "                                            geometry  \n",
       "0  POLYGON ((24.42101 42.55306, 24.41032 42.46950...  \n",
       "1  POLYGON ((25.07422 41.79348, 25.05851 41.75177...  \n",
       "2  POLYGON ((25.94863 41.32034, 25.90644 41.30757...  \n",
       "3  MULTIPOLYGON (((6.86623 46.90929, 6.89621 46.9...  \n",
       "4  POLYGON ((8.47767 46.52760, 8.39953 46.48872, ...  "
      ],
      "text/html": "<div>\n<style scoped>\n    .dataframe tbody tr th:only-of-type {\n        vertical-align: middle;\n    }\n\n    .dataframe tbody tr th {\n        vertical-align: top;\n    }\n\n    .dataframe thead th {\n        text-align: right;\n    }\n</style>\n<table border=\"1\" class=\"dataframe\">\n  <thead>\n    <tr style=\"text-align: right;\">\n      <th></th>\n      <th>id</th>\n      <th>NUTS_ID</th>\n      <th>LEVL_CODE</th>\n      <th>CNTR_CODE</th>\n      <th>NAME_LATN</th>\n      <th>NUTS_NAME</th>\n      <th>MOUNT_TYPE</th>\n      <th>URBN_TYPE</th>\n      <th>COAST_TYPE</th>\n      <th>FID</th>\n      <th>geometry</th>\n    </tr>\n  </thead>\n  <tbody>\n    <tr>\n      <th>0</th>\n      <td>BG423</td>\n      <td>BG423</td>\n      <td>3</td>\n      <td>BG</td>\n      <td>Pazardzhik</td>\n      <td>Пазарджик</td>\n      <td>3.0</td>\n      <td>2.0</td>\n      <td>3</td>\n      <td>BG423</td>\n      <td>POLYGON ((24.42101 42.55306, 24.41032 42.46950...</td>\n    </tr>\n    <tr>\n      <th>1</th>\n      <td>BG424</td>\n      <td>BG424</td>\n      <td>3</td>\n      <td>BG</td>\n      <td>Smolyan</td>\n      <td>Смолян</td>\n      <td>3.0</td>\n      <td>3.0</td>\n      <td>3</td>\n      <td>BG424</td>\n      <td>POLYGON ((25.07422 41.79348, 25.05851 41.75177...</td>\n    </tr>\n    <tr>\n      <th>2</th>\n      <td>BG425</td>\n      <td>BG425</td>\n      <td>3</td>\n      <td>BG</td>\n      <td>Kardzhali</td>\n      <td>Кърджали</td>\n      <td>3.0</td>\n      <td>3.0</td>\n      <td>3</td>\n      <td>BG425</td>\n      <td>POLYGON ((25.94863 41.32034, 25.90644 41.30757...</td>\n    </tr>\n    <tr>\n      <th>3</th>\n      <td>CH011</td>\n      <td>CH011</td>\n      <td>3</td>\n      <td>CH</td>\n      <td>Vaud</td>\n      <td>Vaud</td>\n      <td>3.0</td>\n      <td>2.0</td>\n      <td>3</td>\n      <td>CH011</td>\n      <td>MULTIPOLYGON (((6.86623 46.90929, 6.89621 46.9...</td>\n    </tr>\n    <tr>\n      <th>4</th>\n      <td>CH012</td>\n      <td>CH012</td>\n      <td>3</td>\n      <td>CH</td>\n      <td>Valais</td>\n      <td>Valais</td>\n      <td>3.0</td>\n      <td>2.0</td>\n      <td>3</td>\n      <td>CH012</td>\n      <td>POLYGON ((8.47767 46.52760, 8.39953 46.48872, ...</td>\n    </tr>\n  </tbody>\n</table>\n</div>"
     },
     "metadata": {},
     "execution_count": 52
    }
   ],
   "source": [
    "gdf2010 = gpd.read_file('NUTS_RG_10M_2021_4326_LEVL_3.geojson')\n",
    "gdf2010.head()"
   ]
  },
  {
   "cell_type": "code",
   "execution_count": 54,
   "metadata": {},
   "outputs": [
    {
     "output_type": "execute_result",
     "data": {
      "text/plain": [
       "      id NUTS_ID  LEVL_CODE CNTR_CODE   NAME_LATN  NUTS_NAME  MOUNT_TYPE  \\\n",
       "0  BG423   BG423          3        BG  Pazardzhik  Пазарджик         3.0   \n",
       "1  CH011   CH011          3        CH        Vaud       Vaud         3.0   \n",
       "2  CH012   CH012          3        CH      Valais     Valais         3.0   \n",
       "3  CH013   CH013          3        CH      Genève     Genève         1.0   \n",
       "4  CH021   CH021          3        CH        Bern       Bern         3.0   \n",
       "\n",
       "   URBN_TYPE  COAST_TYPE    FID  \\\n",
       "0        2.0           3  BG423   \n",
       "1        2.0           3  CH011   \n",
       "2        2.0           3  CH012   \n",
       "3        1.0           3  CH013   \n",
       "4        2.0           3  CH021   \n",
       "\n",
       "                                            geometry NUTSCODE  VALUE  \n",
       "0  POLYGON ((24.42101 42.55306, 24.41032 42.46950...    BG423    NaN  \n",
       "1  MULTIPOLYGON (((6.86623 46.90929, 6.89621 46.9...    CH011  51.05  \n",
       "2  POLYGON ((8.47767 46.52760, 8.39953 46.48872, ...    CH012   1.55  \n",
       "3  POLYGON ((6.21955 46.31188, 6.29119 46.25099, ...    CH013   8.15  \n",
       "4  MULTIPOLYGON (((7.55840 47.32237, 7.36700 47.2...    CH021  18.60  "
      ],
      "text/html": "<div>\n<style scoped>\n    .dataframe tbody tr th:only-of-type {\n        vertical-align: middle;\n    }\n\n    .dataframe tbody tr th {\n        vertical-align: top;\n    }\n\n    .dataframe thead th {\n        text-align: right;\n    }\n</style>\n<table border=\"1\" class=\"dataframe\">\n  <thead>\n    <tr style=\"text-align: right;\">\n      <th></th>\n      <th>id</th>\n      <th>NUTS_ID</th>\n      <th>LEVL_CODE</th>\n      <th>CNTR_CODE</th>\n      <th>NAME_LATN</th>\n      <th>NUTS_NAME</th>\n      <th>MOUNT_TYPE</th>\n      <th>URBN_TYPE</th>\n      <th>COAST_TYPE</th>\n      <th>FID</th>\n      <th>geometry</th>\n      <th>NUTSCODE</th>\n      <th>VALUE</th>\n    </tr>\n  </thead>\n  <tbody>\n    <tr>\n      <th>0</th>\n      <td>BG423</td>\n      <td>BG423</td>\n      <td>3</td>\n      <td>BG</td>\n      <td>Pazardzhik</td>\n      <td>Пазарджик</td>\n      <td>3.0</td>\n      <td>2.0</td>\n      <td>3</td>\n      <td>BG423</td>\n      <td>POLYGON ((24.42101 42.55306, 24.41032 42.46950...</td>\n      <td>BG423</td>\n      <td>NaN</td>\n    </tr>\n    <tr>\n      <th>1</th>\n      <td>CH011</td>\n      <td>CH011</td>\n      <td>3</td>\n      <td>CH</td>\n      <td>Vaud</td>\n      <td>Vaud</td>\n      <td>3.0</td>\n      <td>2.0</td>\n      <td>3</td>\n      <td>CH011</td>\n      <td>MULTIPOLYGON (((6.86623 46.90929, 6.89621 46.9...</td>\n      <td>CH011</td>\n      <td>51.05</td>\n    </tr>\n    <tr>\n      <th>2</th>\n      <td>CH012</td>\n      <td>CH012</td>\n      <td>3</td>\n      <td>CH</td>\n      <td>Valais</td>\n      <td>Valais</td>\n      <td>3.0</td>\n      <td>2.0</td>\n      <td>3</td>\n      <td>CH012</td>\n      <td>POLYGON ((8.47767 46.52760, 8.39953 46.48872, ...</td>\n      <td>CH012</td>\n      <td>1.55</td>\n    </tr>\n    <tr>\n      <th>3</th>\n      <td>CH013</td>\n      <td>CH013</td>\n      <td>3</td>\n      <td>CH</td>\n      <td>Genève</td>\n      <td>Genève</td>\n      <td>1.0</td>\n      <td>1.0</td>\n      <td>3</td>\n      <td>CH013</td>\n      <td>POLYGON ((6.21955 46.31188, 6.29119 46.25099, ...</td>\n      <td>CH013</td>\n      <td>8.15</td>\n    </tr>\n    <tr>\n      <th>4</th>\n      <td>CH021</td>\n      <td>CH021</td>\n      <td>3</td>\n      <td>CH</td>\n      <td>Bern</td>\n      <td>Bern</td>\n      <td>3.0</td>\n      <td>2.0</td>\n      <td>3</td>\n      <td>CH021</td>\n      <td>MULTIPOLYGON (((7.55840 47.32237, 7.36700 47.2...</td>\n      <td>CH021</td>\n      <td>18.60</td>\n    </tr>\n  </tbody>\n</table>\n</div>"
     },
     "metadata": {},
     "execution_count": 54
    }
   ],
   "source": [
    "df_patent = gdf2010.merge(df_pat, left_on='NUTS_ID', right_on='NUTSCODE')\n",
    "df_patent.head()"
   ]
  },
  {
   "cell_type": "code",
   "execution_count": 59,
   "metadata": {},
   "outputs": [],
   "source": [
    "df_patent.dropna(inplace=True)"
   ]
  },
  {
   "cell_type": "code",
   "execution_count": 60,
   "metadata": {},
   "outputs": [],
   "source": [
    "df_patent.to_file('patent.geojson', driver='GeoJSON')"
   ]
  },
  {
   "cell_type": "code",
   "execution_count": 58,
   "metadata": {},
   "outputs": [
    {
     "output_type": "execute_result",
     "data": {
      "text/plain": [
       "count    960.000000\n",
       "mean       8.896833\n",
       "std       25.631087\n",
       "min        0.050000\n",
       "25%        0.830000\n",
       "50%        2.275000\n",
       "75%        6.710000\n",
       "max      301.670000\n",
       "Name: VALUE, dtype: float64"
      ]
     },
     "metadata": {},
     "execution_count": 58
    }
   ],
   "source": [
    "df_pat['VALUE'].describe()"
   ]
  },
  {
   "cell_type": "code",
   "execution_count": 100,
   "metadata": {},
   "outputs": [
    {
     "output_type": "stream",
     "name": "stderr",
     "text": [
      "<ipython-input-100-4e6e90581dc6>:7: UserWarning: Geometry is in a geographic CRS. Results from 'buffer' are likely incorrect. Use 'GeoSeries.to_crs()' to re-project geometries to a projected CRS before this operation.\n\n  strconv['meteres'] = strconv['geometry'].buffer(0.1)\n"
     ]
    },
    {
     "output_type": "execute_result",
     "data": {
      "text/plain": [
       "      id NUTS_ID  LEVL_CODE CNTR_CODE                         NAME_LATN  \\\n",
       "0   ITG2    ITG2          2        IT                          Sardegna   \n",
       "1   HU31    HU31          2        HU                Észak-Magyarország   \n",
       "2   ES24    ES24          2        ES                            Aragón   \n",
       "3   ES41    ES41          2        ES                   Castilla y León   \n",
       "4   ES42    ES42          2        ES                Castilla-La Mancha   \n",
       "5   EL65    EL65          2        EL                      Peloponnisos   \n",
       "6   EL53    EL53          2        EL                  Dytiki Makedonia   \n",
       "7   ES12    ES12          2        ES            Principado de Asturias   \n",
       "8   BG34    BG34          2        BG                      Yugoiztochen   \n",
       "9   BG41    BG41          2        BG                       Yugozapaden   \n",
       "10  DEA1    DEA1          2        DE                        Düsseldorf   \n",
       "11  DEA2    DEA2          2        DE                              Köln   \n",
       "12  DEA3    DEA3          2        DE                           Münster   \n",
       "13  CZ04    CZ04          2        CZ                       Severozápad   \n",
       "14  DED2    DED2          2        DE                           Dresden   \n",
       "15  CZ08    CZ08          2        CZ                   Moravskoslezsko   \n",
       "16  DE40    DE40          2        DE                       Brandenburg   \n",
       "17  DED5    DED5          2        DE                           Leipzig   \n",
       "18  DEE0    DEE0          2        DE                    Sachsen-Anhalt   \n",
       "19  SI03    SI03          2        SI                 Vzhodna Slovenija   \n",
       "20  SK02    SK02          2        SK                 Západné Slovensko   \n",
       "21  UKC2    UKC2          2        UK  Northumberland and Tyne and Wear   \n",
       "22  UKE2    UKE2          2        UK                   North Yorkshire   \n",
       "23  UKF1    UKF1          2        UK    Derbyshire and Nottinghamshire   \n",
       "24  UKL2    UKL2          2        UK                        East Wales   \n",
       "25  PL41    PL41          2        PL                     Wielkopolskie   \n",
       "26  PL51    PL51          2        PL                      Dolnoslaskie   \n",
       "27  PL11    PL11          2        PL                           Lódzkie   \n",
       "28  RO41    RO41          2        RO                  Sud-Vest Oltenia   \n",
       "29  RO42    RO42          2        RO                              Vest   \n",
       "30  PL21    PL21          2        PL                       Malopolskie   \n",
       "31  PL22    PL22          2        PL                           Slaskie   \n",
       "\n",
       "                           NUTS_NAME   FID   TOTAL Type of coal  Jobs  \\\n",
       "0                           Sardegna  ITG2   165.0    Hard coal  None   \n",
       "1                 Észak-Magyarország  HU31   632.0      Lignite  None   \n",
       "2                             Aragón  ES24   350.0    Hard coal  None   \n",
       "3                    Castilla y León  ES41   861.0    Hard coal  None   \n",
       "4                 Castilla-La Mancha  ES42     0.0    Hard coal  None   \n",
       "5                       Πελοπόννησος  EL65   210.0      Lignite  None   \n",
       "6                   Δυτική Μακεδονία  EL53  1008.0      Lignite  None   \n",
       "7             Principado de Asturias  ES12   589.0    Hard coal  None   \n",
       "8                         Югоизточен  BG34     0.0      Lignite  None   \n",
       "9                         Югозападен  BG41     0.0   Brown coal  None   \n",
       "10                        Düsseldorf  DEA1  1856.0      Lignite  None   \n",
       "11                              Köln  DEA2  3070.0      Lignite  None   \n",
       "12                           Münster  DEA3   370.0    Hard coal  None   \n",
       "13                       Severozápad  CZ04   192.0      Lignite  None   \n",
       "14                           Dresden  DED2     0.0      Lignite  None   \n",
       "15                   Moravskoslezsko  CZ08     0.0    Hard coal  None   \n",
       "16                       Brandenburg  DE40  3000.0      Lignite  None   \n",
       "17                           Leipzig  DED5     0.0      Lignite  None   \n",
       "18                    Sachsen-Anhalt  DEE0   960.0      Lignite  None   \n",
       "19                 Vzhodna Slovenija  SI03   820.0      Lignite  None   \n",
       "20                 Západné Slovensko  SK02   133.0      Lignite  None   \n",
       "21  Northumberland and Tyne and Wear  UKC2   420.0    Hard coal  None   \n",
       "22                   North Yorkshire  UKE2  1500.0    Hard coal  None   \n",
       "23    Derbyshire and Nottinghamshire  UKF1  4943.0    Hard coal  None   \n",
       "24                        East Wales  UKL2   500.0    Hard coal  None   \n",
       "25                     Wielkopolskie  PL41  1461.0      Lignite  None   \n",
       "26                      Dolnoslaskie  PL51  1399.0      Lignite  None   \n",
       "27                           Lódzkie  PL11   198.0      Lignite  None   \n",
       "28                  Sud-Vest Oltenia  RO41   450.0      Lignite  None   \n",
       "29                              Vest  RO42   788.0    Hard coal  None   \n",
       "30                       Malopolskie  PL21  1214.0    Hard coal  None   \n",
       "31                           Slaskie  PL22  1746.0    Hard coal  None   \n",
       "\n",
       "   Unnamed: 4  Risk rate Risk zone  labour  \\\n",
       "0         348       17.0      High     348   \n",
       "1       1 655       12.0       Low    1655   \n",
       "2       1 422       14.0    Medium    1422   \n",
       "3         394       16.5    Medium     394   \n",
       "4         219       16.0    Medium     219   \n",
       "5         636       13.0       Low     636   \n",
       "6       4 283       13.0       Low    4283   \n",
       "7       1 313       18.5      High    1313   \n",
       "8      10 773       14.0    Medium   10773   \n",
       "9         991       16.0    Medium     991   \n",
       "10      2 578       11.0       Low    2578   \n",
       "11      4 420       13.0       Low    4420   \n",
       "12      9 640       18.0      High    9640   \n",
       "13      7 869       15.5    Medium    7869   \n",
       "14      2 783       14.0    Medium    2783   \n",
       "15     10 131       18.0      High   10131   \n",
       "16      3 402       15.0    Medium    3402   \n",
       "17      1 004       14.0    Medium    1004   \n",
       "18        904       14.0    Medium     904   \n",
       "19      1 274       17.0      High    1274   \n",
       "20      2 190       20.0      High    2190   \n",
       "21        723       12.5       Low     723   \n",
       "22        333       16.0    Medium     333   \n",
       "23         80       16.0    Medium      80   \n",
       "24        184       12.0       Low     184   \n",
       "25      2 079       14.0    Medium    2079   \n",
       "26      1 108       12.0       Low    1108   \n",
       "27      6 388       13.5       Low    6388   \n",
       "28     10 600       16.0    Medium   10600   \n",
       "29      4 442       20.0      High    4442   \n",
       "30      4 644       16.0    Medium    4644   \n",
       "31     79 548       17.0      High   79548   \n",
       "\n",
       "                                             geometry  \n",
       "0   POLYGON ((9.13019 40.08696, 9.12970 40.07716, ...  \n",
       "1   POLYGON ((20.58766 48.04732, 20.58718 48.03752...  \n",
       "2   POLYGON ((-0.55984 41.51941, -0.56032 41.50960...  \n",
       "3   POLYGON ((-4.68205 41.75422, -4.68253 41.74442...  \n",
       "4   POLYGON ((-2.90459 39.58096, -2.90507 39.57116...  \n",
       "5   POLYGON ((22.55833 37.34267, 22.55785 37.33287...  \n",
       "6   POLYGON ((21.58411 40.36184, 21.58363 40.35204...  \n",
       "7   POLYGON ((-5.89285 43.29214, -5.89333 43.28234...  \n",
       "8   POLYGON ((26.64087 42.47193, 26.64039 42.46213...  \n",
       "9   POLYGON ((23.44295 42.31795, 23.44247 42.30815...  \n",
       "10  POLYGON ((6.69619 51.43016, 6.69571 51.42035, ...  \n",
       "11  POLYGON ((6.90943 50.82505, 6.90895 50.81525, ...  \n",
       "12  POLYGON ((7.51647 51.95066, 7.51599 51.94086, ...  \n",
       "13  POLYGON ((13.52929 50.39452, 13.52881 50.38472...  \n",
       "14  POLYGON ((14.24001 51.17059, 14.23953 51.16079...  \n",
       "15  POLYGON ((18.07938 49.82047, 18.07889 49.81067...  \n",
       "16  POLYGON ((13.49767 52.47265, 13.49719 52.46285...  \n",
       "17  POLYGON ((12.77442 51.35890, 12.77394 51.34910...  \n",
       "18  POLYGON ((11.80056 52.01362, 11.80008 52.00382...  \n",
       "19  POLYGON ((15.36028 46.15226, 15.35980 46.14246...  \n",
       "20  POLYGON ((18.16682 48.41736, 18.16634 48.40756...  \n",
       "21  POLYGON ((-1.91899 55.21171, -1.91947 55.20191...  \n",
       "22  POLYGON ((-1.30790 54.18276, -1.30838 54.17295...  \n",
       "23  POLYGON ((-1.24080 53.13194, -1.24128 53.12214...  \n",
       "24  POLYGON ((-3.19446 52.29015, -3.19494 52.28034...  \n",
       "25  POLYGON ((17.34260 52.33068, 17.34212 52.32088...  \n",
       "26  POLYGON ((16.51050 51.08957, 16.51002 51.07977...  \n",
       "27  POLYGON ((19.51754 51.60481, 19.51706 51.59501...  \n",
       "28  POLYGON ((23.76963 44.59695, 23.76915 44.58715...  \n",
       "29  POLYGON ((22.08891 45.71870, 22.08843 45.70889...  \n",
       "30  POLYGON ((20.36892 49.85894, 20.36844 49.84914...  \n",
       "31  POLYGON ((19.09389 50.33107, 19.09341 50.32127...  "
      ],
      "text/html": "<div>\n<style scoped>\n    .dataframe tbody tr th:only-of-type {\n        vertical-align: middle;\n    }\n\n    .dataframe tbody tr th {\n        vertical-align: top;\n    }\n\n    .dataframe thead th {\n        text-align: right;\n    }\n</style>\n<table border=\"1\" class=\"dataframe\">\n  <thead>\n    <tr style=\"text-align: right;\">\n      <th></th>\n      <th>id</th>\n      <th>NUTS_ID</th>\n      <th>LEVL_CODE</th>\n      <th>CNTR_CODE</th>\n      <th>NAME_LATN</th>\n      <th>NUTS_NAME</th>\n      <th>FID</th>\n      <th>TOTAL</th>\n      <th>Type of coal</th>\n      <th>Jobs</th>\n      <th>Unnamed: 4</th>\n      <th>Risk rate</th>\n      <th>Risk zone</th>\n      <th>labour</th>\n      <th>geometry</th>\n    </tr>\n  </thead>\n  <tbody>\n    <tr>\n      <th>0</th>\n      <td>ITG2</td>\n      <td>ITG2</td>\n      <td>2</td>\n      <td>IT</td>\n      <td>Sardegna</td>\n      <td>Sardegna</td>\n      <td>ITG2</td>\n      <td>165.0</td>\n      <td>Hard coal</td>\n      <td>None</td>\n      <td>348</td>\n      <td>17.0</td>\n      <td>High</td>\n      <td>348</td>\n      <td>POLYGON ((9.13019 40.08696, 9.12970 40.07716, ...</td>\n    </tr>\n    <tr>\n      <th>1</th>\n      <td>HU31</td>\n      <td>HU31</td>\n      <td>2</td>\n      <td>HU</td>\n      <td>Észak-Magyarország</td>\n      <td>Észak-Magyarország</td>\n      <td>HU31</td>\n      <td>632.0</td>\n      <td>Lignite</td>\n      <td>None</td>\n      <td>1 655</td>\n      <td>12.0</td>\n      <td>Low</td>\n      <td>1655</td>\n      <td>POLYGON ((20.58766 48.04732, 20.58718 48.03752...</td>\n    </tr>\n    <tr>\n      <th>2</th>\n      <td>ES24</td>\n      <td>ES24</td>\n      <td>2</td>\n      <td>ES</td>\n      <td>Aragón</td>\n      <td>Aragón</td>\n      <td>ES24</td>\n      <td>350.0</td>\n      <td>Hard coal</td>\n      <td>None</td>\n      <td>1 422</td>\n      <td>14.0</td>\n      <td>Medium</td>\n      <td>1422</td>\n      <td>POLYGON ((-0.55984 41.51941, -0.56032 41.50960...</td>\n    </tr>\n    <tr>\n      <th>3</th>\n      <td>ES41</td>\n      <td>ES41</td>\n      <td>2</td>\n      <td>ES</td>\n      <td>Castilla y León</td>\n      <td>Castilla y León</td>\n      <td>ES41</td>\n      <td>861.0</td>\n      <td>Hard coal</td>\n      <td>None</td>\n      <td>394</td>\n      <td>16.5</td>\n      <td>Medium</td>\n      <td>394</td>\n      <td>POLYGON ((-4.68205 41.75422, -4.68253 41.74442...</td>\n    </tr>\n    <tr>\n      <th>4</th>\n      <td>ES42</td>\n      <td>ES42</td>\n      <td>2</td>\n      <td>ES</td>\n      <td>Castilla-La Mancha</td>\n      <td>Castilla-La Mancha</td>\n      <td>ES42</td>\n      <td>0.0</td>\n      <td>Hard coal</td>\n      <td>None</td>\n      <td>219</td>\n      <td>16.0</td>\n      <td>Medium</td>\n      <td>219</td>\n      <td>POLYGON ((-2.90459 39.58096, -2.90507 39.57116...</td>\n    </tr>\n    <tr>\n      <th>5</th>\n      <td>EL65</td>\n      <td>EL65</td>\n      <td>2</td>\n      <td>EL</td>\n      <td>Peloponnisos</td>\n      <td>Πελοπόννησος</td>\n      <td>EL65</td>\n      <td>210.0</td>\n      <td>Lignite</td>\n      <td>None</td>\n      <td>636</td>\n      <td>13.0</td>\n      <td>Low</td>\n      <td>636</td>\n      <td>POLYGON ((22.55833 37.34267, 22.55785 37.33287...</td>\n    </tr>\n    <tr>\n      <th>6</th>\n      <td>EL53</td>\n      <td>EL53</td>\n      <td>2</td>\n      <td>EL</td>\n      <td>Dytiki Makedonia</td>\n      <td>Δυτική Μακεδονία</td>\n      <td>EL53</td>\n      <td>1008.0</td>\n      <td>Lignite</td>\n      <td>None</td>\n      <td>4 283</td>\n      <td>13.0</td>\n      <td>Low</td>\n      <td>4283</td>\n      <td>POLYGON ((21.58411 40.36184, 21.58363 40.35204...</td>\n    </tr>\n    <tr>\n      <th>7</th>\n      <td>ES12</td>\n      <td>ES12</td>\n      <td>2</td>\n      <td>ES</td>\n      <td>Principado de Asturias</td>\n      <td>Principado de Asturias</td>\n      <td>ES12</td>\n      <td>589.0</td>\n      <td>Hard coal</td>\n      <td>None</td>\n      <td>1 313</td>\n      <td>18.5</td>\n      <td>High</td>\n      <td>1313</td>\n      <td>POLYGON ((-5.89285 43.29214, -5.89333 43.28234...</td>\n    </tr>\n    <tr>\n      <th>8</th>\n      <td>BG34</td>\n      <td>BG34</td>\n      <td>2</td>\n      <td>BG</td>\n      <td>Yugoiztochen</td>\n      <td>Югоизточен</td>\n      <td>BG34</td>\n      <td>0.0</td>\n      <td>Lignite</td>\n      <td>None</td>\n      <td>10 773</td>\n      <td>14.0</td>\n      <td>Medium</td>\n      <td>10773</td>\n      <td>POLYGON ((26.64087 42.47193, 26.64039 42.46213...</td>\n    </tr>\n    <tr>\n      <th>9</th>\n      <td>BG41</td>\n      <td>BG41</td>\n      <td>2</td>\n      <td>BG</td>\n      <td>Yugozapaden</td>\n      <td>Югозападен</td>\n      <td>BG41</td>\n      <td>0.0</td>\n      <td>Brown coal</td>\n      <td>None</td>\n      <td>991</td>\n      <td>16.0</td>\n      <td>Medium</td>\n      <td>991</td>\n      <td>POLYGON ((23.44295 42.31795, 23.44247 42.30815...</td>\n    </tr>\n    <tr>\n      <th>10</th>\n      <td>DEA1</td>\n      <td>DEA1</td>\n      <td>2</td>\n      <td>DE</td>\n      <td>Düsseldorf</td>\n      <td>Düsseldorf</td>\n      <td>DEA1</td>\n      <td>1856.0</td>\n      <td>Lignite</td>\n      <td>None</td>\n      <td>2 578</td>\n      <td>11.0</td>\n      <td>Low</td>\n      <td>2578</td>\n      <td>POLYGON ((6.69619 51.43016, 6.69571 51.42035, ...</td>\n    </tr>\n    <tr>\n      <th>11</th>\n      <td>DEA2</td>\n      <td>DEA2</td>\n      <td>2</td>\n      <td>DE</td>\n      <td>Köln</td>\n      <td>Köln</td>\n      <td>DEA2</td>\n      <td>3070.0</td>\n      <td>Lignite</td>\n      <td>None</td>\n      <td>4 420</td>\n      <td>13.0</td>\n      <td>Low</td>\n      <td>4420</td>\n      <td>POLYGON ((6.90943 50.82505, 6.90895 50.81525, ...</td>\n    </tr>\n    <tr>\n      <th>12</th>\n      <td>DEA3</td>\n      <td>DEA3</td>\n      <td>2</td>\n      <td>DE</td>\n      <td>Münster</td>\n      <td>Münster</td>\n      <td>DEA3</td>\n      <td>370.0</td>\n      <td>Hard coal</td>\n      <td>None</td>\n      <td>9 640</td>\n      <td>18.0</td>\n      <td>High</td>\n      <td>9640</td>\n      <td>POLYGON ((7.51647 51.95066, 7.51599 51.94086, ...</td>\n    </tr>\n    <tr>\n      <th>13</th>\n      <td>CZ04</td>\n      <td>CZ04</td>\n      <td>2</td>\n      <td>CZ</td>\n      <td>Severozápad</td>\n      <td>Severozápad</td>\n      <td>CZ04</td>\n      <td>192.0</td>\n      <td>Lignite</td>\n      <td>None</td>\n      <td>7 869</td>\n      <td>15.5</td>\n      <td>Medium</td>\n      <td>7869</td>\n      <td>POLYGON ((13.52929 50.39452, 13.52881 50.38472...</td>\n    </tr>\n    <tr>\n      <th>14</th>\n      <td>DED2</td>\n      <td>DED2</td>\n      <td>2</td>\n      <td>DE</td>\n      <td>Dresden</td>\n      <td>Dresden</td>\n      <td>DED2</td>\n      <td>0.0</td>\n      <td>Lignite</td>\n      <td>None</td>\n      <td>2 783</td>\n      <td>14.0</td>\n      <td>Medium</td>\n      <td>2783</td>\n      <td>POLYGON ((14.24001 51.17059, 14.23953 51.16079...</td>\n    </tr>\n    <tr>\n      <th>15</th>\n      <td>CZ08</td>\n      <td>CZ08</td>\n      <td>2</td>\n      <td>CZ</td>\n      <td>Moravskoslezsko</td>\n      <td>Moravskoslezsko</td>\n      <td>CZ08</td>\n      <td>0.0</td>\n      <td>Hard coal</td>\n      <td>None</td>\n      <td>10 131</td>\n      <td>18.0</td>\n      <td>High</td>\n      <td>10131</td>\n      <td>POLYGON ((18.07938 49.82047, 18.07889 49.81067...</td>\n    </tr>\n    <tr>\n      <th>16</th>\n      <td>DE40</td>\n      <td>DE40</td>\n      <td>2</td>\n      <td>DE</td>\n      <td>Brandenburg</td>\n      <td>Brandenburg</td>\n      <td>DE40</td>\n      <td>3000.0</td>\n      <td>Lignite</td>\n      <td>None</td>\n      <td>3 402</td>\n      <td>15.0</td>\n      <td>Medium</td>\n      <td>3402</td>\n      <td>POLYGON ((13.49767 52.47265, 13.49719 52.46285...</td>\n    </tr>\n    <tr>\n      <th>17</th>\n      <td>DED5</td>\n      <td>DED5</td>\n      <td>2</td>\n      <td>DE</td>\n      <td>Leipzig</td>\n      <td>Leipzig</td>\n      <td>DED5</td>\n      <td>0.0</td>\n      <td>Lignite</td>\n      <td>None</td>\n      <td>1 004</td>\n      <td>14.0</td>\n      <td>Medium</td>\n      <td>1004</td>\n      <td>POLYGON ((12.77442 51.35890, 12.77394 51.34910...</td>\n    </tr>\n    <tr>\n      <th>18</th>\n      <td>DEE0</td>\n      <td>DEE0</td>\n      <td>2</td>\n      <td>DE</td>\n      <td>Sachsen-Anhalt</td>\n      <td>Sachsen-Anhalt</td>\n      <td>DEE0</td>\n      <td>960.0</td>\n      <td>Lignite</td>\n      <td>None</td>\n      <td>904</td>\n      <td>14.0</td>\n      <td>Medium</td>\n      <td>904</td>\n      <td>POLYGON ((11.80056 52.01362, 11.80008 52.00382...</td>\n    </tr>\n    <tr>\n      <th>19</th>\n      <td>SI03</td>\n      <td>SI03</td>\n      <td>2</td>\n      <td>SI</td>\n      <td>Vzhodna Slovenija</td>\n      <td>Vzhodna Slovenija</td>\n      <td>SI03</td>\n      <td>820.0</td>\n      <td>Lignite</td>\n      <td>None</td>\n      <td>1 274</td>\n      <td>17.0</td>\n      <td>High</td>\n      <td>1274</td>\n      <td>POLYGON ((15.36028 46.15226, 15.35980 46.14246...</td>\n    </tr>\n    <tr>\n      <th>20</th>\n      <td>SK02</td>\n      <td>SK02</td>\n      <td>2</td>\n      <td>SK</td>\n      <td>Západné Slovensko</td>\n      <td>Západné Slovensko</td>\n      <td>SK02</td>\n      <td>133.0</td>\n      <td>Lignite</td>\n      <td>None</td>\n      <td>2 190</td>\n      <td>20.0</td>\n      <td>High</td>\n      <td>2190</td>\n      <td>POLYGON ((18.16682 48.41736, 18.16634 48.40756...</td>\n    </tr>\n    <tr>\n      <th>21</th>\n      <td>UKC2</td>\n      <td>UKC2</td>\n      <td>2</td>\n      <td>UK</td>\n      <td>Northumberland and Tyne and Wear</td>\n      <td>Northumberland and Tyne and Wear</td>\n      <td>UKC2</td>\n      <td>420.0</td>\n      <td>Hard coal</td>\n      <td>None</td>\n      <td>723</td>\n      <td>12.5</td>\n      <td>Low</td>\n      <td>723</td>\n      <td>POLYGON ((-1.91899 55.21171, -1.91947 55.20191...</td>\n    </tr>\n    <tr>\n      <th>22</th>\n      <td>UKE2</td>\n      <td>UKE2</td>\n      <td>2</td>\n      <td>UK</td>\n      <td>North Yorkshire</td>\n      <td>North Yorkshire</td>\n      <td>UKE2</td>\n      <td>1500.0</td>\n      <td>Hard coal</td>\n      <td>None</td>\n      <td>333</td>\n      <td>16.0</td>\n      <td>Medium</td>\n      <td>333</td>\n      <td>POLYGON ((-1.30790 54.18276, -1.30838 54.17295...</td>\n    </tr>\n    <tr>\n      <th>23</th>\n      <td>UKF1</td>\n      <td>UKF1</td>\n      <td>2</td>\n      <td>UK</td>\n      <td>Derbyshire and Nottinghamshire</td>\n      <td>Derbyshire and Nottinghamshire</td>\n      <td>UKF1</td>\n      <td>4943.0</td>\n      <td>Hard coal</td>\n      <td>None</td>\n      <td>80</td>\n      <td>16.0</td>\n      <td>Medium</td>\n      <td>80</td>\n      <td>POLYGON ((-1.24080 53.13194, -1.24128 53.12214...</td>\n    </tr>\n    <tr>\n      <th>24</th>\n      <td>UKL2</td>\n      <td>UKL2</td>\n      <td>2</td>\n      <td>UK</td>\n      <td>East Wales</td>\n      <td>East Wales</td>\n      <td>UKL2</td>\n      <td>500.0</td>\n      <td>Hard coal</td>\n      <td>None</td>\n      <td>184</td>\n      <td>12.0</td>\n      <td>Low</td>\n      <td>184</td>\n      <td>POLYGON ((-3.19446 52.29015, -3.19494 52.28034...</td>\n    </tr>\n    <tr>\n      <th>25</th>\n      <td>PL41</td>\n      <td>PL41</td>\n      <td>2</td>\n      <td>PL</td>\n      <td>Wielkopolskie</td>\n      <td>Wielkopolskie</td>\n      <td>PL41</td>\n      <td>1461.0</td>\n      <td>Lignite</td>\n      <td>None</td>\n      <td>2 079</td>\n      <td>14.0</td>\n      <td>Medium</td>\n      <td>2079</td>\n      <td>POLYGON ((17.34260 52.33068, 17.34212 52.32088...</td>\n    </tr>\n    <tr>\n      <th>26</th>\n      <td>PL51</td>\n      <td>PL51</td>\n      <td>2</td>\n      <td>PL</td>\n      <td>Dolnoslaskie</td>\n      <td>Dolnoslaskie</td>\n      <td>PL51</td>\n      <td>1399.0</td>\n      <td>Lignite</td>\n      <td>None</td>\n      <td>1 108</td>\n      <td>12.0</td>\n      <td>Low</td>\n      <td>1108</td>\n      <td>POLYGON ((16.51050 51.08957, 16.51002 51.07977...</td>\n    </tr>\n    <tr>\n      <th>27</th>\n      <td>PL11</td>\n      <td>PL11</td>\n      <td>2</td>\n      <td>PL</td>\n      <td>Lódzkie</td>\n      <td>Lódzkie</td>\n      <td>PL11</td>\n      <td>198.0</td>\n      <td>Lignite</td>\n      <td>None</td>\n      <td>6 388</td>\n      <td>13.5</td>\n      <td>Low</td>\n      <td>6388</td>\n      <td>POLYGON ((19.51754 51.60481, 19.51706 51.59501...</td>\n    </tr>\n    <tr>\n      <th>28</th>\n      <td>RO41</td>\n      <td>RO41</td>\n      <td>2</td>\n      <td>RO</td>\n      <td>Sud-Vest Oltenia</td>\n      <td>Sud-Vest Oltenia</td>\n      <td>RO41</td>\n      <td>450.0</td>\n      <td>Lignite</td>\n      <td>None</td>\n      <td>10 600</td>\n      <td>16.0</td>\n      <td>Medium</td>\n      <td>10600</td>\n      <td>POLYGON ((23.76963 44.59695, 23.76915 44.58715...</td>\n    </tr>\n    <tr>\n      <th>29</th>\n      <td>RO42</td>\n      <td>RO42</td>\n      <td>2</td>\n      <td>RO</td>\n      <td>Vest</td>\n      <td>Vest</td>\n      <td>RO42</td>\n      <td>788.0</td>\n      <td>Hard coal</td>\n      <td>None</td>\n      <td>4 442</td>\n      <td>20.0</td>\n      <td>High</td>\n      <td>4442</td>\n      <td>POLYGON ((22.08891 45.71870, 22.08843 45.70889...</td>\n    </tr>\n    <tr>\n      <th>30</th>\n      <td>PL21</td>\n      <td>PL21</td>\n      <td>2</td>\n      <td>PL</td>\n      <td>Malopolskie</td>\n      <td>Malopolskie</td>\n      <td>PL21</td>\n      <td>1214.0</td>\n      <td>Hard coal</td>\n      <td>None</td>\n      <td>4 644</td>\n      <td>16.0</td>\n      <td>Medium</td>\n      <td>4644</td>\n      <td>POLYGON ((20.36892 49.85894, 20.36844 49.84914...</td>\n    </tr>\n    <tr>\n      <th>31</th>\n      <td>PL22</td>\n      <td>PL22</td>\n      <td>2</td>\n      <td>PL</td>\n      <td>Slaskie</td>\n      <td>Slaskie</td>\n      <td>PL22</td>\n      <td>1746.0</td>\n      <td>Hard coal</td>\n      <td>None</td>\n      <td>79 548</td>\n      <td>17.0</td>\n      <td>High</td>\n      <td>79548</td>\n      <td>POLYGON ((19.09389 50.33107, 19.09341 50.32127...</td>\n    </tr>\n  </tbody>\n</table>\n</div>"
     },
     "metadata": {},
     "execution_count": 100
    }
   ],
   "source": [
    "strconv = gpd.read_file('jobs_all.geojson')\n",
    "strconv['labour']= pd.to_numeric(strconv['Unnamed: 4'], errors='ignore')\n",
    "strconv['labour'] = strconv['labour'].str.replace(\" \",'')\n",
    "strconv['labour'] = pd.to_numeric(strconv['labour'])\n",
    "strconv['labour'].astype(float)\n",
    "strconv.drop(['Unnamed: 0', 'NUTS-2', 'tunit_code', 'NUTS-2 name'], axis=1, inplace=True)\n",
    "strconv['meteres'] = strconv['geometry'].buffer(0.3)\n",
    "extrude = strconv.drop(['geometry'], axis=1)\n",
    "extrude.rename(columns={'meteres':'geometry'}, inplace=True)\n",
    "extrude"
   ]
  },
  {
   "cell_type": "code",
   "execution_count": 101,
   "metadata": {},
   "outputs": [],
   "source": [
    "extrude.to_file('extrude.geojson', driver='GeoJSON')"
   ]
  },
  {
   "cell_type": "code",
   "execution_count": 103,
   "metadata": {},
   "outputs": [
    {
     "output_type": "execute_result",
     "data": {
      "text/plain": [
       "count       32.000000\n",
       "mean      5573.687500\n",
       "std      13898.586669\n",
       "min         80.000000\n",
       "25%        858.750000\n",
       "50%       1867.000000\n",
       "75%       4492.500000\n",
       "max      79548.000000\n",
       "Name: labour, dtype: float64"
      ]
     },
     "metadata": {},
     "execution_count": 103
    }
   ],
   "source": [
    "extrude['labour'].describe()"
   ]
  },
  {
   "cell_type": "code",
   "execution_count": 108,
   "metadata": {},
   "outputs": [
    {
     "output_type": "stream",
     "name": "stderr",
     "text": [
      "<ipython-input-108-f99c42f604a8>:2: UserWarning: Geometry is in a geographic CRS. Results from 'buffer' are likely incorrect. Use 'GeoSeries.to_crs()' to re-project geometries to a projected CRS before this operation.\n\n  test_2['geometry'] = test_2['geometry'].buffer(0.03)\n"
     ]
    },
    {
     "output_type": "execute_result",
     "data": {
      "text/plain": [
       "   cartodb_id  year_shutdown  criterion_value  assumed_retire  year  \\\n",
       "0         157           2016              220            2016  1986   \n",
       "1         367           2022              300            2021  1968   \n",
       "2           1           2017                1            2021  1969   \n",
       "3           2           2017                2            2016  1987   \n",
       "4           3           2017                3            2016  1974   \n",
       "\n",
       "      status iso3c                            unit  emissions_year_mt  \\\n",
       "0  operating   AUT                   Riedersbach 2           0.200060   \n",
       "1  operating   POL     Lodz-3 power station Unit 1           0.126477   \n",
       "2  operating   CZE   Malesice power station Unit 3           0.019358   \n",
       "3  operating   ROU   Isalnita power station Unit 7           0.866423   \n",
       "4  operating   BGR  Bobov Dol power station Unit 2           0.930536   \n",
       "\n",
       "   capacity  output_year_ej   latitude  longitude  \\\n",
       "0     165.0        0.002115  48.031769  12.843122   \n",
       "1      32.0        0.001337  51.798357  19.420734   \n",
       "2      55.0        0.000192  50.084967  14.525273   \n",
       "3     315.0        0.008578  44.387630  23.718195   \n",
       "4     210.0        0.009213  42.285384  23.034163   \n",
       "\n",
       "                                            geometry  \n",
       "0  POLYGON ((12.87312 48.03177, 12.87298 48.02883...  \n",
       "1  POLYGON ((19.45073 51.79836, 19.45059 51.79542...  \n",
       "2  POLYGON ((14.55527 50.08497, 14.55513 50.08203...  \n",
       "3  POLYGON ((23.74820 44.38763, 23.74805 44.38469...  \n",
       "4  POLYGON ((23.06416 42.28538, 23.06402 42.28244...  "
      ],
      "text/html": "<div>\n<style scoped>\n    .dataframe tbody tr th:only-of-type {\n        vertical-align: middle;\n    }\n\n    .dataframe tbody tr th {\n        vertical-align: top;\n    }\n\n    .dataframe thead th {\n        text-align: right;\n    }\n</style>\n<table border=\"1\" class=\"dataframe\">\n  <thead>\n    <tr style=\"text-align: right;\">\n      <th></th>\n      <th>cartodb_id</th>\n      <th>year_shutdown</th>\n      <th>criterion_value</th>\n      <th>assumed_retire</th>\n      <th>year</th>\n      <th>status</th>\n      <th>iso3c</th>\n      <th>unit</th>\n      <th>emissions_year_mt</th>\n      <th>capacity</th>\n      <th>output_year_ej</th>\n      <th>latitude</th>\n      <th>longitude</th>\n      <th>geometry</th>\n    </tr>\n  </thead>\n  <tbody>\n    <tr>\n      <th>0</th>\n      <td>157</td>\n      <td>2016</td>\n      <td>220</td>\n      <td>2016</td>\n      <td>1986</td>\n      <td>operating</td>\n      <td>AUT</td>\n      <td>Riedersbach 2</td>\n      <td>0.200060</td>\n      <td>165.0</td>\n      <td>0.002115</td>\n      <td>48.031769</td>\n      <td>12.843122</td>\n      <td>POLYGON ((12.87312 48.03177, 12.87298 48.02883...</td>\n    </tr>\n    <tr>\n      <th>1</th>\n      <td>367</td>\n      <td>2022</td>\n      <td>300</td>\n      <td>2021</td>\n      <td>1968</td>\n      <td>operating</td>\n      <td>POL</td>\n      <td>Lodz-3 power station Unit 1</td>\n      <td>0.126477</td>\n      <td>32.0</td>\n      <td>0.001337</td>\n      <td>51.798357</td>\n      <td>19.420734</td>\n      <td>POLYGON ((19.45073 51.79836, 19.45059 51.79542...</td>\n    </tr>\n    <tr>\n      <th>2</th>\n      <td>1</td>\n      <td>2017</td>\n      <td>1</td>\n      <td>2021</td>\n      <td>1969</td>\n      <td>operating</td>\n      <td>CZE</td>\n      <td>Malesice power station Unit 3</td>\n      <td>0.019358</td>\n      <td>55.0</td>\n      <td>0.000192</td>\n      <td>50.084967</td>\n      <td>14.525273</td>\n      <td>POLYGON ((14.55527 50.08497, 14.55513 50.08203...</td>\n    </tr>\n    <tr>\n      <th>3</th>\n      <td>2</td>\n      <td>2017</td>\n      <td>2</td>\n      <td>2016</td>\n      <td>1987</td>\n      <td>operating</td>\n      <td>ROU</td>\n      <td>Isalnita power station Unit 7</td>\n      <td>0.866423</td>\n      <td>315.0</td>\n      <td>0.008578</td>\n      <td>44.387630</td>\n      <td>23.718195</td>\n      <td>POLYGON ((23.74820 44.38763, 23.74805 44.38469...</td>\n    </tr>\n    <tr>\n      <th>4</th>\n      <td>3</td>\n      <td>2017</td>\n      <td>3</td>\n      <td>2016</td>\n      <td>1974</td>\n      <td>operating</td>\n      <td>BGR</td>\n      <td>Bobov Dol power station Unit 2</td>\n      <td>0.930536</td>\n      <td>210.0</td>\n      <td>0.009213</td>\n      <td>42.285384</td>\n      <td>23.034163</td>\n      <td>POLYGON ((23.06416 42.28538, 23.06402 42.28244...</td>\n    </tr>\n  </tbody>\n</table>\n</div>"
     },
     "metadata": {},
     "execution_count": 108
    }
   ],
   "source": [
    "test_2 = gpd.read_file('Powerplants.geojson')\n",
    "test_2['geometry'] = test_2['geometry'].buffer(0.03)\n",
    "test_2.head()"
   ]
  },
  {
   "cell_type": "code",
   "execution_count": 109,
   "metadata": {},
   "outputs": [
    {
     "output_type": "stream",
     "name": "stderr",
     "text": [
      "<ipython-input-109-923f706360b4>:1: UserWarning: Column names longer than 10 characters will be truncated when saved to ESRI Shapefile.\n  test_2.to_file('test_3d.geojson')\n"
     ]
    }
   ],
   "source": [
    "test_2.to_file('test_3d.geojson', driver='GeoJSON')"
   ]
  },
  {
   "cell_type": "code",
   "execution_count": 107,
   "metadata": {},
   "outputs": [
    {
     "output_type": "execute_result",
     "data": {
      "text/plain": [
       "   cartodb_id  year_shutdown  criterion_value  assumed_retire  year  \\\n",
       "0         157           2016              220            2016  1986   \n",
       "1         367           2022              300            2021  1968   \n",
       "2           1           2017                1            2021  1969   \n",
       "3           2           2017                2            2016  1987   \n",
       "4           3           2017                3            2016  1974   \n",
       "\n",
       "      status iso3c                            unit  emissions_year_mt  \\\n",
       "0  operating   AUT                   Riedersbach 2           0.200060   \n",
       "1  operating   POL     Lodz-3 power station Unit 1           0.126477   \n",
       "2  operating   CZE   Malesice power station Unit 3           0.019358   \n",
       "3  operating   ROU   Isalnita power station Unit 7           0.866423   \n",
       "4  operating   BGR  Bobov Dol power station Unit 2           0.930536   \n",
       "\n",
       "   capacity  output_year_ej   latitude  longitude       geometry  \n",
       "0     165.0        0.002115  48.031769  12.843122  POLYGON EMPTY  \n",
       "1      32.0        0.001337  51.798357  19.420734  POLYGON EMPTY  \n",
       "2      55.0        0.000192  50.084967  14.525273  POLYGON EMPTY  \n",
       "3     315.0        0.008578  44.387630  23.718195  POLYGON EMPTY  \n",
       "4     210.0        0.009213  42.285384  23.034163  POLYGON EMPTY  "
      ],
      "text/html": "<div>\n<style scoped>\n    .dataframe tbody tr th:only-of-type {\n        vertical-align: middle;\n    }\n\n    .dataframe tbody tr th {\n        vertical-align: top;\n    }\n\n    .dataframe thead th {\n        text-align: right;\n    }\n</style>\n<table border=\"1\" class=\"dataframe\">\n  <thead>\n    <tr style=\"text-align: right;\">\n      <th></th>\n      <th>cartodb_id</th>\n      <th>year_shutdown</th>\n      <th>criterion_value</th>\n      <th>assumed_retire</th>\n      <th>year</th>\n      <th>status</th>\n      <th>iso3c</th>\n      <th>unit</th>\n      <th>emissions_year_mt</th>\n      <th>capacity</th>\n      <th>output_year_ej</th>\n      <th>latitude</th>\n      <th>longitude</th>\n      <th>geometry</th>\n    </tr>\n  </thead>\n  <tbody>\n    <tr>\n      <th>0</th>\n      <td>157</td>\n      <td>2016</td>\n      <td>220</td>\n      <td>2016</td>\n      <td>1986</td>\n      <td>operating</td>\n      <td>AUT</td>\n      <td>Riedersbach 2</td>\n      <td>0.200060</td>\n      <td>165.0</td>\n      <td>0.002115</td>\n      <td>48.031769</td>\n      <td>12.843122</td>\n      <td>POLYGON EMPTY</td>\n    </tr>\n    <tr>\n      <th>1</th>\n      <td>367</td>\n      <td>2022</td>\n      <td>300</td>\n      <td>2021</td>\n      <td>1968</td>\n      <td>operating</td>\n      <td>POL</td>\n      <td>Lodz-3 power station Unit 1</td>\n      <td>0.126477</td>\n      <td>32.0</td>\n      <td>0.001337</td>\n      <td>51.798357</td>\n      <td>19.420734</td>\n      <td>POLYGON EMPTY</td>\n    </tr>\n    <tr>\n      <th>2</th>\n      <td>1</td>\n      <td>2017</td>\n      <td>1</td>\n      <td>2021</td>\n      <td>1969</td>\n      <td>operating</td>\n      <td>CZE</td>\n      <td>Malesice power station Unit 3</td>\n      <td>0.019358</td>\n      <td>55.0</td>\n      <td>0.000192</td>\n      <td>50.084967</td>\n      <td>14.525273</td>\n      <td>POLYGON EMPTY</td>\n    </tr>\n    <tr>\n      <th>3</th>\n      <td>2</td>\n      <td>2017</td>\n      <td>2</td>\n      <td>2016</td>\n      <td>1987</td>\n      <td>operating</td>\n      <td>ROU</td>\n      <td>Isalnita power station Unit 7</td>\n      <td>0.866423</td>\n      <td>315.0</td>\n      <td>0.008578</td>\n      <td>44.387630</td>\n      <td>23.718195</td>\n      <td>POLYGON EMPTY</td>\n    </tr>\n    <tr>\n      <th>4</th>\n      <td>3</td>\n      <td>2017</td>\n      <td>3</td>\n      <td>2016</td>\n      <td>1974</td>\n      <td>operating</td>\n      <td>BGR</td>\n      <td>Bobov Dol power station Unit 2</td>\n      <td>0.930536</td>\n      <td>210.0</td>\n      <td>0.009213</td>\n      <td>42.285384</td>\n      <td>23.034163</td>\n      <td>POLYGON EMPTY</td>\n    </tr>\n  </tbody>\n</table>\n</div>"
     },
     "metadata": {},
     "execution_count": 107
    }
   ],
   "source": [
    "test_2.head()"
   ]
  },
  {
   "cell_type": "code",
   "execution_count": null,
   "metadata": {},
   "outputs": [],
   "source": []
  }
 ]
}