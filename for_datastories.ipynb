{
 "metadata": {
  "language_info": {
   "codemirror_mode": {
    "name": "ipython",
    "version": 3
   },
   "file_extension": ".py",
   "mimetype": "text/x-python",
   "name": "python",
   "nbconvert_exporter": "python",
   "pygments_lexer": "ipython3",
   "version": "3.9.2"
  },
  "orig_nbformat": 4,
  "kernelspec": {
   "name": "python3",
   "display_name": "Python 3.9.2 64-bit ('3.9')"
  },
  "interpreter": {
   "hash": "7812ea015bdcee6f23a998adcdd2ef97c151c0c241b7b7070987d9313e41299d"
  }
 },
 "nbformat": 4,
 "nbformat_minor": 2,
 "cells": [
  {
   "cell_type": "code",
   "execution_count": 1,
   "metadata": {},
   "outputs": [
    {
     "output_type": "execute_result",
     "data": {
      "text/plain": [
       "   TIME  Coking coal  Other bituminous coal      Coal   Lignite\n",
       "0  1990      97971.8               167295.7  265267.5  143889.8\n",
       "2  1991      88625.2               168372.6  256997.8  126283.5\n",
       "4  1992      87733.1               162160.2  249893.3  115885.3\n",
       "6  1993      82374.4               147381.8  229756.2  110751.9\n",
       "8  1994      81478.3               150232.3  231710.6  103823.8"
      ],
      "text/html": "<div>\n<style scoped>\n    .dataframe tbody tr th:only-of-type {\n        vertical-align: middle;\n    }\n\n    .dataframe tbody tr th {\n        vertical-align: top;\n    }\n\n    .dataframe thead th {\n        text-align: right;\n    }\n</style>\n<table border=\"1\" class=\"dataframe\">\n  <thead>\n    <tr style=\"text-align: right;\">\n      <th></th>\n      <th>TIME</th>\n      <th>Coking coal</th>\n      <th>Other bituminous coal</th>\n      <th>Coal</th>\n      <th>Lignite</th>\n    </tr>\n  </thead>\n  <tbody>\n    <tr>\n      <th>0</th>\n      <td>1990</td>\n      <td>97971.8</td>\n      <td>167295.7</td>\n      <td>265267.5</td>\n      <td>143889.8</td>\n    </tr>\n    <tr>\n      <th>2</th>\n      <td>1991</td>\n      <td>88625.2</td>\n      <td>168372.6</td>\n      <td>256997.8</td>\n      <td>126283.5</td>\n    </tr>\n    <tr>\n      <th>4</th>\n      <td>1992</td>\n      <td>87733.1</td>\n      <td>162160.2</td>\n      <td>249893.3</td>\n      <td>115885.3</td>\n    </tr>\n    <tr>\n      <th>6</th>\n      <td>1993</td>\n      <td>82374.4</td>\n      <td>147381.8</td>\n      <td>229756.2</td>\n      <td>110751.9</td>\n    </tr>\n    <tr>\n      <th>8</th>\n      <td>1994</td>\n      <td>81478.3</td>\n      <td>150232.3</td>\n      <td>231710.6</td>\n      <td>103823.8</td>\n    </tr>\n  </tbody>\n</table>\n</div>"
     },
     "metadata": {},
     "execution_count": 1
    }
   ],
   "source": [
    "import pandas as pd\n",
    "\n",
    "df = pd.read_excel('coal_lignite.xlsx')\n",
    "df.dropna(inplace=True)\n",
    "df.head()"
   ]
  },
  {
   "cell_type": "code",
   "execution_count": 13,
   "metadata": {},
   "outputs": [
    {
     "output_type": "execute_result",
     "data": {
      "text/plain": [
       "     cartodb_id  year_shutdown  criterion_value  assumed_retire  year  \\\n",
       "0           157           2016              220            2016  1986   \n",
       "1           367           2022              300            2021  1968   \n",
       "2             1           2017                1            2021  1969   \n",
       "3             2           2017                2            2016  1987   \n",
       "4             3           2017                3            2016  1974   \n",
       "..          ...            ...              ...             ...   ...   \n",
       "792         793           2052              738            2057  2014   \n",
       "793         794           2052              739            2058  2015   \n",
       "794         795           2056              740            2057  2014   \n",
       "795         796           2056              741            2061  2010   \n",
       "796         797           2060              742            2061  2010   \n",
       "\n",
       "        status iso3c                                      unit  \\\n",
       "0    operating   AUT                             Riedersbach 2   \n",
       "1    operating   POL               Lodz-3 power station Unit 1   \n",
       "2    operating   CZE             Malesice power station Unit 3   \n",
       "3    operating   ROU             Isalnita power station Unit 7   \n",
       "4    operating   BGR            Bobov Dol power station Unit 2   \n",
       "..         ...   ...                                       ...   \n",
       "792  operating   DEU                          Westfalen Unit E   \n",
       "793  operating   DEU                     GKM (Mannheim) Unit 9   \n",
       "794  operating   DEU                    RDK (Karlsruhe) Unit 8   \n",
       "795  operating   ITA  Torrevaldaliga Nord power station Unit 2   \n",
       "796  operating   ITA  Torrevaldaliga Nord power station Unit 3   \n",
       "\n",
       "     emissions_year_mt  capacity  output_year_ej   latitude  longitude  \\\n",
       "0             0.200060     165.0        0.002115  48.031769  12.843122   \n",
       "1             0.126477      32.0        0.001337  51.798357  19.420734   \n",
       "2             0.019358      55.0        0.000192  50.084967  14.525273   \n",
       "3             0.866423     315.0        0.008578  44.387630  23.718195   \n",
       "4             0.930536     210.0        0.009213  42.285384  23.034163   \n",
       "..                 ...       ...             ...        ...        ...   \n",
       "792           3.839220     800.0        0.040584  51.679297   7.971558   \n",
       "793           5.142955     912.0        0.054365  49.445694   8.490444   \n",
       "794           5.237152     910.0        0.055361  49.012500   8.302778   \n",
       "795           3.582713     660.0        0.037872  42.126900  11.758300   \n",
       "796           3.582713     660.0        0.037872  42.126900  11.758300   \n",
       "\n",
       "                      geometry  \n",
       "0    POINT (12.84312 48.03177)  \n",
       "1    POINT (19.42073 51.79836)  \n",
       "2    POINT (14.52527 50.08497)  \n",
       "3    POINT (23.71820 44.38763)  \n",
       "4    POINT (23.03416 42.28538)  \n",
       "..                         ...  \n",
       "792   POINT (7.97156 51.67930)  \n",
       "793   POINT (8.49044 49.44569)  \n",
       "794   POINT (8.30278 49.01250)  \n",
       "795  POINT (11.75830 42.12690)  \n",
       "796  POINT (11.75830 42.12690)  \n",
       "\n",
       "[797 rows x 14 columns]"
      ],
      "text/html": "<div>\n<style scoped>\n    .dataframe tbody tr th:only-of-type {\n        vertical-align: middle;\n    }\n\n    .dataframe tbody tr th {\n        vertical-align: top;\n    }\n\n    .dataframe thead th {\n        text-align: right;\n    }\n</style>\n<table border=\"1\" class=\"dataframe\">\n  <thead>\n    <tr style=\"text-align: right;\">\n      <th></th>\n      <th>cartodb_id</th>\n      <th>year_shutdown</th>\n      <th>criterion_value</th>\n      <th>assumed_retire</th>\n      <th>year</th>\n      <th>status</th>\n      <th>iso3c</th>\n      <th>unit</th>\n      <th>emissions_year_mt</th>\n      <th>capacity</th>\n      <th>output_year_ej</th>\n      <th>latitude</th>\n      <th>longitude</th>\n      <th>geometry</th>\n    </tr>\n  </thead>\n  <tbody>\n    <tr>\n      <th>0</th>\n      <td>157</td>\n      <td>2016</td>\n      <td>220</td>\n      <td>2016</td>\n      <td>1986</td>\n      <td>operating</td>\n      <td>AUT</td>\n      <td>Riedersbach 2</td>\n      <td>0.200060</td>\n      <td>165.0</td>\n      <td>0.002115</td>\n      <td>48.031769</td>\n      <td>12.843122</td>\n      <td>POINT (12.84312 48.03177)</td>\n    </tr>\n    <tr>\n      <th>1</th>\n      <td>367</td>\n      <td>2022</td>\n      <td>300</td>\n      <td>2021</td>\n      <td>1968</td>\n      <td>operating</td>\n      <td>POL</td>\n      <td>Lodz-3 power station Unit 1</td>\n      <td>0.126477</td>\n      <td>32.0</td>\n      <td>0.001337</td>\n      <td>51.798357</td>\n      <td>19.420734</td>\n      <td>POINT (19.42073 51.79836)</td>\n    </tr>\n    <tr>\n      <th>2</th>\n      <td>1</td>\n      <td>2017</td>\n      <td>1</td>\n      <td>2021</td>\n      <td>1969</td>\n      <td>operating</td>\n      <td>CZE</td>\n      <td>Malesice power station Unit 3</td>\n      <td>0.019358</td>\n      <td>55.0</td>\n      <td>0.000192</td>\n      <td>50.084967</td>\n      <td>14.525273</td>\n      <td>POINT (14.52527 50.08497)</td>\n    </tr>\n    <tr>\n      <th>3</th>\n      <td>2</td>\n      <td>2017</td>\n      <td>2</td>\n      <td>2016</td>\n      <td>1987</td>\n      <td>operating</td>\n      <td>ROU</td>\n      <td>Isalnita power station Unit 7</td>\n      <td>0.866423</td>\n      <td>315.0</td>\n      <td>0.008578</td>\n      <td>44.387630</td>\n      <td>23.718195</td>\n      <td>POINT (23.71820 44.38763)</td>\n    </tr>\n    <tr>\n      <th>4</th>\n      <td>3</td>\n      <td>2017</td>\n      <td>3</td>\n      <td>2016</td>\n      <td>1974</td>\n      <td>operating</td>\n      <td>BGR</td>\n      <td>Bobov Dol power station Unit 2</td>\n      <td>0.930536</td>\n      <td>210.0</td>\n      <td>0.009213</td>\n      <td>42.285384</td>\n      <td>23.034163</td>\n      <td>POINT (23.03416 42.28538)</td>\n    </tr>\n    <tr>\n      <th>...</th>\n      <td>...</td>\n      <td>...</td>\n      <td>...</td>\n      <td>...</td>\n      <td>...</td>\n      <td>...</td>\n      <td>...</td>\n      <td>...</td>\n      <td>...</td>\n      <td>...</td>\n      <td>...</td>\n      <td>...</td>\n      <td>...</td>\n      <td>...</td>\n    </tr>\n    <tr>\n      <th>792</th>\n      <td>793</td>\n      <td>2052</td>\n      <td>738</td>\n      <td>2057</td>\n      <td>2014</td>\n      <td>operating</td>\n      <td>DEU</td>\n      <td>Westfalen Unit E</td>\n      <td>3.839220</td>\n      <td>800.0</td>\n      <td>0.040584</td>\n      <td>51.679297</td>\n      <td>7.971558</td>\n      <td>POINT (7.97156 51.67930)</td>\n    </tr>\n    <tr>\n      <th>793</th>\n      <td>794</td>\n      <td>2052</td>\n      <td>739</td>\n      <td>2058</td>\n      <td>2015</td>\n      <td>operating</td>\n      <td>DEU</td>\n      <td>GKM (Mannheim) Unit 9</td>\n      <td>5.142955</td>\n      <td>912.0</td>\n      <td>0.054365</td>\n      <td>49.445694</td>\n      <td>8.490444</td>\n      <td>POINT (8.49044 49.44569)</td>\n    </tr>\n    <tr>\n      <th>794</th>\n      <td>795</td>\n      <td>2056</td>\n      <td>740</td>\n      <td>2057</td>\n      <td>2014</td>\n      <td>operating</td>\n      <td>DEU</td>\n      <td>RDK (Karlsruhe) Unit 8</td>\n      <td>5.237152</td>\n      <td>910.0</td>\n      <td>0.055361</td>\n      <td>49.012500</td>\n      <td>8.302778</td>\n      <td>POINT (8.30278 49.01250)</td>\n    </tr>\n    <tr>\n      <th>795</th>\n      <td>796</td>\n      <td>2056</td>\n      <td>741</td>\n      <td>2061</td>\n      <td>2010</td>\n      <td>operating</td>\n      <td>ITA</td>\n      <td>Torrevaldaliga Nord power station Unit 2</td>\n      <td>3.582713</td>\n      <td>660.0</td>\n      <td>0.037872</td>\n      <td>42.126900</td>\n      <td>11.758300</td>\n      <td>POINT (11.75830 42.12690)</td>\n    </tr>\n    <tr>\n      <th>796</th>\n      <td>797</td>\n      <td>2060</td>\n      <td>742</td>\n      <td>2061</td>\n      <td>2010</td>\n      <td>operating</td>\n      <td>ITA</td>\n      <td>Torrevaldaliga Nord power station Unit 3</td>\n      <td>3.582713</td>\n      <td>660.0</td>\n      <td>0.037872</td>\n      <td>42.126900</td>\n      <td>11.758300</td>\n      <td>POINT (11.75830 42.12690)</td>\n    </tr>\n  </tbody>\n</table>\n<p>797 rows × 14 columns</p>\n</div>"
     },
     "metadata": {},
     "execution_count": 13
    }
   ],
   "source": [
    "import geopandas as gpd \n",
    "\n",
    "df = gpd.read_file('Powerplants.geojson')\n",
    "df"
   ]
  },
  {
   "cell_type": "code",
   "execution_count": 35,
   "metadata": {},
   "outputs": [],
   "source": [
    "# gdf.drop(['geometry'], axis=1, inplace=True)\n",
    "gdf.drop(['cartodb_id'], axis=1, inplace=True)"
   ]
  },
  {
   "cell_type": "code",
   "execution_count": 51,
   "metadata": {
    "tags": [
     "outputPrepend"
    ]
   },
   "outputs": [
    {
     "output_type": "stream",
     "name": "stdout",
     "text": [
      ".geometry.polygon.Polygon object at 0x7f8306f061f0>, <shapely.geometry.polygon.Polygon object at 0x7f82edc17b20>, <shapely.geometry.polygon.Polygon object at 0x7f82edc17b80>, <shapely.geometry.polygon.Polygon object at 0x7f82edc17430>, <shapely.geometry.polygon.Polygon object at 0x7f82edc17940>, <shapely.geometry.polygon.Polygon object at 0x7f82edc17340>, <shapely.geometry.polygon.Polygon object at 0x7f82edaad130>, <shapely.geometry.polygon.Polygon object at 0x7f82edaad250>, <shapely.geometry.polygon.Polygon object at 0x7f82edaad970>, <shapely.geometry.polygon.Polygon object at 0x7f82edaadb20>, <shapely.geometry.polygon.Polygon object at 0x7f82edaad190>, <shapely.geometry.polygon.Polygon object at 0x7f82edaad490>, <shapely.geometry.polygon.Polygon object at 0x7f82edaad5e0>, <shapely.geometry.polygon.Polygon object at 0x7f82edaaddf0>, <shapely.geometry.polygon.Polygon object at 0x7f82edaad0d0>, <shapely.geometry.polygon.Polygon object at 0x7f82edaad730>, <shapely.geometry.polygon.Polygon object at 0x7f82edaaddc0>, <shapely.geometry.polygon.Polygon object at 0x7f82edaad160>, <shapely.geometry.polygon.Polygon object at 0x7f82edaadc70>, <shapely.geometry.polygon.Polygon object at 0x7f82edaad070>, <shapely.geometry.polygon.Polygon object at 0x7f82edaad9d0>, <shapely.geometry.polygon.Polygon object at 0x7f82edaadac0>, <shapely.geometry.polygon.Polygon object at 0x7f82edaad7f0>, <shapely.geometry.polygon.Polygon object at 0x7f82edaad3d0>, <shapely.geometry.polygon.Polygon object at 0x7f82edaada60>, <shapely.geometry.polygon.Polygon object at 0x7f82edaadd90>, <shapely.geometry.polygon.Polygon object at 0x7f82edaadeb0>, <shapely.geometry.polygon.Polygon object at 0x7f830b03adc0>, <shapely.geometry.polygon.Polygon object at 0x7f82edaad0a0>, <shapely.geometry.polygon.Polygon object at 0x7f82edaadfd0>, <shapely.geometry.polygon.Polygon object at 0x7f82edaad1c0>, <shapely.geometry.polygon.Polygon object at 0x7f82edaad8e0>, <shapely.geometry.polygon.Polygon object at 0x7f82edaadc40>, <shapely.geometry.polygon.Polygon object at 0x7f82edac4eb0>, <shapely.geometry.polygon.Polygon object at 0x7f82edac4f10>, <shapely.geometry.polygon.Polygon object at 0x7f82edac4df0>, <shapely.geometry.polygon.Polygon object at 0x7f82edac4970>, <shapely.geometry.polygon.Polygon object at 0x7f82edac4bb0>, <shapely.geometry.polygon.Polygon object at 0x7f82edac4d00>, <shapely.geometry.polygon.Polygon object at 0x7f82edac49d0>, <shapely.geometry.polygon.Polygon object at 0x7f82edac4e50>, <shapely.geometry.polygon.Polygon object at 0x7f82edac4190>, <shapely.geometry.polygon.Polygon object at 0x7f82edac41f0>, <shapely.geometry.polygon.Polygon object at 0x7f82edac4dc0>, <shapely.geometry.polygon.Polygon object at 0x7f82edac4340>, <shapely.geometry.polygon.Polygon object at 0x7f82edac4160>, <shapely.geometry.polygon.Polygon object at 0x7f82edac4af0>, <shapely.geometry.polygon.Polygon object at 0x7f82edac4ee0>, <shapely.geometry.polygon.Polygon object at 0x7f82edac4610>, <shapely.geometry.polygon.Polygon object at 0x7f82edac4c70>, <shapely.geometry.polygon.Polygon object at 0x7f82edac42b0>, <shapely.geometry.polygon.Polygon object at 0x7f82edac4700>, <shapely.geometry.polygon.Polygon object at 0x7f82edac48b0>, <shapely.geometry.polygon.Polygon object at 0x7f82edac47c0>, <shapely.geometry.polygon.Polygon object at 0x7f82edac4820>, <shapely.geometry.polygon.Polygon object at 0x7f82edac4d90>, <shapely.geometry.polygon.Polygon object at 0x7f82edac4be0>, <shapely.geometry.polygon.Polygon object at 0x7f82edac49a0>, <shapely.geometry.polygon.Polygon object at 0x7f82edac4c10>, <shapely.geometry.polygon.Polygon object at 0x7f82edac4e20>, <shapely.geometry.polygon.Polygon object at 0x7f82edac41c0>, <shapely.geometry.polygon.Polygon object at 0x7f82edac4670>, <shapely.geometry.polygon.Polygon object at 0x7f82edac4280>, <shapely.geometry.polygon.Polygon object at 0x7f82edac45b0>, <shapely.geometry.polygon.Polygon object at 0x7f82edac4550>, <shapely.geometry.polygon.Polygon object at 0x7f82edac4b50>, <shapely.geometry.polygon.Polygon object at 0x7f82edac4130>, <shapely.geometry.polygon.Polygon object at 0x7f82edac48e0>, <shapely.geometry.polygon.Polygon object at 0x7f82edab8880>, <shapely.geometry.polygon.Polygon object at 0x7f82edab8a60>, <shapely.geometry.polygon.Polygon object at 0x7f82edab8eb0>, <shapely.geometry.polygon.Polygon object at 0x7f82edab8910>, <shapely.geometry.polygon.Polygon object at 0x7f82edab8040>, <shapely.geometry.polygon.Polygon object at 0x7f82edab8070>, <shapely.geometry.polygon.Polygon object at 0x7f82edab8640>, <shapely.geometry.polygon.Polygon object at 0x7f82edab82b0>, <shapely.geometry.polygon.Polygon object at 0x7f82edab8d00>, <shapely.geometry.polygon.Polygon object at 0x7f82edab8dc0>, <shapely.geometry.polygon.Polygon object at 0x7f82edab8af0>, <shapely.geometry.polygon.Polygon object at 0x7f82edab8700>, <shapely.geometry.polygon.Polygon object at 0x7f82edab89d0>, <shapely.geometry.polygon.Polygon object at 0x7f82edab8ee0>, <shapely.geometry.polygon.Polygon object at 0x7f82edab8d90>, <shapely.geometry.polygon.Polygon object at 0x7f82edab8ca0>, <shapely.geometry.polygon.Polygon object at 0x7f82edab86a0>, <shapely.geometry.polygon.Polygon object at 0x7f82edab88e0>, <shapely.geometry.polygon.Polygon object at 0x7f82edab8cd0>, <shapely.geometry.polygon.Polygon object at 0x7f82edab8730>, <shapely.geometry.polygon.Polygon object at 0x7f82edab83a0>, <shapely.geometry.polygon.Polygon object at 0x7f82edab8280>, <shapely.geometry.polygon.Polygon object at 0x7f82edab8250>, <shapely.geometry.polygon.Polygon object at 0x7f82edab8fa0>, <shapely.geometry.polygon.Polygon object at 0x7f82edab88b0>, <shapely.geometry.polygon.Polygon object at 0x7f82edab8100>, <shapely.geometry.polygon.Polygon object at 0x7f82edab8790>, <shapely.geometry.polygon.Polygon object at 0x7f82edab89a0>, <shapely.geometry.polygon.Polygon object at 0x7f82edab8d30>, <shapely.geometry.polygon.Polygon object at 0x7f82edab8b50>, <shapely.geometry.polygon.Polygon object at 0x7f82edab8400>, <shapely.geometry.polygon.Polygon object at 0x7f82edab80a0>, <shapely.geometry.polygon.Polygon object at 0x7f82edab8610>, <shapely.geometry.polygon.Polygon object at 0x7f82edab8df0>, <shapely.geometry.polygon.Polygon object at 0x7f82edab85b0>, <shapely.geometry.polygon.Polygon object at 0x7f82edab8820>, <shapely.geometry.polygon.Polygon object at 0x7f82edab8fd0>, <shapely.geometry.polygon.Polygon object at 0x7f82edab8550>, <shapely.geometry.polygon.Polygon object at 0x7f82edab81c0>, <shapely.geometry.polygon.Polygon object at 0x7f82edab8e20>, <shapely.geometry.polygon.Polygon object at 0x7f82edab8760>, <shapely.geometry.polygon.Polygon object at 0x7f82edab8520>, <shapely.geometry.polygon.Polygon object at 0x7f82edab82e0>, <shapely.geometry.polygon.Polygon object at 0x7f82edab8c40>, <shapely.geometry.polygon.Polygon object at 0x7f82edab8580>, <shapely.geometry.polygon.Polygon object at 0x7f82edab8220>, <shapely.geometry.polygon.Polygon object at 0x7f82edab8d60>, <shapely.geometry.polygon.Polygon object at 0x7f82edab8bb0>, <shapely.geometry.polygon.Polygon object at 0x7f82edab80d0>, <shapely.geometry.polygon.Polygon object at 0x7f82edab8be0>, <shapely.geometry.polygon.Polygon object at 0x7f82edab81f0>, <shapely.geometry.polygon.Polygon object at 0x7f82edab8670>, <shapely.geometry.polygon.Polygon object at 0x7f82edab8310>, <shapely.geometry.polygon.Polygon object at 0x7f82edab8850>, <shapely.geometry.polygon.Polygon object at 0x7f82edab8940>, <shapely.geometry.polygon.Polygon object at 0x7f82edab84f0>, <shapely.geometry.polygon.Polygon object at 0x7f82edab8a00>, <shapely.geometry.polygon.Polygon object at 0x7f82edab8f40>, <shapely.geometry.polygon.Polygon object at 0x7f82edab8e50>, <shapely.geometry.polygon.Polygon object at 0x7f82edab8a90>, <shapely.geometry.polygon.Polygon object at 0x7f82edb38d60>, <shapely.geometry.polygon.Polygon object at 0x7f82edb38cd0>, <shapely.geometry.polygon.Polygon object at 0x7f82edb38310>, <shapely.geometry.polygon.Polygon object at 0x7f82edb38af0>, <shapely.geometry.polygon.Polygon object at 0x7f82edb387f0>, <shapely.geometry.polygon.Polygon object at 0x7f82edb38460>, <shapely.geometry.polygon.Polygon object at 0x7f82edb38a60>, <shapely.geometry.polygon.Polygon object at 0x7f82edb38700>, <shapely.geometry.polygon.Polygon object at 0x7f82edb38430>, <shapely.geometry.polygon.Polygon object at 0x7f82edb38280>, <shapely.geometry.polygon.Polygon object at 0x7f82edb38940>, <shapely.geometry.polygon.Polygon object at 0x7f82edb38550>, <shapely.geometry.polygon.Polygon object at 0x7f82edb38a00>, <shapely.geometry.polygon.Polygon object at 0x7f82edb38d30>, <shapely.geometry.polygon.Polygon object at 0x7f82edb386a0>, <shapely.geometry.polygon.Polygon object at 0x7f82edb388b0>, <shapely.geometry.polygon.Polygon object at 0x7f82edb38f10>, <shapely.geometry.polygon.Polygon object at 0x7f82edb38820>, <shapely.geometry.polygon.Polygon object at 0x7f82edb381c0>, <shapely.geometry.polygon.Polygon object at 0x7f82edb38640>, <shapely.geometry.polygon.Polygon object at 0x7f82edb38040>, <shapely.geometry.polygon.Polygon object at 0x7f82edb38160>, <shapely.geometry.polygon.Polygon object at 0x7f82edb38a30>, <shapely.geometry.polygon.Polygon object at 0x7f82edb38400>, <shapely.geometry.polygon.Polygon object at 0x7f82edb38970>, <shapely.geometry.polygon.Polygon object at 0x7f82edb38ac0>, <shapely.geometry.polygon.Polygon object at 0x7f82edb38670>, <shapely.geometry.polygon.Polygon object at 0x7f82edb38f70>, <shapely.geometry.polygon.Polygon object at 0x7f82edb38b50>, <shapely.geometry.polygon.Polygon object at 0x7f82edb387c0>, <shapely.geometry.polygon.Polygon object at 0x7f82edb382b0>, <shapely.geometry.polygon.Polygon object at 0x7f82edb38c10>, <shapely.geometry.polygon.Polygon object at 0x7f82edb38b80>, <shapely.geometry.polygon.Polygon object at 0x7f82edb380d0>, <shapely.geometry.polygon.Polygon object at 0x7f82edb38d00>, <shapely.geometry.polygon.Polygon object at 0x7f82edb38bb0>, <shapely.geometry.polygon.Polygon object at 0x7f82edb38760>, <shapely.geometry.polygon.Polygon object at 0x7f82edb383a0>, <shapely.geometry.polygon.Polygon object at 0x7f82edb38ee0>, <shapely.geometry.polygon.Polygon object at 0x7f82edb38580>, <shapely.geometry.polygon.Polygon object at 0x7f82edb38790>, <shapely.geometry.polygon.Polygon object at 0x7f82edb389d0>, <shapely.geometry.polygon.Polygon object at 0x7f82edb385e0>, <shapely.geometry.polygon.Polygon object at 0x7f82edb38130>, <shapely.geometry.polygon.Polygon object at 0x7f82edb38d90>, <shapely.geometry.polygon.Polygon object at 0x7f8308d169a0>, <shapely.geometry.polygon.Polygon object at 0x7f8308d16f10>, <shapely.geometry.polygon.Polygon object at 0x7f8308d16c70>, <shapely.geometry.polygon.Polygon object at 0x7f8308d167f0>, <shapely.geometry.polygon.Polygon object at 0x7f8308d16670>, <shapely.geometry.polygon.Polygon object at 0x7f8308d16760>, <shapely.geometry.polygon.Polygon object at 0x7f8308d16940>, <shapely.geometry.polygon.Polygon object at 0x7f8308d16850>, <shapely.geometry.polygon.Polygon object at 0x7f8308d16d60>, <shapely.geometry.polygon.Polygon object at 0x7f8308d16730>, <shapely.geometry.polygon.Polygon object at 0x7f8308d16be0>, <shapely.geometry.polygon.Polygon object at 0x7f8308d16d00>, <shapely.geometry.polygon.Polygon object at 0x7f8308d165b0>, <shapely.geometry.polygon.Polygon object at 0x7f8308d16ac0>, <shapely.geometry.polygon.Polygon object at 0x7f8308d16fa0>, <shapely.geometry.polygon.Polygon object at 0x7f8308d16e80>, <shapely.geometry.polygon.Polygon object at 0x7f8308d16820>, <shapely.geometry.polygon.Polygon object at 0x7f8308d166d0>, <shapely.geometry.polygon.Polygon object at 0x7f8308d16700>, <shapely.geometry.polygon.Polygon object at 0x7f8308d168b0>, <shapely.geometry.polygon.Polygon object at 0x7f8308d16e20>, <shapely.geometry.polygon.Polygon object at 0x7f8308d16ee0>, <shapely.geometry.polygon.Polygon object at 0x7f830c9ca5e0>, <shapely.geometry.polygon.Polygon object at 0x7f830c9caf10>, <shapely.geometry.polygon.Polygon object at 0x7f8308d242b0>, <shapely.geometry.polygon.Polygon object at 0x7f830c9cabb0>, <shapely.geometry.polygon.Polygon object at 0x7f8308d165e0>, <shapely.geometry.polygon.Polygon object at 0x7f8308d24190>, <shapely.geometry.polygon.Polygon object at 0x7f8308d16f70>, <shapely.geometry.polygon.Polygon object at 0x7f8308d16fd0>, <shapely.geometry.polygon.Polygon object at 0x7f8308d16dc0>, <shapely.geometry.polygon.Polygon object at 0x7f830929ebe0>, <shapely.geometry.polygon.Polygon object at 0x7f830929edc0>, <shapely.geometry.polygon.Polygon object at 0x7f830929e190>, <shapely.geometry.polygon.Polygon object at 0x7f830929ef40>, <shapely.geometry.polygon.Polygon object at 0x7f830929e1f0>, <shapely.geometry.polygon.Polygon object at 0x7f830929e3d0>, <shapely.geometry.polygon.Polygon object at 0x7f830929ea30>, <shapely.geometry.polygon.Polygon object at 0x7f830929e0a0>, <shapely.geometry.polygon.Polygon object at 0x7f830929eca0>, <shapely.geometry.polygon.Polygon object at 0x7f830929e2b0>, <shapely.geometry.polygon.Polygon object at 0x7f830929ed00>, <shapely.geometry.polygon.Polygon object at 0x7f830929e100>, <shapely.geometry.polygon.Polygon object at 0x7f82f0198f40>, <shapely.geometry.polygon.Polygon object at 0x7f82f0198070>, <shapely.geometry.polygon.Polygon object at 0x7f830929e250>, <shapely.geometry.polygon.Polygon object at 0x7f82f0198c40>, <shapely.geometry.polygon.Polygon object at 0x7f830929e490>, <shapely.geometry.polygon.Polygon object at 0x7f830929e0d0>, <shapely.geometry.polygon.Polygon object at 0x7f830929ee20>, <shapely.geometry.polygon.Polygon object at 0x7f82f06b3cd0>, <shapely.geometry.polygon.Polygon object at 0x7f82f06b3b50>, <shapely.geometry.polygon.Polygon object at 0x7f82f06b3c40>, <shapely.geometry.polygon.Polygon object at 0x7f82f06b3af0>, <shapely.geometry.polygon.Polygon object at 0x7f82f06b3ac0>, <shapely.geometry.polygon.Polygon object at 0x7f82f06b3700>, <shapely.geometry.polygon.Polygon object at 0x7f82f06b3520>, <shapely.geometry.polygon.Polygon object at 0x7f82f06b3220>, <shapely.geometry.polygon.Polygon object at 0x7f82f06b3490>, <shapely.geometry.polygon.Polygon object at 0x7f82f06b3730>, <shapely.geometry.polygon.Polygon object at 0x7f82f0203d00>, <shapely.geometry.polygon.Polygon object at 0x7f82f02035e0>, <shapely.geometry.polygon.Polygon object at 0x7f82f02034f0>, <shapely.geometry.polygon.Polygon object at 0x7f82f0203c70>, <shapely.geometry.polygon.Polygon object at 0x7f82f0203130>, <shapely.geometry.polygon.Polygon object at 0x7f82f0203b50>, <shapely.geometry.polygon.Polygon object at 0x7f82f0203100>, <shapely.geometry.polygon.Polygon object at 0x7f82ef1a1400>, <shapely.geometry.polygon.Polygon object at 0x7f82ef1a1ac0>, <shapely.geometry.polygon.Polygon object at 0x7f82ef1a1b50>, <shapely.geometry.polygon.Polygon object at 0x7f82ef1a1d90>, <shapely.geometry.polygon.Polygon object at 0x7f82ef1a17c0>, <shapely.geometry.polygon.Polygon object at 0x7f82ef1a1c40>, <shapely.geometry.polygon.Polygon object at 0x7f82ef1a1d00>, <shapely.geometry.polygon.Polygon object at 0x7f82ef1a1ee0>, <shapely.geometry.polygon.Polygon object at 0x7f82ef1a1ca0>, <shapely.geometry.polygon.Polygon object at 0x7f82ef1a1670>, <shapely.geometry.polygon.Polygon object at 0x7f82ef1a10d0>, <shapely.geometry.polygon.Polygon object at 0x7f82ef1a1760>, <shapely.geometry.polygon.Polygon object at 0x7f82ef1a1df0>, <shapely.geometry.polygon.Polygon object at 0x7f82edf46250>, <shapely.geometry.polygon.Polygon object at 0x7f82edf46b20>, <shapely.geometry.polygon.Polygon object at 0x7f82edf467f0>, <shapely.geometry.polygon.Polygon object at 0x7f82edf46400>, <shapely.geometry.polygon.Polygon object at 0x7f82edf46190>, <shapely.geometry.polygon.Polygon object at 0x7f82edf46ac0>, <shapely.geometry.polygon.Polygon object at 0x7f82edf46c70>, <shapely.geometry.polygon.Polygon object at 0x7f82edf46130>, <shapely.geometry.polygon.Polygon object at 0x7f82edf46d60>, <shapely.geometry.polygon.Polygon object at 0x7f82edf46040>, <shapely.geometry.polygon.Polygon object at 0x7f82edf468e0>, <shapely.geometry.polygon.Polygon object at 0x7f82edf46640>, <shapely.geometry.polygon.Polygon object at 0x7f82edf460d0>, <shapely.geometry.polygon.Polygon object at 0x7f82edf463a0>, <shapely.geometry.polygon.Polygon object at 0x7f82edf460a0>, <shapely.geometry.polygon.Polygon object at 0x7f82edf469a0>, <shapely.geometry.polygon.Polygon object at 0x7f82edf46ee0>, <shapely.geometry.polygon.Polygon object at 0x7f82edf46eb0>, <shapely.geometry.polygon.Polygon object at 0x7f82edf46220>, <shapely.geometry.polygon.Polygon object at 0x7f82edf46550>, <shapely.geometry.polygon.Polygon object at 0x7f82edf463d0>, <shapely.geometry.polygon.Polygon object at 0x7f82edf46f70>, <shapely.geometry.polygon.Polygon object at 0x7f82edf46430>, <shapely.geometry.polygon.Polygon object at 0x7f82edf46a00>, <shapely.geometry.polygon.Polygon object at 0x7f82edf46fa0>, <shapely.geometry.polygon.Polygon object at 0x7f82edf46760>, <shapely.geometry.polygon.Polygon object at 0x7f82edf46940>, <shapely.geometry.polygon.Polygon object at 0x7f82edf469d0>, <shapely.geometry.polygon.Polygon object at 0x7f82edf46910>, <shapely.geometry.polygon.Polygon object at 0x7f82edf46520>, <shapely.geometry.polygon.Polygon object at 0x7f82edf46490>, <shapely.geometry.polygon.Polygon object at 0x7f82edf46070>, <shapely.geometry.polygon.Polygon object at 0x7f82f11358e0>, <shapely.geometry.polygon.Polygon object at 0x7f82f1135040>, <shapely.geometry.polygon.Polygon object at 0x7f82f1135a60>, <shapely.geometry.polygon.Polygon object at 0x7f82f1135790>, <shapely.geometry.polygon.Polygon object at 0x7f82f1135850>, <shapely.geometry.polygon.Polygon object at 0x7f82f1135940>, <shapely.geometry.polygon.Polygon object at 0x7f82f1135520>, <shapely.geometry.polygon.Polygon object at 0x7f82f1135910>, <shapely.geometry.polygon.Polygon object at 0x7f82f11354f0>, <shapely.geometry.polygon.Polygon object at 0x7f82f1135ee0>, <shapely.geometry.polygon.Polygon object at 0x7f82f1135e80>, <shapely.geometry.polygon.Polygon object at 0x7f82f1135340>, <shapely.geometry.polygon.Polygon object at 0x7f82f11356a0>, <shapely.geometry.polygon.Polygon object at 0x7f82f11350d0>, <shapely.geometry.polygon.Polygon object at 0x7f82f1135eb0>, <shapely.geometry.polygon.Polygon object at 0x7f82f1135310>, <shapely.geometry.polygon.Polygon object at 0x7f82f1135640>, <shapely.geometry.polygon.Polygon object at 0x7f82f1135610>, <shapely.geometry.polygon.Polygon object at 0x7f82f1135370>, <shapely.geometry.polygon.Polygon object at 0x7f82f11352e0>, <shapely.geometry.polygon.Polygon object at 0x7f82f1148d30>, <shapely.geometry.polygon.Polygon object at 0x7f82f1148f10>, <shapely.geometry.polygon.Polygon object at 0x7f82f1148730>, <shapely.geometry.polygon.Polygon object at 0x7f82f1148be0>, <shapely.geometry.polygon.Polygon object at 0x7f82f11484c0>, <shapely.geometry.polygon.Polygon object at 0x7f82f1148070>, <shapely.geometry.polygon.Polygon object at 0x7f82f1148eb0>, <shapely.geometry.polygon.Polygon object at 0x7f82f1148040>, <shapely.geometry.polygon.Polygon object at 0x7f82f1148430>, <shapely.geometry.polygon.Polygon object at 0x7f82f1148e20>, <shapely.geometry.polygon.Polygon object at 0x7f82f1148f40>, <shapely.geometry.polygon.Polygon object at 0x7f82f0702610>, <shapely.geometry.polygon.Polygon object at 0x7f82f0702f10>, <shapely.geometry.polygon.Polygon object at 0x7f82f0702af0>, <shapely.geometry.polygon.Polygon object at 0x7f82f0702970>, <shapely.geometry.polygon.Polygon object at 0x7f82f0702820>, <shapely.geometry.polygon.Polygon object at 0x7f82f0702d30>, <shapely.geometry.polygon.Polygon object at 0x7f82f0702d90>, <shapely.geometry.polygon.Polygon object at 0x7f82f0702c70>, <shapely.geometry.polygon.Polygon object at 0x7f82f0702c10>, <shapely.geometry.polygon.Polygon object at 0x7f82f0702250>, <shapely.geometry.polygon.Polygon object at 0x7f82f07028e0>, <shapely.geometry.polygon.Polygon object at 0x7f82f0702070>]\n"
     ]
    }
   ],
   "source": [
    "# from shapely.geometry import Polygon\n",
    "\n",
    "# lat = [0, 2, 4]\n",
    "# lon = [0, 2, 4]\n",
    "\n",
    "lan = gdf['latitude']\n",
    "lon = gdf['longitude']\n",
    "\n",
    "dim = 1  # define the length of the side of the square\n",
    "geoms = []\n",
    "for index, row in gdf.iterrows():\n",
    "    row.lon = ln\n",
    "    row.lat = lt\n",
    "    geom = Polygon([(ln, lt), ((ln + dim), lt), ((ln + dim), (lt - dim)), (ln, (lt - dim))])\n",
    "    geoms.append(geom)\n",
    "\n",
    "# geoms\n",
    "print(geoms)\n",
    "    \n",
    "# gdf['geometry'] = geoms \n",
    "# gdf.head()"
   ]
  },
  {
   "cell_type": "code",
   "execution_count": 39,
   "metadata": {},
   "outputs": [
    {
     "output_type": "execute_result",
     "data": {
      "text/plain": [
       "year_shutdown           int64\n",
       "criterion_value         int64\n",
       "assumed_retire          int64\n",
       "year                    int64\n",
       "status                 object\n",
       "iso3c                  object\n",
       "unit                   object\n",
       "emissions_year_mt     float64\n",
       "capacity              float64\n",
       "output_year_ej        float64\n",
       "latitude              float64\n",
       "longitude             float64\n",
       "geometry             geometry\n",
       "dtype: object"
      ]
     },
     "metadata": {},
     "execution_count": 39
    }
   ],
   "source": [
    "gdf.dtypes"
   ]
  },
  {
   "cell_type": "code",
   "execution_count": 42,
   "metadata": {},
   "outputs": [],
   "source": [
    "gdf.to_file(\"pplants.geojson\", driver='GeoJSON')"
   ]
  },
  {
   "cell_type": "code",
   "execution_count": 41,
   "metadata": {},
   "outputs": [
    {
     "output_type": "execute_result",
     "data": {
      "text/plain": [
       "count     797.000000\n",
       "mean      229.937994\n",
       "std       220.760352\n",
       "min         1.000000\n",
       "25%        55.000000\n",
       "50%       155.000000\n",
       "75%       330.000000\n",
       "max      1100.000000\n",
       "Name: capacity, dtype: float64"
      ]
     },
     "metadata": {},
     "execution_count": 41
    }
   ],
   "source": [
    "df['capacity'].describe()"
   ]
  },
  {
   "cell_type": "code",
   "execution_count": 6,
   "metadata": {},
   "outputs": [
    {
     "output_type": "execute_result",
     "data": {
      "text/plain": [
       "   cartodb_id  cartodb_georef_status  year scenario iso3c   coal_ei  \\\n",
       "0           5                   True  2016      1p5   DNK  3.104372   \n",
       "1           7                   True  2016      1p5   FIN  1.525184   \n",
       "2           8                   True  2016      1p5   FRA  0.242624   \n",
       "3           9                   True  2016      1p5   GBR  0.953235   \n",
       "4           1                   True  2016      1p5   AUT  0.089553   \n",
       "\n",
       "         pop  capacity_mw  output_year_ej  emissions_year_mt  \\\n",
       "0   5.704054       2837.0        0.186828          17.707508   \n",
       "1   5.517723       2119.0        0.088736           8.415542   \n",
       "2  65.078478       3312.0        0.164798          15.789573   \n",
       "3  64.584023      13100.0        0.647923          61.563728   \n",
       "4   8.583747        635.0        0.008048           0.768705   \n",
       "\n",
       "                                            geometry  \n",
       "0  MULTIPOLYGON (((11.25603 54.95458, 11.30348 54...  \n",
       "1  MULTIPOLYGON (((22.44370 59.85147, 22.42775 59...  \n",
       "2  MULTIPOLYGON (((-1.46789 46.24990, -1.46744 46...  \n",
       "3  MULTIPOLYGON (((-6.28751 49.91401, -6.29727 49...  \n",
       "4  MULTIPOLYGON (((15.16179 48.93722, 15.23807 48...  "
      ],
      "text/html": "<div>\n<style scoped>\n    .dataframe tbody tr th:only-of-type {\n        vertical-align: middle;\n    }\n\n    .dataframe tbody tr th {\n        vertical-align: top;\n    }\n\n    .dataframe thead th {\n        text-align: right;\n    }\n</style>\n<table border=\"1\" class=\"dataframe\">\n  <thead>\n    <tr style=\"text-align: right;\">\n      <th></th>\n      <th>cartodb_id</th>\n      <th>cartodb_georef_status</th>\n      <th>year</th>\n      <th>scenario</th>\n      <th>iso3c</th>\n      <th>coal_ei</th>\n      <th>pop</th>\n      <th>capacity_mw</th>\n      <th>output_year_ej</th>\n      <th>emissions_year_mt</th>\n      <th>geometry</th>\n    </tr>\n  </thead>\n  <tbody>\n    <tr>\n      <th>0</th>\n      <td>5</td>\n      <td>True</td>\n      <td>2016</td>\n      <td>1p5</td>\n      <td>DNK</td>\n      <td>3.104372</td>\n      <td>5.704054</td>\n      <td>2837.0</td>\n      <td>0.186828</td>\n      <td>17.707508</td>\n      <td>MULTIPOLYGON (((11.25603 54.95458, 11.30348 54...</td>\n    </tr>\n    <tr>\n      <th>1</th>\n      <td>7</td>\n      <td>True</td>\n      <td>2016</td>\n      <td>1p5</td>\n      <td>FIN</td>\n      <td>1.525184</td>\n      <td>5.517723</td>\n      <td>2119.0</td>\n      <td>0.088736</td>\n      <td>8.415542</td>\n      <td>MULTIPOLYGON (((22.44370 59.85147, 22.42775 59...</td>\n    </tr>\n    <tr>\n      <th>2</th>\n      <td>8</td>\n      <td>True</td>\n      <td>2016</td>\n      <td>1p5</td>\n      <td>FRA</td>\n      <td>0.242624</td>\n      <td>65.078478</td>\n      <td>3312.0</td>\n      <td>0.164798</td>\n      <td>15.789573</td>\n      <td>MULTIPOLYGON (((-1.46789 46.24990, -1.46744 46...</td>\n    </tr>\n    <tr>\n      <th>3</th>\n      <td>9</td>\n      <td>True</td>\n      <td>2016</td>\n      <td>1p5</td>\n      <td>GBR</td>\n      <td>0.953235</td>\n      <td>64.584023</td>\n      <td>13100.0</td>\n      <td>0.647923</td>\n      <td>61.563728</td>\n      <td>MULTIPOLYGON (((-6.28751 49.91401, -6.29727 49...</td>\n    </tr>\n    <tr>\n      <th>4</th>\n      <td>1</td>\n      <td>True</td>\n      <td>2016</td>\n      <td>1p5</td>\n      <td>AUT</td>\n      <td>0.089553</td>\n      <td>8.583747</td>\n      <td>635.0</td>\n      <td>0.008048</td>\n      <td>0.768705</td>\n      <td>MULTIPOLYGON (((15.16179 48.93722, 15.23807 48...</td>\n    </tr>\n  </tbody>\n</table>\n</div>"
     },
     "metadata": {},
     "execution_count": 6
    }
   ],
   "source": [
    "country = gpd.read_file('country_level.geojson')\n",
    "country.head()"
   ]
  },
  {
   "cell_type": "code",
   "execution_count": 7,
   "metadata": {},
   "outputs": [
    {
     "output_type": "execute_result",
     "data": {
      "text/plain": [
       "count       21.000000\n",
       "mean      7797.218157\n",
       "std      12447.903023\n",
       "min        296.000000\n",
       "25%       1194.000000\n",
       "50%       3312.000000\n",
       "75%       9475.000000\n",
       "max      53466.891304\n",
       "Name: capacity_mw, dtype: float64"
      ]
     },
     "metadata": {},
     "execution_count": 7
    }
   ],
   "source": [
    "country['capacity_mw'].describe()"
   ]
  },
  {
   "cell_type": "code",
   "execution_count": 2,
   "metadata": {},
   "outputs": [],
   "source": [
    "df.drop(['Coking coal', 'Other bituminous coal'], axis=1, inplace=True)\n",
    "df.to_csv('coal.csv')"
   ]
  },
  {
   "cell_type": "code",
   "execution_count": 3,
   "metadata": {},
   "outputs": [
    {
     "output_type": "execute_result",
     "data": {
      "text/plain": [
       "    TIME      Coal   Lignite\n",
       "0   1990  265267.5  143889.8\n",
       "2   1991  256997.8  126283.5\n",
       "4   1992  249893.3  115885.3\n",
       "6   1993  229756.2  110751.9\n",
       "8   1994  231710.6  103823.8\n",
       "10  1995  235472.9  100350.9\n",
       "12  1996  235875.5   99859.2\n",
       "14  1997  232218.3   96461.6\n",
       "16  1998  222118.3   91139.8\n",
       "18  1999  208123.1   88035.7\n",
       "20  2000  204057.0   90854.0\n",
       "22  2001  201487.2   93054.0\n",
       "24  2002  198975.4   93269.4\n",
       "26  2003  203657.1   94270.1\n",
       "28  2004  203026.9   93342.9\n",
       "30  2005  193455.8   90632.2\n",
       "32  2006  199845.2   90626.0\n",
       "34  2007  198307.3   91213.6\n",
       "36  2008  184847.1   88840.8\n",
       "38  2009  157730.1   85531.2\n",
       "40  2010  169053.5   84130.2\n",
       "42  2011  164718.9   88656.7\n",
       "44  2012  169832.1   89875.3\n",
       "46  2013  164378.4   85272.7\n",
       "48  2014  156400.8   83188.5\n",
       "50  2015  157145.6   82706.1\n",
       "52  2016  153681.3   77466.7\n",
       "54  2017  145813.5   78540.6\n",
       "56  2018  137724.9   75943.6\n",
       "58  2019  114776.8   63895.3"
      ],
      "text/html": "<div>\n<style scoped>\n    .dataframe tbody tr th:only-of-type {\n        vertical-align: middle;\n    }\n\n    .dataframe tbody tr th {\n        vertical-align: top;\n    }\n\n    .dataframe thead th {\n        text-align: right;\n    }\n</style>\n<table border=\"1\" class=\"dataframe\">\n  <thead>\n    <tr style=\"text-align: right;\">\n      <th></th>\n      <th>TIME</th>\n      <th>Coal</th>\n      <th>Lignite</th>\n    </tr>\n  </thead>\n  <tbody>\n    <tr>\n      <th>0</th>\n      <td>1990</td>\n      <td>265267.5</td>\n      <td>143889.8</td>\n    </tr>\n    <tr>\n      <th>2</th>\n      <td>1991</td>\n      <td>256997.8</td>\n      <td>126283.5</td>\n    </tr>\n    <tr>\n      <th>4</th>\n      <td>1992</td>\n      <td>249893.3</td>\n      <td>115885.3</td>\n    </tr>\n    <tr>\n      <th>6</th>\n      <td>1993</td>\n      <td>229756.2</td>\n      <td>110751.9</td>\n    </tr>\n    <tr>\n      <th>8</th>\n      <td>1994</td>\n      <td>231710.6</td>\n      <td>103823.8</td>\n    </tr>\n    <tr>\n      <th>10</th>\n      <td>1995</td>\n      <td>235472.9</td>\n      <td>100350.9</td>\n    </tr>\n    <tr>\n      <th>12</th>\n      <td>1996</td>\n      <td>235875.5</td>\n      <td>99859.2</td>\n    </tr>\n    <tr>\n      <th>14</th>\n      <td>1997</td>\n      <td>232218.3</td>\n      <td>96461.6</td>\n    </tr>\n    <tr>\n      <th>16</th>\n      <td>1998</td>\n      <td>222118.3</td>\n      <td>91139.8</td>\n    </tr>\n    <tr>\n      <th>18</th>\n      <td>1999</td>\n      <td>208123.1</td>\n      <td>88035.7</td>\n    </tr>\n    <tr>\n      <th>20</th>\n      <td>2000</td>\n      <td>204057.0</td>\n      <td>90854.0</td>\n    </tr>\n    <tr>\n      <th>22</th>\n      <td>2001</td>\n      <td>201487.2</td>\n      <td>93054.0</td>\n    </tr>\n    <tr>\n      <th>24</th>\n      <td>2002</td>\n      <td>198975.4</td>\n      <td>93269.4</td>\n    </tr>\n    <tr>\n      <th>26</th>\n      <td>2003</td>\n      <td>203657.1</td>\n      <td>94270.1</td>\n    </tr>\n    <tr>\n      <th>28</th>\n      <td>2004</td>\n      <td>203026.9</td>\n      <td>93342.9</td>\n    </tr>\n    <tr>\n      <th>30</th>\n      <td>2005</td>\n      <td>193455.8</td>\n      <td>90632.2</td>\n    </tr>\n    <tr>\n      <th>32</th>\n      <td>2006</td>\n      <td>199845.2</td>\n      <td>90626.0</td>\n    </tr>\n    <tr>\n      <th>34</th>\n      <td>2007</td>\n      <td>198307.3</td>\n      <td>91213.6</td>\n    </tr>\n    <tr>\n      <th>36</th>\n      <td>2008</td>\n      <td>184847.1</td>\n      <td>88840.8</td>\n    </tr>\n    <tr>\n      <th>38</th>\n      <td>2009</td>\n      <td>157730.1</td>\n      <td>85531.2</td>\n    </tr>\n    <tr>\n      <th>40</th>\n      <td>2010</td>\n      <td>169053.5</td>\n      <td>84130.2</td>\n    </tr>\n    <tr>\n      <th>42</th>\n      <td>2011</td>\n      <td>164718.9</td>\n      <td>88656.7</td>\n    </tr>\n    <tr>\n      <th>44</th>\n      <td>2012</td>\n      <td>169832.1</td>\n      <td>89875.3</td>\n    </tr>\n    <tr>\n      <th>46</th>\n      <td>2013</td>\n      <td>164378.4</td>\n      <td>85272.7</td>\n    </tr>\n    <tr>\n      <th>48</th>\n      <td>2014</td>\n      <td>156400.8</td>\n      <td>83188.5</td>\n    </tr>\n    <tr>\n      <th>50</th>\n      <td>2015</td>\n      <td>157145.6</td>\n      <td>82706.1</td>\n    </tr>\n    <tr>\n      <th>52</th>\n      <td>2016</td>\n      <td>153681.3</td>\n      <td>77466.7</td>\n    </tr>\n    <tr>\n      <th>54</th>\n      <td>2017</td>\n      <td>145813.5</td>\n      <td>78540.6</td>\n    </tr>\n    <tr>\n      <th>56</th>\n      <td>2018</td>\n      <td>137724.9</td>\n      <td>75943.6</td>\n    </tr>\n    <tr>\n      <th>58</th>\n      <td>2019</td>\n      <td>114776.8</td>\n      <td>63895.3</td>\n    </tr>\n  </tbody>\n</table>\n</div>"
     },
     "metadata": {},
     "execution_count": 3
    }
   ],
   "source": [
    "df"
   ]
  },
  {
   "cell_type": "code",
   "execution_count": 1,
   "metadata": {},
   "outputs": [
    {
     "output_type": "execute_result",
     "data": {
      "text/plain": [
       "  Member_state  Coal_employment MM_EUR_JTF\n",
       "0            BG            6,10      458,2\n",
       "1            CZ            9,60      580,2\n",
       "2            DE            7,00      876,6\n",
       "3            EL            1,50      293,6\n",
       "4            ES            1,30      397,4"
      ],
      "text/html": "<div>\n<style scoped>\n    .dataframe tbody tr th:only-of-type {\n        vertical-align: middle;\n    }\n\n    .dataframe tbody tr th {\n        vertical-align: top;\n    }\n\n    .dataframe thead th {\n        text-align: right;\n    }\n</style>\n<table border=\"1\" class=\"dataframe\">\n  <thead>\n    <tr style=\"text-align: right;\">\n      <th></th>\n      <th>Member_state</th>\n      <th>Coal_employment</th>\n      <th>MM_EUR_JTF</th>\n    </tr>\n  </thead>\n  <tbody>\n    <tr>\n      <th>0</th>\n      <td>BG</td>\n      <td>6,10</td>\n      <td>458,2</td>\n    </tr>\n    <tr>\n      <th>1</th>\n      <td>CZ</td>\n      <td>9,60</td>\n      <td>580,2</td>\n    </tr>\n    <tr>\n      <th>2</th>\n      <td>DE</td>\n      <td>7,00</td>\n      <td>876,6</td>\n    </tr>\n    <tr>\n      <th>3</th>\n      <td>EL</td>\n      <td>1,50</td>\n      <td>293,6</td>\n    </tr>\n    <tr>\n      <th>4</th>\n      <td>ES</td>\n      <td>1,30</td>\n      <td>397,4</td>\n    </tr>\n  </tbody>\n</table>\n</div>"
     },
     "metadata": {},
     "execution_count": 1
    }
   ],
   "source": [
    "import pandas as pd \n",
    "df = pd.read_clipboard()\n",
    "df.head()"
   ]
  },
  {
   "cell_type": "code",
   "execution_count": 2,
   "metadata": {},
   "outputs": [],
   "source": [
    "df.to_csv('jtf_allocation.csv', index=False)\n"
   ]
  },
  {
   "cell_type": "code",
   "execution_count": null,
   "metadata": {},
   "outputs": [],
   "source": []
  }
 ]
}