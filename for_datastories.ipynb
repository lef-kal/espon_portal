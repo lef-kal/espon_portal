{
 "metadata": {
  "language_info": {
   "codemirror_mode": {
    "name": "ipython",
    "version": 3
   },
   "file_extension": ".py",
   "mimetype": "text/x-python",
   "name": "python",
   "nbconvert_exporter": "python",
   "pygments_lexer": "ipython3",
   "version": "3.9.2"
  },
  "orig_nbformat": 4,
  "kernelspec": {
   "name": "python3",
   "display_name": "Python 3.9.2 64-bit ('3.9')"
  },
  "interpreter": {
   "hash": "7812ea015bdcee6f23a998adcdd2ef97c151c0c241b7b7070987d9313e41299d"
  }
 },
 "nbformat": 4,
 "nbformat_minor": 2,
 "cells": [
  {
   "cell_type": "code",
   "execution_count": 1,
   "metadata": {},
   "outputs": [
    {
     "output_type": "execute_result",
     "data": {
      "text/plain": [
       "   TIME  Coking coal  Other bituminous coal      Coal   Lignite\n",
       "0  1990      97971.8               167295.7  265267.5  143889.8\n",
       "2  1991      88625.2               168372.6  256997.8  126283.5\n",
       "4  1992      87733.1               162160.2  249893.3  115885.3\n",
       "6  1993      82374.4               147381.8  229756.2  110751.9\n",
       "8  1994      81478.3               150232.3  231710.6  103823.8"
      ],
      "text/html": "<div>\n<style scoped>\n    .dataframe tbody tr th:only-of-type {\n        vertical-align: middle;\n    }\n\n    .dataframe tbody tr th {\n        vertical-align: top;\n    }\n\n    .dataframe thead th {\n        text-align: right;\n    }\n</style>\n<table border=\"1\" class=\"dataframe\">\n  <thead>\n    <tr style=\"text-align: right;\">\n      <th></th>\n      <th>TIME</th>\n      <th>Coking coal</th>\n      <th>Other bituminous coal</th>\n      <th>Coal</th>\n      <th>Lignite</th>\n    </tr>\n  </thead>\n  <tbody>\n    <tr>\n      <th>0</th>\n      <td>1990</td>\n      <td>97971.8</td>\n      <td>167295.7</td>\n      <td>265267.5</td>\n      <td>143889.8</td>\n    </tr>\n    <tr>\n      <th>2</th>\n      <td>1991</td>\n      <td>88625.2</td>\n      <td>168372.6</td>\n      <td>256997.8</td>\n      <td>126283.5</td>\n    </tr>\n    <tr>\n      <th>4</th>\n      <td>1992</td>\n      <td>87733.1</td>\n      <td>162160.2</td>\n      <td>249893.3</td>\n      <td>115885.3</td>\n    </tr>\n    <tr>\n      <th>6</th>\n      <td>1993</td>\n      <td>82374.4</td>\n      <td>147381.8</td>\n      <td>229756.2</td>\n      <td>110751.9</td>\n    </tr>\n    <tr>\n      <th>8</th>\n      <td>1994</td>\n      <td>81478.3</td>\n      <td>150232.3</td>\n      <td>231710.6</td>\n      <td>103823.8</td>\n    </tr>\n  </tbody>\n</table>\n</div>"
     },
     "metadata": {},
     "execution_count": 1
    }
   ],
   "source": [
    "import pandas as pd\n",
    "\n",
    "df = pd.read_excel('coal_lignite.xlsx')\n",
    "df.dropna(inplace=True)\n",
    "df.head()"
   ]
  },
  {
   "cell_type": "code",
   "execution_count": 2,
   "metadata": {},
   "outputs": [],
   "source": [
    "df.drop(['Coking coal', 'Other bituminous coal'], axis=1, inplace=True)\n",
    "df.to_csv('coal.csv')"
   ]
  },
  {
   "cell_type": "code",
   "execution_count": 3,
   "metadata": {},
   "outputs": [
    {
     "output_type": "execute_result",
     "data": {
      "text/plain": [
       "    TIME      Coal   Lignite\n",
       "0   1990  265267.5  143889.8\n",
       "2   1991  256997.8  126283.5\n",
       "4   1992  249893.3  115885.3\n",
       "6   1993  229756.2  110751.9\n",
       "8   1994  231710.6  103823.8\n",
       "10  1995  235472.9  100350.9\n",
       "12  1996  235875.5   99859.2\n",
       "14  1997  232218.3   96461.6\n",
       "16  1998  222118.3   91139.8\n",
       "18  1999  208123.1   88035.7\n",
       "20  2000  204057.0   90854.0\n",
       "22  2001  201487.2   93054.0\n",
       "24  2002  198975.4   93269.4\n",
       "26  2003  203657.1   94270.1\n",
       "28  2004  203026.9   93342.9\n",
       "30  2005  193455.8   90632.2\n",
       "32  2006  199845.2   90626.0\n",
       "34  2007  198307.3   91213.6\n",
       "36  2008  184847.1   88840.8\n",
       "38  2009  157730.1   85531.2\n",
       "40  2010  169053.5   84130.2\n",
       "42  2011  164718.9   88656.7\n",
       "44  2012  169832.1   89875.3\n",
       "46  2013  164378.4   85272.7\n",
       "48  2014  156400.8   83188.5\n",
       "50  2015  157145.6   82706.1\n",
       "52  2016  153681.3   77466.7\n",
       "54  2017  145813.5   78540.6\n",
       "56  2018  137724.9   75943.6\n",
       "58  2019  114776.8   63895.3"
      ],
      "text/html": "<div>\n<style scoped>\n    .dataframe tbody tr th:only-of-type {\n        vertical-align: middle;\n    }\n\n    .dataframe tbody tr th {\n        vertical-align: top;\n    }\n\n    .dataframe thead th {\n        text-align: right;\n    }\n</style>\n<table border=\"1\" class=\"dataframe\">\n  <thead>\n    <tr style=\"text-align: right;\">\n      <th></th>\n      <th>TIME</th>\n      <th>Coal</th>\n      <th>Lignite</th>\n    </tr>\n  </thead>\n  <tbody>\n    <tr>\n      <th>0</th>\n      <td>1990</td>\n      <td>265267.5</td>\n      <td>143889.8</td>\n    </tr>\n    <tr>\n      <th>2</th>\n      <td>1991</td>\n      <td>256997.8</td>\n      <td>126283.5</td>\n    </tr>\n    <tr>\n      <th>4</th>\n      <td>1992</td>\n      <td>249893.3</td>\n      <td>115885.3</td>\n    </tr>\n    <tr>\n      <th>6</th>\n      <td>1993</td>\n      <td>229756.2</td>\n      <td>110751.9</td>\n    </tr>\n    <tr>\n      <th>8</th>\n      <td>1994</td>\n      <td>231710.6</td>\n      <td>103823.8</td>\n    </tr>\n    <tr>\n      <th>10</th>\n      <td>1995</td>\n      <td>235472.9</td>\n      <td>100350.9</td>\n    </tr>\n    <tr>\n      <th>12</th>\n      <td>1996</td>\n      <td>235875.5</td>\n      <td>99859.2</td>\n    </tr>\n    <tr>\n      <th>14</th>\n      <td>1997</td>\n      <td>232218.3</td>\n      <td>96461.6</td>\n    </tr>\n    <tr>\n      <th>16</th>\n      <td>1998</td>\n      <td>222118.3</td>\n      <td>91139.8</td>\n    </tr>\n    <tr>\n      <th>18</th>\n      <td>1999</td>\n      <td>208123.1</td>\n      <td>88035.7</td>\n    </tr>\n    <tr>\n      <th>20</th>\n      <td>2000</td>\n      <td>204057.0</td>\n      <td>90854.0</td>\n    </tr>\n    <tr>\n      <th>22</th>\n      <td>2001</td>\n      <td>201487.2</td>\n      <td>93054.0</td>\n    </tr>\n    <tr>\n      <th>24</th>\n      <td>2002</td>\n      <td>198975.4</td>\n      <td>93269.4</td>\n    </tr>\n    <tr>\n      <th>26</th>\n      <td>2003</td>\n      <td>203657.1</td>\n      <td>94270.1</td>\n    </tr>\n    <tr>\n      <th>28</th>\n      <td>2004</td>\n      <td>203026.9</td>\n      <td>93342.9</td>\n    </tr>\n    <tr>\n      <th>30</th>\n      <td>2005</td>\n      <td>193455.8</td>\n      <td>90632.2</td>\n    </tr>\n    <tr>\n      <th>32</th>\n      <td>2006</td>\n      <td>199845.2</td>\n      <td>90626.0</td>\n    </tr>\n    <tr>\n      <th>34</th>\n      <td>2007</td>\n      <td>198307.3</td>\n      <td>91213.6</td>\n    </tr>\n    <tr>\n      <th>36</th>\n      <td>2008</td>\n      <td>184847.1</td>\n      <td>88840.8</td>\n    </tr>\n    <tr>\n      <th>38</th>\n      <td>2009</td>\n      <td>157730.1</td>\n      <td>85531.2</td>\n    </tr>\n    <tr>\n      <th>40</th>\n      <td>2010</td>\n      <td>169053.5</td>\n      <td>84130.2</td>\n    </tr>\n    <tr>\n      <th>42</th>\n      <td>2011</td>\n      <td>164718.9</td>\n      <td>88656.7</td>\n    </tr>\n    <tr>\n      <th>44</th>\n      <td>2012</td>\n      <td>169832.1</td>\n      <td>89875.3</td>\n    </tr>\n    <tr>\n      <th>46</th>\n      <td>2013</td>\n      <td>164378.4</td>\n      <td>85272.7</td>\n    </tr>\n    <tr>\n      <th>48</th>\n      <td>2014</td>\n      <td>156400.8</td>\n      <td>83188.5</td>\n    </tr>\n    <tr>\n      <th>50</th>\n      <td>2015</td>\n      <td>157145.6</td>\n      <td>82706.1</td>\n    </tr>\n    <tr>\n      <th>52</th>\n      <td>2016</td>\n      <td>153681.3</td>\n      <td>77466.7</td>\n    </tr>\n    <tr>\n      <th>54</th>\n      <td>2017</td>\n      <td>145813.5</td>\n      <td>78540.6</td>\n    </tr>\n    <tr>\n      <th>56</th>\n      <td>2018</td>\n      <td>137724.9</td>\n      <td>75943.6</td>\n    </tr>\n    <tr>\n      <th>58</th>\n      <td>2019</td>\n      <td>114776.8</td>\n      <td>63895.3</td>\n    </tr>\n  </tbody>\n</table>\n</div>"
     },
     "metadata": {},
     "execution_count": 3
    }
   ],
   "source": [
    "df"
   ]
  },
  {
   "cell_type": "code",
   "execution_count": null,
   "metadata": {},
   "outputs": [],
   "source": []
  }
 ]
}