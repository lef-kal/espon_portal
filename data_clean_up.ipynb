{
 "metadata": {
  "language_info": {
   "codemirror_mode": {
    "name": "ipython",
    "version": 3
   },
   "file_extension": ".py",
   "mimetype": "text/x-python",
   "name": "python",
   "nbconvert_exporter": "python",
   "pygments_lexer": "ipython3",
   "version": "3.9.2"
  },
  "orig_nbformat": 4,
  "kernelspec": {
   "name": "python3",
   "display_name": "Python 3.9.2 64-bit"
  },
  "interpreter": {
   "hash": "aee8b7b246df8f9039afb4144a1f6fd8d2ca17a180786b69acc140d282b71a49"
  }
 },
 "nbformat": 4,
 "nbformat_minor": 2,
 "cells": [
  {
   "cell_type": "code",
   "execution_count": 1,
   "metadata": {},
   "outputs": [],
   "source": [
    "import pandas as pd \n",
    "df = pd.read_csv('CIRCTER/main-data/ind_1059/ind_1059_was_data.csv')\n",
    "df.drop(['id', 'name', 'code', 'nomenclature', 'level', 'version',\n",
    "        'processes', 'sources'], axis=1, inplace=True)\n",
    "\n",
    "df.dropna(inplace=True)\n",
    "df['y_2014'] = df['y_2014'].astype(int)\n",
    "df['y_2006'] = df['y_2006'].astype(int)\n",
    "df['dif'] = df['y_2014']-df['y_2006']\n",
    "df.to_csv(r'waste_data_time.csv')"
   ]
  },
  {
   "cell_type": "code",
   "execution_count": 5,
   "metadata": {},
   "outputs": [
    {
     "output_type": "execute_result",
     "data": {
      "text/plain": [
       "3      AT\n",
       "4      AT\n",
       "5      AT\n",
       "6      AT\n",
       "7      AT\n",
       "       ..\n",
       "325    UK\n",
       "326    UK\n",
       "327    UK\n",
       "328    UK\n",
       "329    UK\n",
       "Name: tunit_0, Length: 285, dtype: object"
      ]
     },
     "metadata": {},
     "execution_count": 5
    }
   ],
   "source": [
    "df['tunit_0'] = df['tunit_code'].astype(str).str[:-2]\n",
    "df['tunit_0']"
   ]
  },
  {
   "cell_type": "code",
   "execution_count": 9,
   "metadata": {},
   "outputs": [
    {
     "output_type": "execute_result",
     "data": {
      "text/plain": [
       "19017133"
      ]
     },
     "metadata": {},
     "execution_count": 9
    }
   ],
   "source": [
    "df['y_2006'].max()"
   ]
  },
  {
   "cell_type": "code",
   "execution_count": 7,
   "metadata": {},
   "outputs": [],
   "source": [
    "df.to_excel(r'nuts_0-2_was_data_2006-2014.xlsx')"
   ]
  },
  {
   "cell_type": "code",
   "execution_count": 10,
   "metadata": {},
   "outputs": [],
   "source": [
    "df['y_2014'] = df['y_2014'].div(1000)"
   ]
  },
  {
   "cell_type": "code",
   "execution_count": 13,
   "metadata": {},
   "outputs": [],
   "source": [
    "df.to_csv(r'waste_data.csv', index=False)"
   ]
  },
  {
   "cell_type": "code",
   "execution_count": 8,
   "metadata": {
    "tags": []
   },
   "outputs": [],
   "source": [
    "df.drop(['json'], axis=1, inplace=True)"
   ]
  },
  {
   "cell_type": "code",
   "execution_count": 12,
   "metadata": {},
   "outputs": [],
   "source": [
    "df.to_json(r'waste_data.json', orient=\"records\")"
   ]
  },
  {
   "cell_type": "code",
   "execution_count": 16,
   "metadata": {},
   "outputs": [],
   "source": [
    "import geopandas as gpd"
   ]
  },
  {
   "cell_type": "code",
   "execution_count": 18,
   "metadata": {},
   "outputs": [
    {
     "output_type": "execute_result",
     "data": {
      "text/plain": [
       "     id NUTS_ID  ...   FID                                           geometry\n",
       "0  DE50    DE50  ...  DE50  MULTIPOLYGON (((8.91583 53.01102, 8.71142 53.0...\n",
       "1  DE60    DE60  ...  DE60  MULTIPOLYGON (((10.23668 53.49635, 10.30795 53...\n",
       "2  DE71    DE71  ...  DE71  POLYGON ((9.04243 50.49799, 9.10679 50.43799, ...\n",
       "3  DE72    DE72  ...  DE72  POLYGON ((8.97460 50.93830, 9.11167 50.91238, ...\n",
       "4  DE73    DE73  ...  DE73  POLYGON ((9.68533 51.58202, 9.67238 51.56840, ...\n",
       "\n",
       "[5 rows x 11 columns]"
      ],
      "text/html": "<div>\n<style scoped>\n    .dataframe tbody tr th:only-of-type {\n        vertical-align: middle;\n    }\n\n    .dataframe tbody tr th {\n        vertical-align: top;\n    }\n\n    .dataframe thead th {\n        text-align: right;\n    }\n</style>\n<table border=\"1\" class=\"dataframe\">\n  <thead>\n    <tr style=\"text-align: right;\">\n      <th></th>\n      <th>id</th>\n      <th>NUTS_ID</th>\n      <th>LEVL_CODE</th>\n      <th>CNTR_CODE</th>\n      <th>NAME_LATN</th>\n      <th>NUTS_NAME</th>\n      <th>MOUNT_TYPE</th>\n      <th>URBN_TYPE</th>\n      <th>COAST_TYPE</th>\n      <th>FID</th>\n      <th>geometry</th>\n    </tr>\n  </thead>\n  <tbody>\n    <tr>\n      <th>0</th>\n      <td>DE50</td>\n      <td>DE50</td>\n      <td>2</td>\n      <td>DE</td>\n      <td>Bremen</td>\n      <td>Bremen</td>\n      <td>0</td>\n      <td>NaN</td>\n      <td>0</td>\n      <td>DE50</td>\n      <td>MULTIPOLYGON (((8.91583 53.01102, 8.71142 53.0...</td>\n    </tr>\n    <tr>\n      <th>1</th>\n      <td>DE60</td>\n      <td>DE60</td>\n      <td>2</td>\n      <td>DE</td>\n      <td>Hamburg</td>\n      <td>Hamburg</td>\n      <td>0</td>\n      <td>NaN</td>\n      <td>0</td>\n      <td>DE60</td>\n      <td>MULTIPOLYGON (((10.23668 53.49635, 10.30795 53...</td>\n    </tr>\n    <tr>\n      <th>2</th>\n      <td>DE71</td>\n      <td>DE71</td>\n      <td>2</td>\n      <td>DE</td>\n      <td>Darmstadt</td>\n      <td>Darmstadt</td>\n      <td>0</td>\n      <td>NaN</td>\n      <td>0</td>\n      <td>DE71</td>\n      <td>POLYGON ((9.04243 50.49799, 9.10679 50.43799, ...</td>\n    </tr>\n    <tr>\n      <th>3</th>\n      <td>DE72</td>\n      <td>DE72</td>\n      <td>2</td>\n      <td>DE</td>\n      <td>Gießen</td>\n      <td>Gießen</td>\n      <td>0</td>\n      <td>NaN</td>\n      <td>0</td>\n      <td>DE72</td>\n      <td>POLYGON ((8.97460 50.93830, 9.11167 50.91238, ...</td>\n    </tr>\n    <tr>\n      <th>4</th>\n      <td>DE73</td>\n      <td>DE73</td>\n      <td>2</td>\n      <td>DE</td>\n      <td>Kassel</td>\n      <td>Kassel</td>\n      <td>0</td>\n      <td>NaN</td>\n      <td>0</td>\n      <td>DE73</td>\n      <td>POLYGON ((9.68533 51.58202, 9.67238 51.56840, ...</td>\n    </tr>\n  </tbody>\n</table>\n</div>"
     },
     "metadata": {},
     "execution_count": 18
    }
   ],
   "source": [
    "df_nuts = gpd.read_file('NUTS_RG_10M_2021_4326_LEVL_2.geojson')\n",
    "df_nuts.head()"
   ]
  },
  {
   "cell_type": "code",
   "execution_count": 22,
   "metadata": {},
   "outputs": [
    {
     "output_type": "execute_result",
     "data": {
      "text/plain": [
       "       id NUTS_ID  ...   FID                                           geometry\n",
       "0    DE50    DE50  ...  DE50  MULTIPOLYGON (((8.91583 53.01102, 8.71142 53.0...\n",
       "1    DE60    DE60  ...  DE60  MULTIPOLYGON (((10.23668 53.49635, 10.30795 53...\n",
       "2    DE71    DE71  ...  DE71  POLYGON ((9.04243 50.49799, 9.10679 50.43799, ...\n",
       "3    DE72    DE72  ...  DE72  POLYGON ((8.97460 50.93830, 9.11167 50.91238, ...\n",
       "4    DE73    DE73  ...  DE73  POLYGON ((9.68533 51.58202, 9.67238 51.56840, ...\n",
       "..    ...     ...  ...   ...                                                ...\n",
       "329  HR06    HR06  ...  HR06  POLYGON ((17.29433 45.98854, 17.20205 45.97788...\n",
       "330  NO02    NO02  ...  NO02  POLYGON ((12.25466 62.33102, 12.29937 62.26749...\n",
       "331  NO06    NO06  ...  NO06  MULTIPOLYGON (((11.97605 65.07260, 12.04611 65...\n",
       "332  NO07    NO07  ...  NO07  MULTIPOLYGON (((28.92968 69.05190, 28.83032 69...\n",
       "333  NO08    NO08  ...  NO08  POLYGON ((11.83973 59.84077, 11.92697 59.79048...\n",
       "\n",
       "[334 rows x 11 columns]"
      ],
      "text/html": "<div>\n<style scoped>\n    .dataframe tbody tr th:only-of-type {\n        vertical-align: middle;\n    }\n\n    .dataframe tbody tr th {\n        vertical-align: top;\n    }\n\n    .dataframe thead th {\n        text-align: right;\n    }\n</style>\n<table border=\"1\" class=\"dataframe\">\n  <thead>\n    <tr style=\"text-align: right;\">\n      <th></th>\n      <th>id</th>\n      <th>NUTS_ID</th>\n      <th>LEVL_CODE</th>\n      <th>CNTR_CODE</th>\n      <th>NAME_LATN</th>\n      <th>NUTS_NAME</th>\n      <th>MOUNT_TYPE</th>\n      <th>URBN_TYPE</th>\n      <th>COAST_TYPE</th>\n      <th>FID</th>\n      <th>geometry</th>\n    </tr>\n  </thead>\n  <tbody>\n    <tr>\n      <th>0</th>\n      <td>DE50</td>\n      <td>DE50</td>\n      <td>2</td>\n      <td>DE</td>\n      <td>Bremen</td>\n      <td>Bremen</td>\n      <td>0</td>\n      <td>NaN</td>\n      <td>0</td>\n      <td>DE50</td>\n      <td>MULTIPOLYGON (((8.91583 53.01102, 8.71142 53.0...</td>\n    </tr>\n    <tr>\n      <th>1</th>\n      <td>DE60</td>\n      <td>DE60</td>\n      <td>2</td>\n      <td>DE</td>\n      <td>Hamburg</td>\n      <td>Hamburg</td>\n      <td>0</td>\n      <td>NaN</td>\n      <td>0</td>\n      <td>DE60</td>\n      <td>MULTIPOLYGON (((10.23668 53.49635, 10.30795 53...</td>\n    </tr>\n    <tr>\n      <th>2</th>\n      <td>DE71</td>\n      <td>DE71</td>\n      <td>2</td>\n      <td>DE</td>\n      <td>Darmstadt</td>\n      <td>Darmstadt</td>\n      <td>0</td>\n      <td>NaN</td>\n      <td>0</td>\n      <td>DE71</td>\n      <td>POLYGON ((9.04243 50.49799, 9.10679 50.43799, ...</td>\n    </tr>\n    <tr>\n      <th>3</th>\n      <td>DE72</td>\n      <td>DE72</td>\n      <td>2</td>\n      <td>DE</td>\n      <td>Gießen</td>\n      <td>Gießen</td>\n      <td>0</td>\n      <td>NaN</td>\n      <td>0</td>\n      <td>DE72</td>\n      <td>POLYGON ((8.97460 50.93830, 9.11167 50.91238, ...</td>\n    </tr>\n    <tr>\n      <th>4</th>\n      <td>DE73</td>\n      <td>DE73</td>\n      <td>2</td>\n      <td>DE</td>\n      <td>Kassel</td>\n      <td>Kassel</td>\n      <td>0</td>\n      <td>NaN</td>\n      <td>0</td>\n      <td>DE73</td>\n      <td>POLYGON ((9.68533 51.58202, 9.67238 51.56840, ...</td>\n    </tr>\n    <tr>\n      <th>...</th>\n      <td>...</td>\n      <td>...</td>\n      <td>...</td>\n      <td>...</td>\n      <td>...</td>\n      <td>...</td>\n      <td>...</td>\n      <td>...</td>\n      <td>...</td>\n      <td>...</td>\n      <td>...</td>\n    </tr>\n    <tr>\n      <th>329</th>\n      <td>HR06</td>\n      <td>HR06</td>\n      <td>2</td>\n      <td>HR</td>\n      <td>Sjeverna Hrvatska</td>\n      <td>Sjeverna Hrvatska</td>\n      <td>0</td>\n      <td>0.0</td>\n      <td>0</td>\n      <td>HR06</td>\n      <td>POLYGON ((17.29433 45.98854, 17.20205 45.97788...</td>\n    </tr>\n    <tr>\n      <th>330</th>\n      <td>NO02</td>\n      <td>NO02</td>\n      <td>2</td>\n      <td>NO</td>\n      <td>Innlandet</td>\n      <td>Innlandet</td>\n      <td>0</td>\n      <td>NaN</td>\n      <td>0</td>\n      <td>NO02</td>\n      <td>POLYGON ((12.25466 62.33102, 12.29937 62.26749...</td>\n    </tr>\n    <tr>\n      <th>331</th>\n      <td>NO06</td>\n      <td>NO06</td>\n      <td>2</td>\n      <td>NO</td>\n      <td>Trøndelag</td>\n      <td>Trøndelag</td>\n      <td>0</td>\n      <td>NaN</td>\n      <td>0</td>\n      <td>NO06</td>\n      <td>MULTIPOLYGON (((11.97605 65.07260, 12.04611 65...</td>\n    </tr>\n    <tr>\n      <th>332</th>\n      <td>NO07</td>\n      <td>NO07</td>\n      <td>2</td>\n      <td>NO</td>\n      <td>Nord-Norge</td>\n      <td>Nord-Norge</td>\n      <td>0</td>\n      <td>NaN</td>\n      <td>0</td>\n      <td>NO07</td>\n      <td>MULTIPOLYGON (((28.92968 69.05190, 28.83032 69...</td>\n    </tr>\n    <tr>\n      <th>333</th>\n      <td>NO08</td>\n      <td>NO08</td>\n      <td>2</td>\n      <td>NO</td>\n      <td>Oslo og Viken</td>\n      <td>Oslo og Viken</td>\n      <td>0</td>\n      <td>0.0</td>\n      <td>0</td>\n      <td>NO08</td>\n      <td>POLYGON ((11.83973 59.84077, 11.92697 59.79048...</td>\n    </tr>\n  </tbody>\n</table>\n<p>334 rows × 11 columns</p>\n</div>"
     },
     "metadata": {},
     "execution_count": 22
    }
   ],
   "source": [
    "df_nuts['NUTS_ID'].drop(columns=['id', 'LEVL_CODE', 'CNTR_CODE', 'MOUNT_TYPE', 'URBN_TYPE', 'COAST_TYPE', 'FID', 'geometry'], inplace=True)\n",
    "\n",
    "df_nuts"
   ]
  },
  {
   "cell_type": "code",
   "execution_count": 1,
   "metadata": {},
   "outputs": [
    {
     "output_type": "execute_result",
     "data": {
      "text/plain": [
       "        id   obj      value  decimal_value  year_start  year_end  \\\n",
       "0  5743042  2183   293433.0       293433.0        2019      2019   \n",
       "1  5743043  2183  1677542.0      1677542.0        2019      2019   \n",
       "2  5743044  2183  1897491.0      1897491.0        2019      2019   \n",
       "3  5743045  2183   560939.0       560939.0        2019      2019   \n",
       "4  5743046  2183  1243052.0      1243052.0        2019      2019   \n",
       "\n",
       "                                               tunit  \n",
       "0  [{'tunit_name': 'Burgenland', 'tunit_code': 'A...  \n",
       "1  [{'tunit_name': 'Niederosterreich', 'tunit_cod...  \n",
       "2     [{'tunit_name': 'Wien', 'tunit_code': 'AT13'}]  \n",
       "3  [{'tunit_name': 'Karnten', 'tunit_code': 'AT21'}]  \n",
       "4  [{'tunit_name': 'Steiermark', 'tunit_code': 'A...  "
      ],
      "text/html": "<div>\n<style scoped>\n    .dataframe tbody tr th:only-of-type {\n        vertical-align: middle;\n    }\n\n    .dataframe tbody tr th {\n        vertical-align: top;\n    }\n\n    .dataframe thead th {\n        text-align: right;\n    }\n</style>\n<table border=\"1\" class=\"dataframe\">\n  <thead>\n    <tr style=\"text-align: right;\">\n      <th></th>\n      <th>id</th>\n      <th>obj</th>\n      <th>value</th>\n      <th>decimal_value</th>\n      <th>year_start</th>\n      <th>year_end</th>\n      <th>tunit</th>\n    </tr>\n  </thead>\n  <tbody>\n    <tr>\n      <th>0</th>\n      <td>5743042</td>\n      <td>2183</td>\n      <td>293433.0</td>\n      <td>293433.0</td>\n      <td>2019</td>\n      <td>2019</td>\n      <td>[{'tunit_name': 'Burgenland', 'tunit_code': 'A...</td>\n    </tr>\n    <tr>\n      <th>1</th>\n      <td>5743043</td>\n      <td>2183</td>\n      <td>1677542.0</td>\n      <td>1677542.0</td>\n      <td>2019</td>\n      <td>2019</td>\n      <td>[{'tunit_name': 'Niederosterreich', 'tunit_cod...</td>\n    </tr>\n    <tr>\n      <th>2</th>\n      <td>5743044</td>\n      <td>2183</td>\n      <td>1897491.0</td>\n      <td>1897491.0</td>\n      <td>2019</td>\n      <td>2019</td>\n      <td>[{'tunit_name': 'Wien', 'tunit_code': 'AT13'}]</td>\n    </tr>\n    <tr>\n      <th>3</th>\n      <td>5743045</td>\n      <td>2183</td>\n      <td>560939.0</td>\n      <td>560939.0</td>\n      <td>2019</td>\n      <td>2019</td>\n      <td>[{'tunit_name': 'Karnten', 'tunit_code': 'AT21'}]</td>\n    </tr>\n    <tr>\n      <th>4</th>\n      <td>5743046</td>\n      <td>2183</td>\n      <td>1243052.0</td>\n      <td>1243052.0</td>\n      <td>2019</td>\n      <td>2019</td>\n      <td>[{'tunit_name': 'Steiermark', 'tunit_code': 'A...</td>\n    </tr>\n  </tbody>\n</table>\n</div>"
     },
     "metadata": {},
     "execution_count": 1
    }
   ],
   "source": [
    "import pandas as pd \n",
    "import requests \n",
    "import json\n",
    "from io import StringIO\n",
    "url = \"https://database.espon.eu/api/select/indicator-data/?obj=2183\"\n",
    "for_documentation = requests.get(url)\n",
    "for_documentation = for_documentation.json()\n",
    "for_documentation = json.dumps(for_documentation)\n",
    "df = pd.read_json(StringIO(for_documentation))\n",
    "df.head()"
   ]
  },
  {
   "cell_type": "code",
   "execution_count": 5,
   "metadata": {},
   "outputs": [
    {
     "output_type": "execute_result",
     "data": {
      "text/plain": [
       "<Response [200]>"
      ]
     },
     "metadata": {},
     "execution_count": 5
    }
   ],
   "source": [
    "import json "
   ]
  },
  {
   "cell_type": "code",
   "execution_count": 13,
   "metadata": {},
   "outputs": [
    {
     "output_type": "execute_result",
     "data": {
      "text/plain": [
       "<Response [200]>"
      ]
     },
     "metadata": {},
     "execution_count": 13
    }
   ],
   "source": [
    "for_documentation = requests.get(url)\n",
    "for_documentation"
   ]
  },
  {
   "cell_type": "code",
   "execution_count": 15,
   "metadata": {},
   "outputs": [
    {
     "output_type": "error",
     "ename": "JSONDecodeError",
     "evalue": "Expecting value: line 1 column 1 (char 0)",
     "traceback": [
      "\u001b[0;31m---------------------------------------------------------------------------\u001b[0m",
      "\u001b[0;31mJSONDecodeError\u001b[0m                           Traceback (most recent call last)",
      "\u001b[0;32m<ipython-input-15-e844edceb3b7>\u001b[0m in \u001b[0;36m<module>\u001b[0;34m\u001b[0m\n\u001b[0;32m----> 1\u001b[0;31m \u001b[0mfor_documentation\u001b[0m \u001b[0;34m=\u001b[0m \u001b[0mfor_documentation\u001b[0m\u001b[0;34m.\u001b[0m\u001b[0mjson\u001b[0m\u001b[0;34m(\u001b[0m\u001b[0;34m)\u001b[0m\u001b[0;34m\u001b[0m\u001b[0;34m\u001b[0m\u001b[0m\n\u001b[0m\u001b[1;32m      2\u001b[0m \u001b[0mfor_documentation\u001b[0m \u001b[0;34m=\u001b[0m \u001b[0mjson\u001b[0m\u001b[0;34m.\u001b[0m\u001b[0mdumps\u001b[0m\u001b[0;34m(\u001b[0m\u001b[0mfor_documentation\u001b[0m\u001b[0;34m)\u001b[0m\u001b[0;34m\u001b[0m\u001b[0;34m\u001b[0m\u001b[0m\n\u001b[1;32m      3\u001b[0m \u001b[0mdf\u001b[0m \u001b[0;34m=\u001b[0m \u001b[0mpd\u001b[0m\u001b[0;34m.\u001b[0m\u001b[0mread_json\u001b[0m\u001b[0;34m(\u001b[0m\u001b[0mStringIO\u001b[0m\u001b[0;34m(\u001b[0m\u001b[0mfor_documentation\u001b[0m\u001b[0;34m)\u001b[0m\u001b[0;34m)\u001b[0m\u001b[0;34m\u001b[0m\u001b[0;34m\u001b[0m\u001b[0m\n\u001b[1;32m      4\u001b[0m \u001b[0mdf\u001b[0m \u001b[0;34m=\u001b[0m \u001b[0mpd\u001b[0m\u001b[0;34m.\u001b[0m\u001b[0mjson_normalize\u001b[0m\u001b[0;34m(\u001b[0m\u001b[0mdf\u001b[0m\u001b[0;34m.\u001b[0m\u001b[0mtunit\u001b[0m\u001b[0;34m)\u001b[0m\u001b[0;34m\u001b[0m\u001b[0;34m\u001b[0m\u001b[0m\n\u001b[1;32m      5\u001b[0m \u001b[0mdf\u001b[0m\u001b[0;34m.\u001b[0m\u001b[0mhead\u001b[0m\u001b[0;34m(\u001b[0m\u001b[0;34m)\u001b[0m\u001b[0;34m\u001b[0m\u001b[0;34m\u001b[0m\u001b[0m\n",
      "\u001b[0;32m/Library/Frameworks/Python.framework/Versions/3.9/lib/python3.9/site-packages/requests/models.py\u001b[0m in \u001b[0;36mjson\u001b[0;34m(self, **kwargs)\u001b[0m\n\u001b[1;32m    898\u001b[0m                     \u001b[0;31m# used.\u001b[0m\u001b[0;34m\u001b[0m\u001b[0;34m\u001b[0m\u001b[0;34m\u001b[0m\u001b[0m\n\u001b[1;32m    899\u001b[0m                     \u001b[0;32mpass\u001b[0m\u001b[0;34m\u001b[0m\u001b[0;34m\u001b[0m\u001b[0m\n\u001b[0;32m--> 900\u001b[0;31m         \u001b[0;32mreturn\u001b[0m \u001b[0mcomplexjson\u001b[0m\u001b[0;34m.\u001b[0m\u001b[0mloads\u001b[0m\u001b[0;34m(\u001b[0m\u001b[0mself\u001b[0m\u001b[0;34m.\u001b[0m\u001b[0mtext\u001b[0m\u001b[0;34m,\u001b[0m \u001b[0;34m**\u001b[0m\u001b[0mkwargs\u001b[0m\u001b[0;34m)\u001b[0m\u001b[0;34m\u001b[0m\u001b[0;34m\u001b[0m\u001b[0m\n\u001b[0m\u001b[1;32m    901\u001b[0m \u001b[0;34m\u001b[0m\u001b[0m\n\u001b[1;32m    902\u001b[0m     \u001b[0;34m@\u001b[0m\u001b[0mproperty\u001b[0m\u001b[0;34m\u001b[0m\u001b[0;34m\u001b[0m\u001b[0m\n",
      "\u001b[0;32m/Library/Frameworks/Python.framework/Versions/3.9/lib/python3.9/json/__init__.py\u001b[0m in \u001b[0;36mloads\u001b[0;34m(s, cls, object_hook, parse_float, parse_int, parse_constant, object_pairs_hook, **kw)\u001b[0m\n\u001b[1;32m    344\u001b[0m             \u001b[0mparse_int\u001b[0m \u001b[0;32mis\u001b[0m \u001b[0;32mNone\u001b[0m \u001b[0;32mand\u001b[0m \u001b[0mparse_float\u001b[0m \u001b[0;32mis\u001b[0m \u001b[0;32mNone\u001b[0m \u001b[0;32mand\u001b[0m\u001b[0;34m\u001b[0m\u001b[0;34m\u001b[0m\u001b[0m\n\u001b[1;32m    345\u001b[0m             parse_constant is None and object_pairs_hook is None and not kw):\n\u001b[0;32m--> 346\u001b[0;31m         \u001b[0;32mreturn\u001b[0m \u001b[0m_default_decoder\u001b[0m\u001b[0;34m.\u001b[0m\u001b[0mdecode\u001b[0m\u001b[0;34m(\u001b[0m\u001b[0ms\u001b[0m\u001b[0;34m)\u001b[0m\u001b[0;34m\u001b[0m\u001b[0;34m\u001b[0m\u001b[0m\n\u001b[0m\u001b[1;32m    347\u001b[0m     \u001b[0;32mif\u001b[0m \u001b[0mcls\u001b[0m \u001b[0;32mis\u001b[0m \u001b[0;32mNone\u001b[0m\u001b[0;34m:\u001b[0m\u001b[0;34m\u001b[0m\u001b[0;34m\u001b[0m\u001b[0m\n\u001b[1;32m    348\u001b[0m         \u001b[0mcls\u001b[0m \u001b[0;34m=\u001b[0m \u001b[0mJSONDecoder\u001b[0m\u001b[0;34m\u001b[0m\u001b[0;34m\u001b[0m\u001b[0m\n",
      "\u001b[0;32m/Library/Frameworks/Python.framework/Versions/3.9/lib/python3.9/json/decoder.py\u001b[0m in \u001b[0;36mdecode\u001b[0;34m(self, s, _w)\u001b[0m\n\u001b[1;32m    335\u001b[0m \u001b[0;34m\u001b[0m\u001b[0m\n\u001b[1;32m    336\u001b[0m         \"\"\"\n\u001b[0;32m--> 337\u001b[0;31m         \u001b[0mobj\u001b[0m\u001b[0;34m,\u001b[0m \u001b[0mend\u001b[0m \u001b[0;34m=\u001b[0m \u001b[0mself\u001b[0m\u001b[0;34m.\u001b[0m\u001b[0mraw_decode\u001b[0m\u001b[0;34m(\u001b[0m\u001b[0ms\u001b[0m\u001b[0;34m,\u001b[0m \u001b[0midx\u001b[0m\u001b[0;34m=\u001b[0m\u001b[0m_w\u001b[0m\u001b[0;34m(\u001b[0m\u001b[0ms\u001b[0m\u001b[0;34m,\u001b[0m \u001b[0;36m0\u001b[0m\u001b[0;34m)\u001b[0m\u001b[0;34m.\u001b[0m\u001b[0mend\u001b[0m\u001b[0;34m(\u001b[0m\u001b[0;34m)\u001b[0m\u001b[0;34m)\u001b[0m\u001b[0;34m\u001b[0m\u001b[0;34m\u001b[0m\u001b[0m\n\u001b[0m\u001b[1;32m    338\u001b[0m         \u001b[0mend\u001b[0m \u001b[0;34m=\u001b[0m \u001b[0m_w\u001b[0m\u001b[0;34m(\u001b[0m\u001b[0ms\u001b[0m\u001b[0;34m,\u001b[0m \u001b[0mend\u001b[0m\u001b[0;34m)\u001b[0m\u001b[0;34m.\u001b[0m\u001b[0mend\u001b[0m\u001b[0;34m(\u001b[0m\u001b[0;34m)\u001b[0m\u001b[0;34m\u001b[0m\u001b[0;34m\u001b[0m\u001b[0m\n\u001b[1;32m    339\u001b[0m         \u001b[0;32mif\u001b[0m \u001b[0mend\u001b[0m \u001b[0;34m!=\u001b[0m \u001b[0mlen\u001b[0m\u001b[0;34m(\u001b[0m\u001b[0ms\u001b[0m\u001b[0;34m)\u001b[0m\u001b[0;34m:\u001b[0m\u001b[0;34m\u001b[0m\u001b[0;34m\u001b[0m\u001b[0m\n",
      "\u001b[0;32m/Library/Frameworks/Python.framework/Versions/3.9/lib/python3.9/json/decoder.py\u001b[0m in \u001b[0;36mraw_decode\u001b[0;34m(self, s, idx)\u001b[0m\n\u001b[1;32m    353\u001b[0m             \u001b[0mobj\u001b[0m\u001b[0;34m,\u001b[0m \u001b[0mend\u001b[0m \u001b[0;34m=\u001b[0m \u001b[0mself\u001b[0m\u001b[0;34m.\u001b[0m\u001b[0mscan_once\u001b[0m\u001b[0;34m(\u001b[0m\u001b[0ms\u001b[0m\u001b[0;34m,\u001b[0m \u001b[0midx\u001b[0m\u001b[0;34m)\u001b[0m\u001b[0;34m\u001b[0m\u001b[0;34m\u001b[0m\u001b[0m\n\u001b[1;32m    354\u001b[0m         \u001b[0;32mexcept\u001b[0m \u001b[0mStopIteration\u001b[0m \u001b[0;32mas\u001b[0m \u001b[0merr\u001b[0m\u001b[0;34m:\u001b[0m\u001b[0;34m\u001b[0m\u001b[0;34m\u001b[0m\u001b[0m\n\u001b[0;32m--> 355\u001b[0;31m             \u001b[0;32mraise\u001b[0m \u001b[0mJSONDecodeError\u001b[0m\u001b[0;34m(\u001b[0m\u001b[0;34m\"Expecting value\"\u001b[0m\u001b[0;34m,\u001b[0m \u001b[0ms\u001b[0m\u001b[0;34m,\u001b[0m \u001b[0merr\u001b[0m\u001b[0;34m.\u001b[0m\u001b[0mvalue\u001b[0m\u001b[0;34m)\u001b[0m \u001b[0;32mfrom\u001b[0m \u001b[0;32mNone\u001b[0m\u001b[0;34m\u001b[0m\u001b[0;34m\u001b[0m\u001b[0m\n\u001b[0m\u001b[1;32m    356\u001b[0m         \u001b[0;32mreturn\u001b[0m \u001b[0mobj\u001b[0m\u001b[0;34m,\u001b[0m \u001b[0mend\u001b[0m\u001b[0;34m\u001b[0m\u001b[0;34m\u001b[0m\u001b[0m\n",
      "\u001b[0;31mJSONDecodeError\u001b[0m: Expecting value: line 1 column 1 (char 0)"
     ]
    }
   ],
   "source": [
    "for_documentation = for_documentation.json()\n",
    "for_documentation = json.dumps(for_documentation)\n",
    "df = pd.read_json(StringIO(for_documentation))\n",
    "df = pd.json_normalize(df.tunit)\n",
    "df.head()"
   ]
  },
  {
   "cell_type": "code",
   "execution_count": null,
   "metadata": {},
   "outputs": [],
   "source": []
  }
 ]
}